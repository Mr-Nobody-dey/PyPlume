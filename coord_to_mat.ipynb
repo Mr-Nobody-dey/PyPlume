{
 "cells": [
  {
   "cell_type": "markdown",
   "metadata": {},
   "source": [
    "# store coordinates in a .mat file\n",
    "\n",
    "Stores the coordinates used in a NetCDF HFR file into a grid in a mat file.\n",
    "\n",
    "Used to test the original plume tracker"
   ]
  },
  {
   "cell_type": "code",
   "execution_count": 1,
   "metadata": {},
   "outputs": [],
   "source": [
    "import numpy as np\n",
    "import scipy.io\n",
    "import xarray as xr\n",
    "\n",
    "from pyplume.constants import DATA_DIR, FIELD_NETCDF_DIR\n",
    "from pyplume.dataloaders import DataLoader"
   ]
  },
  {
   "cell_type": "code",
   "execution_count": 3,
   "metadata": {},
   "outputs": [],
   "source": [
    "dl = DataLoader(FIELD_NETCDF_DIR / \"tj_plume_1km_2020-03.nc\")\n",
    "ds = dl.dataset\n",
    "lats = ds[\"lat\"].values\n",
    "lons = ds[\"lon\"].values"
   ]
  },
  {
   "cell_type": "code",
   "execution_count": 4,
   "metadata": {},
   "outputs": [],
   "source": [
    "mat_dict = {\n",
    "    \"gx\": np.array([np.repeat(lons, lats.size)]).T,\n",
    "    \"gy\": np.array([np.tile(lats, lons.size)]).T,\n",
    "}"
   ]
  },
  {
   "cell_type": "code",
   "execution_count": null,
   "metadata": {},
   "outputs": [],
   "source": [
    "scipy.io.savemat(DATA_DIR / \"sdcodargrid_hfr.mat\", mat_dict)"
   ]
  }
 ],
 "metadata": {
  "kernelspec": {
   "display_name": "Python 3.7.10 ('py3-parcels')",
   "language": "python",
   "name": "python3"
  },
  "language_info": {
   "codemirror_mode": {
    "name": "ipython",
    "version": 3
   },
   "file_extension": ".py",
   "mimetype": "text/x-python",
   "name": "python",
   "nbconvert_exporter": "python",
   "pygments_lexer": "ipython3",
   "version": "3.7.10"
  },
  "vscode": {
   "interpreter": {
    "hash": "0eba6c4b74a2f8ee4f11000f0a8df2ef42b87fd4ae75b12d527f1b8c08aad6c6"
   }
  }
 },
 "nbformat": 4,
 "nbformat_minor": 4
}
