{
 "cells": [
  {
   "cell_type": "markdown",
   "metadata": {},
   "source": [
    "# missing data interpolation\n",
    "\n",
    "statistics is the answer to everything"
   ]
  },
  {
   "cell_type": "markdown",
   "metadata": {},
   "source": [
    "### potential shenanigans\n",
    "\n",
    "\"Several techniques have been used to fill the gaps in either the UWLS or OI derived total vector maps.\n",
    "\n",
    "These are implemented using covariance derived from normal mode analysis (Lipphardt et al. 2000), open-boundary modal analysis (OMA) (Kaplan and Lekien 2007), and empirical orthogonal function (EOF) analysis (Beckers and Rixen 2003; Alvera-Azcárate et al. 2005); and using idealized or smoothed observed covariance (Davis 1985).\"\n",
    "\n",
    "- normal mode analysis\n",
    "- open-boundary modal analysis (OMA)\n",
    "- empirical orthogonal function analysis (EOF)\n",
    "- use idealized/smoothed observed covariance\n",
    "\n",
    "---\n",
    "\n",
    "### other ideas\n",
    "\n",
    "DINEOF (could only find an implementation in R)\n",
    "\n",
    "to be honest I don't understand any of these methods but they look cool"
   ]
  },
  {
   "cell_type": "markdown",
   "metadata": {},
   "source": [
    "### currently implemented:\n",
    "\n",
    "rip data straight from the lower resolution data for areas where data is considered missing in the high resolution data"
   ]
  },
  {
   "cell_type": "code",
   "execution_count": null,
   "metadata": {},
   "outputs": [],
   "source": [
    "%matplotlib inline\n",
    "%load_ext autoreload\n",
    "%autoreload 2"
   ]
  },
  {
   "cell_type": "code",
   "execution_count": null,
   "metadata": {},
   "outputs": [],
   "source": [
    "import math\n",
    "import time\n",
    "import matplotlib.pyplot as plt\n",
    "import xarray as xr\n",
    "import numpy as np\n",
    "from parcels import FieldSet\n",
    "from datetime import timedelta, datetime\n",
    "\n",
    "import utils\n",
    "from parcels_utils import get_file_info, xr_dataset_to_fieldset"
   ]
  },
  {
   "cell_type": "markdown",
   "metadata": {},
   "source": [
    "### target and interp_references\n",
    "\n",
    "`target` is the data you are interpolating.\n",
    "\n",
    "`interp_references` is a list of reference data to interpolate from. A few specifications:\n",
    "- should be ordered from most accurate data to least accurate (highest to lowest resolution)\n",
    "- time domain should be identical or bigger than the one of the target\n",
    "- lat and lon domain should be bigger than the target's to prevent any out-of-bounds complications\n",
    "\n",
    "`mask_nc` must have the exact same lat and lon dimensions of the target"
   ]
  },
  {
   "cell_type": "code",
   "execution_count": null,
   "metadata": {},
   "outputs": [],
   "source": [
    "target = get_file_info(utils.CURRENT_NETCDF_DIR / \"west_coast_1km_hourly/tj_plume.nc\", utils.DATA_1KM, name=\"target\")\n",
    "\n",
    "interp_references = [\n",
    "    get_file_info(utils.CURRENT_NETCDF_DIR / \"west_coast_2km_hourly/tj_plume.nc\", utils.DATA_2KM, name=\"ref2km\"),\n",
    "    get_file_info(utils.CURRENT_NETCDF_DIR / \"west_coast_6km_hourly/tj_plume.nc\", utils.DATA_6KM, name=\"ref6km\")\n",
    "]\n",
    "\n",
    "mask_nc = get_file_info(utils.CURRENT_NETCDF_DIR / \"west_coast_1km_hourly/tj_sample.nc\", utils.DATA_1KM, name=\"sample\")"
   ]
  },
  {
   "cell_type": "markdown",
   "metadata": {},
   "source": [
    "### check validity of interpolation references"
   ]
  },
  {
   "cell_type": "code",
   "execution_count": null,
   "metadata": {},
   "outputs": [],
   "source": [
    "targ_min = (target[\"lat\"][0], target[\"lon\"][0])\n",
    "targ_max = (target[\"lat\"][-1], target[\"lon\"][-1])\n",
    "for ir in interp_references:\n",
    "    print(f\"checking {ir['name']}\")\n",
    "    assert ir[\"lat\"][0] <= targ_min[0]\n",
    "    assert ir[\"lon\"][0] <= targ_min[1]\n",
    "    assert ir[\"lat\"][-1] >= targ_max[0]\n",
    "    assert ir[\"lon\"][-1] >= targ_max[1]\n",
    "    assert ir[\"timerng\"][0] <= target[\"timerng\"][0]\n",
    "    assert ir[\"timerng\"][1] >= target[\"timerng\"][1]\n",
    "assert target[\"res\"] == mask_nc[\"res\"]\n",
    "assert mask_nc[\"lat\"][0] == targ_min[0]\n",
    "assert mask_nc[\"lon\"][0] == targ_min[1]\n",
    "assert mask_nc[\"lat\"][-1] == targ_max[0]\n",
    "assert mask_nc[\"lon\"][-1] == targ_max[1]"
   ]
  },
  {
   "cell_type": "markdown",
   "metadata": {},
   "source": [
    "### interpolation type\n",
    "\n",
    "more information can be found in the `tutorial_interpolation` notebook\n",
    "\n",
    "EDIT: just use `linear`"
   ]
  },
  {
   "cell_type": "code",
   "execution_count": null,
   "metadata": {},
   "outputs": [],
   "source": [
    "reference_interp_method = \"linear\"\n",
    "\n",
    "for r in interp_references:\n",
    "    r[\"fs_flat\"].U.interp_method = reference_interp_method\n",
    "    r[\"fs_flat\"].V.interp_method = reference_interp_method"
   ]
  },
  {
   "cell_type": "markdown",
   "metadata": {},
   "source": [
    "## nan values and parcels\n",
    "\n",
    "note that when this xarray Dataset is passed into parcels, all the nan values change to 0 and the mask generation won't work anymore\n",
    "\n",
    "so the Dataset is copied for use with the FieldSet instead"
   ]
  },
  {
   "cell_type": "code",
   "execution_count": null,
   "metadata": {},
   "outputs": [],
   "source": [
    "no_data = utils.generate_mask_none(mask_nc[\"xrds\"][\"u\"].values)[0]\n",
    "no_data = np.tile(no_data, (target[\"xrds\"][\"time\"].size, 1, 1))\n",
    "invalid = utils.generate_mask_invalid(target[\"xrds\"][\"u\"].values)\n",
    "invalid_pos = np.where(invalid)\n",
    "num_invalid = invalid.sum()\n",
    "print(f\"total invalid values on target data: {num_invalid}\")"
   ]
  },
  {
   "cell_type": "markdown",
   "metadata": {},
   "source": [
    "### use of Parcels Field for interpolation\n",
    "\n",
    "indexing Field values goes [time, depth, lat, lon]\n",
    "\n",
    "Field does linear interpolation automatically when indexing values between it's coordinate values"
   ]
  },
  {
   "cell_type": "markdown",
   "metadata": {},
   "source": [
    "### note\n",
    "\n",
    "https://stackoverflow.com/questions/12923586/nearest-neighbor-search-python\n",
    "\n",
    "in theory, the latitude and longitude values are equally spaced. however, the difference between the coordinate values always flucuates a very small amount between two distinct values, so it's not perfectly equally spaced.\n",
    "\n",
    "from testing, this causes enough error to completely change a simulation, so a kdtree must be used.\n",
    "\n",
    "### another note\n",
    "\n",
    "I just looked at the particle trajectory that used the indexing without kd trees and it looked MAJORLY fucked up, so I probably wrote something wrong with the method. TODO will come back to this later."
   ]
  },
  {
   "cell_type": "code",
   "execution_count": null,
   "metadata": {},
   "outputs": [],
   "source": [
    "import scipy.spatial\n",
    "\n",
    "# set up kdtrees for all references\n",
    "for f in interp_references:\n",
    "    f[\"latkdtree\"] = scipy.spatial.cKDTree(np.array([f[\"lat\"]]).T)\n",
    "    f[\"lonkdtree\"] = scipy.spatial.cKDTree(np.array([f[\"lon\"]]).T)"
   ]
  },
  {
   "cell_type": "code",
   "execution_count": null,
   "metadata": {},
   "outputs": [],
   "source": [
    "def get_nearest_current(ref, t, lat, lon):\n",
    "    index = (t, ref[\"latkdtree\"].query([lat])[1], ref[\"lonkdtree\"].query([lon])[1])\n",
    "    return ref[\"xrds\"][\"u\"].values[index], ref[\"xrds\"][\"v\"].values[index]\n",
    "\n",
    "\n",
    "def get_current_interp(ref, t, lat, lon):\n",
    "    return ref[\"fs_flat\"].U[t, 0, lat, lon], ref[\"fs_flat\"].V[t, 0, lat, lon]\n",
    "\n",
    "\n",
    "def get_interped(i, ref, invalid_where):\n",
    "    \"\"\"\n",
    "    Args:\n",
    "        i (int): index on invalid_where\n",
    "        ref (dict): reference Dataset\n",
    "        invalid_where (array-like): (3, n) dimensional array representing all invalid positions\n",
    "    \n",
    "    Returns:\n",
    "        (u, v): (nan, nan) if no data was found, interpolated values otherwise\n",
    "    \"\"\"\n",
    "    time_diff = np.diff(ref[\"fs_flat\"].U.grid.time)[0]\n",
    "    t = invalid_where[0][i]\n",
    "    lat = target[\"lat\"][invalid_where[1][i]]\n",
    "    lon = target[\"lon\"][invalid_where[2][i]]\n",
    "    current_u, current_v = get_current_interp(ref, t * time_diff, lat, lon)\n",
    "    current_abs = abs(current_u) + abs(current_v)\n",
    "    # if both the u and v components are 0, there's probably no data there\n",
    "    if np.isnan(get_nearest_current(ref, t, lat, lon)[0]) or current_abs == 0:\n",
    "        return np.nan, np.nan\n",
    "    return current_u, current_v"
   ]
  },
  {
   "cell_type": "markdown",
   "metadata": {},
   "source": [
    "### linear interpolation using lower resolution data"
   ]
  },
  {
   "cell_type": "code",
   "execution_count": null,
   "metadata": {},
   "outputs": [],
   "source": [
    "target_interped_u = target[\"xrds\"][\"u\"].values.copy()\n",
    "target_interped_v = target[\"xrds\"][\"v\"].values.copy()\n",
    "invalid_interped = invalid.copy()\n",
    "for f in interp_references:\n",
    "    invalid_pos_new = np.where(invalid_interped)\n",
    "    num_invalid_new = invalid_interped.sum()\n",
    "    arr_u = np.zeros(num_invalid_new)\n",
    "    arr_v = np.zeros(num_invalid_new)\n",
    "    for i in range(num_invalid_new):\n",
    "        c_u, c_v = get_interped(i, f, invalid_pos_new)\n",
    "        arr_u[i] = c_u\n",
    "        arr_v[i] = c_v\n",
    "    target_interped_u[invalid_pos_new] = arr_u\n",
    "    target_interped_v[invalid_pos_new] = arr_v\n",
    "    invalid_interped = utils.generate_mask_invalid(target_interped_u)\n",
    "    print(f\"total invalid values after interpolation with {f['name']}: {invalid_interped.sum()}\")\n",
    "    print(f\"    values filled: {num_invalid_new - invalid_interped.sum()}\")"
   ]
  },
  {
   "cell_type": "code",
   "execution_count": null,
   "metadata": {},
   "outputs": [],
   "source": [
    "print(f\"total invalid values on interpolated: {invalid_interped.sum()}\")"
   ]
  },
  {
   "cell_type": "markdown",
   "metadata": {},
   "source": [
    "## even more filling with PLS and smoothing with DCT shenanigans\n",
    "\n",
    "uses the matlab engine and smoothn.m\n",
    "\n",
    "https://www.mathworks.com/help/matlab/matlab-engine-for-python.html\n",
    "\n",
    "https://www.mathworks.com/matlabcentral/fileexchange/25634-smoothn"
   ]
  },
  {
   "cell_type": "code",
   "execution_count": null,
   "metadata": {},
   "outputs": [],
   "source": [
    "import matlab.engine\n",
    "\n",
    "eng = matlab.engine.start_matlab()\n",
    "\n",
    "u_list = target_interped_u.tolist()\n",
    "v_list = target_interped_v.tolist()\n",
    "\n",
    "for i in range(len(u_list)):\n",
    "    uv_mat = matlab.double([u_list[i], v_list[i]])\n",
    "    uv_smooth = eng.smoothn(uv_mat, \"robust\")\n",
    "    uv_array = np.empty(uv_smooth.size)\n",
    "    uv_array[:] = uv_smooth\n",
    "    target_interped_u[i] = uv_array[0]\n",
    "    target_interped_v[i] = uv_array[1]\n",
    "    \n",
    "target_interped_u[np.where(no_data)] = np.nan\n",
    "target_interped_v[np.where(no_data)] = np.nan"
   ]
  },
  {
   "cell_type": "markdown",
   "metadata": {},
   "source": [
    "### formatting and saving"
   ]
  },
  {
   "cell_type": "code",
   "execution_count": null,
   "metadata": {},
   "outputs": [],
   "source": [
    "# re-add coordinates, dimensions, and metadata to interpolated data\n",
    "darr_u = utils.conv_to_dataarray(target_interped_u, target[\"xrds\"][\"u\"])\n",
    "darr_v = utils.conv_to_dataarray(target_interped_v, target[\"xrds\"][\"v\"])\n",
    "target_interped_xrds = target[\"xrds\"].drop_vars([\"u\", \"v\"]).assign(u=darr_u, v=darr_v)"
   ]
  },
  {
   "cell_type": "code",
   "execution_count": null,
   "metadata": {},
   "outputs": [],
   "source": [
    "save_path = str(target[\"path\"]).split(\".nc\")[0] + \"_interped.nc\"\n",
    "target_interped_xrds.to_netcdf(save_path)\n",
    "print(f\"saved to {save_path}\")"
   ]
  },
  {
   "cell_type": "markdown",
   "metadata": {},
   "source": [
    "### display field to see if interpolation worked"
   ]
  },
  {
   "cell_type": "code",
   "execution_count": null,
   "metadata": {},
   "outputs": [],
   "source": [
    "fs_interp = xr_dataset_to_fieldset(target_interped_xrds)\n",
    "target[\"fs\"].U.show()  # uninterpolated\n",
    "fs_interp.U.show()  # interpolated, gapfilled, smoothed"
   ]
  }
 ],
 "metadata": {
  "kernelspec": {
   "display_name": "py3_parcels",
   "language": "python",
   "name": "py3_parcels"
  },
  "language_info": {
   "codemirror_mode": {
    "name": "ipython",
    "version": 3
   },
   "file_extension": ".py",
   "mimetype": "text/x-python",
   "name": "python",
   "nbconvert_exporter": "python",
   "pygments_lexer": "ipython3",
   "version": "3.6.10"
  }
 },
 "nbformat": 4,
 "nbformat_minor": 4
}
