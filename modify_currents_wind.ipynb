{
 "cells": [
  {
   "cell_type": "code",
   "execution_count": null,
   "id": "ebb04f08",
   "metadata": {},
   "outputs": [],
   "source": [
    "import xarray as xr"
   ]
  },
  {
   "cell_type": "code",
   "execution_count": null,
   "id": "cdd6db78",
   "metadata": {},
   "outputs": [],
   "source": [
    "ds = xr.open_dataset(\"current_netcdfs/tj_plume_2020-02_ThreddsCode.USWC_1KM_HOURLY_interped.nc\")\n",
    "ds_wind = xr.open_dataset(\"current_netcdfs/Hunington_wind.nc\")"
   ]
  },
  {
   "cell_type": "code",
   "execution_count": null,
   "id": "2508e24a",
   "metadata": {},
   "outputs": [],
   "source": [
    "ds_wind.sel(time=ds[\"time\"][0].values, method=\"nearest\")[\"U\"].values.item()"
   ]
  }
 ],
 "metadata": {
  "kernelspec": {
   "display_name": "py3-parcels",
   "language": "python",
   "name": "py3-parcels"
  },
  "language_info": {
   "codemirror_mode": {
    "name": "ipython",
    "version": 3
   },
   "file_extension": ".py",
   "mimetype": "text/x-python",
   "name": "python",
   "nbconvert_exporter": "python",
   "pygments_lexer": "ipython3",
   "version": "3.7.10"
  }
 },
 "nbformat": 4,
 "nbformat_minor": 5
}
