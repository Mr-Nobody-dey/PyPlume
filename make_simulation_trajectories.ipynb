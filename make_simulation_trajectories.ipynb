{
 "cells": [
  {
   "cell_type": "markdown",
   "id": "olive-termination",
   "metadata": {},
   "source": [
    "# make_simulation_trajectories\n",
    "\n",
    "like make_simulation_gif except it makes a single plot with the path itself"
   ]
  },
  {
   "cell_type": "code",
   "execution_count": null,
   "id": "closing-syndicate",
   "metadata": {},
   "outputs": [],
   "source": [
    "%matplotlib inline\n",
    "%load_ext autoreload\n",
    "%autoreload 2"
   ]
  },
  {
   "cell_type": "code",
   "execution_count": null,
   "id": "aware-london",
   "metadata": {},
   "outputs": [],
   "source": [
    "import os\n",
    "\n",
    "import numpy as np\n",
    "from parcels import FieldSet\n",
    "import xarray as xr\n",
    "\n",
    "import utils\n",
    "from parcels_utils import buoycsv_to_particleds, convert_lon_readings\n",
    "from plot_utils import plot_trajectories"
   ]
  },
  {
   "cell_type": "code",
   "execution_count": null,
   "id": "dense-juice",
   "metadata": {},
   "outputs": [],
   "source": [
    "save_to = utils.PICUTRE_DIR / \"buoy_comp.png\"\n",
    "pf_thredds = utils.PARTICLE_NETCDF_DIR / \"particle_thredds_buoy.nc\"\n",
    "pf_erddap_griddap = utils.PARTICLE_NETCDF_DIR / \"particle_erddap_buoy.nc\"\n",
    "pf_erddap_forecast = utils.PARTICLE_NETCDF_DIR / \"particle_erddap_buoy_forecast.nc\"\n",
    "buoy_id = \"704-02\"\n",
    "csv_path = utils.WAVEBUOY_DATA_DIR / f\"wavebuoy_{buoy_id}.csv\"\n",
    "buoy_ds = buoycsv_to_particleds(csv_path)\n",
    "buoy_ds_selected = buoy_ds.sel(obs=slice(95, 145))\n",
    "domain = {}\n",
    "domain[\"W\"] = -117.9\n",
    "domain[\"E\"] = -117.65\n",
    "domain[\"S\"] = 32.35\n",
    "domain[\"N\"] = 32.9"
   ]
  },
  {
   "cell_type": "code",
   "execution_count": null,
   "id": "unknown-image",
   "metadata": {},
   "outputs": [],
   "source": [
    "start = buoy_ds_selected[\"time\"].isel(traj=0, obs=0).values\n",
    "start = np.datetime64(start, \"s\")\n",
    "start"
   ]
  },
  {
   "cell_type": "code",
   "execution_count": null,
   "id": "recovered-vessel",
   "metadata": {},
   "outputs": [],
   "source": [
    "plot_trajectories([buoy_ds_selected, pf_thredds, pf_erddap_griddap, pf_erddap_forecast], [f\"buoy {buoy_id}\", \"thredds\", \"erddap griddap\", \"erddap forecast\"], domain=domain, savefile=save_to, titlestr=f\"Particle simulation compared to buoy path\\nStarted at {start}\", figsize=(10, 10))"
   ]
  }
 ],
 "metadata": {
  "kernelspec": {
   "display_name": "py3_parcels",
   "language": "python",
   "name": "py3_parcels"
  },
  "language_info": {
   "codemirror_mode": {
    "name": "ipython",
    "version": 3
   },
   "file_extension": ".py",
   "mimetype": "text/x-python",
   "name": "python",
   "nbconvert_exporter": "python",
   "pygments_lexer": "ipython3",
   "version": "3.6.10"
  }
 },
 "nbformat": 4,
 "nbformat_minor": 5
}
