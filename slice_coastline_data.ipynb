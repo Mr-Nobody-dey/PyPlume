{
 "cells": [
  {
   "cell_type": "markdown",
   "id": "3607f92e",
   "metadata": {},
   "source": [
    "# code to slice coastline data\n",
    "\n",
    "if the coastline is very, very big and mostly unneccessary, this is what I did to slice portions of relevant coastline"
   ]
  },
  {
   "cell_type": "code",
   "execution_count": null,
   "id": "fc8f35e6",
   "metadata": {},
   "outputs": [],
   "source": [
    "import matplotlib.pyplot as plt\n",
    "import numpy as np\n",
    "import scipy.io\n",
    "import xarray as xr\n",
    "\n",
    "import pyplume.plotting as plotting\n",
    "import pyplume.utils as utils\n",
    "from pyplume.constants import *"
   ]
  },
  {
   "cell_type": "code",
   "execution_count": null,
   "id": "396a21ba",
   "metadata": {},
   "outputs": [],
   "source": [
    "points = scipy.io.loadmat(\"matlab/coastOR2Mex.mat\")[\"OR2Mex\"]\n",
    "points"
   ]
  },
  {
   "cell_type": "code",
   "execution_count": null,
   "id": "635e7e9f",
   "metadata": {},
   "outputs": [],
   "source": [
    "lons = points.T[0]\n",
    "lats = points.T[1]"
   ]
  },
  {
   "cell_type": "code",
   "execution_count": null,
   "id": "0f365b18",
   "metadata": {},
   "outputs": [],
   "source": [
    "np.where(np.isnan(lons))"
   ]
  },
  {
   "cell_type": "code",
   "execution_count": null,
   "id": "47bf25ad",
   "metadata": {},
   "outputs": [],
   "source": [
    "lon_borders = np.split(lons, np.where(np.isnan(lons))[0])\n",
    "lat_borders = np.split(lats, np.where(np.isnan(lats))[0])"
   ]
  },
  {
   "cell_type": "code",
   "execution_count": null,
   "id": "dd62f259",
   "metadata": {},
   "outputs": [],
   "source": [
    "plt.plot(lon_borders[1], lat_borders[1])"
   ]
  },
  {
   "cell_type": "code",
   "execution_count": null,
   "id": "cfec4f41",
   "metadata": {},
   "outputs": [],
   "source": [
    "fig, ax = plotting.get_carree_axis(TIJUANA_MOUTH_DOMAIN, land=False)\n",
    "plotting.get_carree_gl(ax)\n",
    "idxs = []\n",
    "for i in range(len(lon_borders)):\n",
    "    lons = lon_borders[i][1:]\n",
    "    lats = lat_borders[i][1:]\n",
    "    if ((lats < 32.77) & (lats > 32.5)).any():\n",
    "        idxs.append(i)\n",
    "        ax.plot(lons, lats)"
   ]
  },
  {
   "cell_type": "code",
   "execution_count": null,
   "id": "0d42a887",
   "metadata": {},
   "outputs": [],
   "source": [
    "\", \".join([str(a) for a in idxs])"
   ]
  },
  {
   "cell_type": "code",
   "execution_count": null,
   "id": "004687b2",
   "metadata": {},
   "outputs": [],
   "source": [
    "tijuana_idxs = np.array(\n",
    "    [\n",
    "        3692,\n",
    "        3693,\n",
    "        3694,\n",
    "        3695,\n",
    "        3696,\n",
    "        3697,\n",
    "        3698,\n",
    "        3699,\n",
    "        3700,\n",
    "        3701,\n",
    "        3702,\n",
    "        3703,\n",
    "        3704,\n",
    "        3705,\n",
    "        3706,\n",
    "        3707,\n",
    "        3708,\n",
    "        3709,\n",
    "        3710,\n",
    "        3711,\n",
    "        3712,\n",
    "        3713,\n",
    "        3714,\n",
    "        3715,\n",
    "        3716,\n",
    "        3717,\n",
    "        3718,\n",
    "        3719,\n",
    "        3720,\n",
    "        3721,\n",
    "        3722,\n",
    "        3723,\n",
    "        3724,\n",
    "        3725,\n",
    "        3726,\n",
    "        3727,\n",
    "        3728,\n",
    "        3729,\n",
    "        4767,\n",
    "    ]\n",
    ")"
   ]
  },
  {
   "cell_type": "code",
   "execution_count": null,
   "id": "240f95ba",
   "metadata": {},
   "outputs": [],
   "source": [
    "fig, ax = plotting.get_carree_axis(TIJUANA_RIVER_DOMAIN, land=False)\n",
    "plotting.get_carree_gl(ax)\n",
    "ax.plot(lons, lats)"
   ]
  },
  {
   "cell_type": "code",
   "execution_count": null,
   "id": "d5c78c80",
   "metadata": {},
   "outputs": [],
   "source": [
    "TIJUANA_MOUTH_DOMAIN"
   ]
  },
  {
   "cell_type": "code",
   "execution_count": null,
   "id": "8967b251",
   "metadata": {},
   "outputs": [],
   "source": [
    "fig, ax = plotting.get_carree_axis(TIJUANA_MOUTH_DOMAIN, land=True)\n",
    "plotting.get_carree_gl(ax)\n",
    "ax.scatter(lons[-100:], lats[-100:])\n",
    "ax.scatter(TIJUANA_MOUTH_POSITION[1], TIJUANA_MOUTH_POSITION[0])"
   ]
  }
 ],
 "metadata": {
  "kernelspec": {
   "display_name": "Python 3.7.10 ('py3-parcels')",
   "language": "python",
   "name": "python3"
  },
  "language_info": {
   "codemirror_mode": {
    "name": "ipython",
    "version": 3
   },
   "file_extension": ".py",
   "mimetype": "text/x-python",
   "name": "python",
   "nbconvert_exporter": "python",
   "pygments_lexer": "ipython3",
   "version": "3.7.10"
  },
  "vscode": {
   "interpreter": {
    "hash": "0eba6c4b74a2f8ee4f11000f0a8df2ef42b87fd4ae75b12d527f1b8c08aad6c6"
   }
  }
 },
 "nbformat": 4,
 "nbformat_minor": 5
}
