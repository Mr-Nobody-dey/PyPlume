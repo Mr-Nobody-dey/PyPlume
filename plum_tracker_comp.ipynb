{
 "cells": [
  {
   "cell_type": "markdown",
   "metadata": {},
   "source": [
    "# comparison with plume tracker outputs\n",
    "\n",
    "because"
   ]
  },
  {
   "cell_type": "code",
   "execution_count": null,
   "metadata": {},
   "outputs": [],
   "source": [
    "%matplotlib inline\n",
    "%load_ext autoreload\n",
    "%autoreload 2"
   ]
  },
  {
   "cell_type": "code",
   "execution_count": null,
   "metadata": {},
   "outputs": [],
   "source": [
    "import numpy as np\n",
    "import matplotlib.pyplot as plt\n",
    "import scipy.io\n",
    "\n",
    "from utils import create_gif\n",
    "from plot_utils import get_carree_axis, plot_particles"
   ]
  },
  {
   "cell_type": "code",
   "execution_count": null,
   "metadata": {},
   "outputs": [],
   "source": [
    "TIJUANA_RIVER_DOMAIN = dict(\n",
    "    S=32.528,\n",
    "    N=32.71,\n",
    "    W=-117.29,\n",
    "    E=-117.11,\n",
    ")\n",
    "CLOSE_TIJUANA_DOMAIN = dict(\n",
    "    S=32.53,\n",
    "    N=32.5825,\n",
    "    W=-117.162,\n",
    "    E=-117.105,\n",
    ")\n",
    "THING_DOMAIN = {\n",
    "    \"S\": 32.41,\n",
    "    \"N\": 32.7,\n",
    "    \"W\": -117.25,\n",
    "    \"E\": -117\n",
    "}"
   ]
  },
  {
   "cell_type": "code",
   "execution_count": null,
   "metadata": {},
   "outputs": [],
   "source": [
    "file_prefix = \"pts_20200810_\"\n",
    "start = 30\n",
    "incr = 100"
   ]
  },
  {
   "cell_type": "code",
   "execution_count": null,
   "metadata": {
    "scrolled": false
   },
   "outputs": [],
   "source": [
    "for i in range(start, 2400, incr):\n",
    "    name = f\"mat/{file_prefix}{str(i).zfill(4)}.mat\"\n",
    "    try:\n",
    "        data = scipy.io.loadmat(name)\n",
    "        plot_particles(\n",
    "            data[\"yf\"], data[\"xf\"], None, THING_DOMAIN,\n",
    "            show=False, savefile=f\"mat/snap/s{str(i).zfill(4)}.png\", part_size=1,\n",
    "            titlestr=f\"particles at {i}\"\n",
    "        )\n",
    "    except FileNotFoundError:\n",
    "        print(f\"file {name} not found\")"
   ]
  },
  {
   "cell_type": "code",
   "execution_count": null,
   "metadata": {},
   "outputs": [],
   "source": [
    "create_gif(25, \"mat/snap/s*.png\", \"mat/g.gif\")"
   ]
  }
 ],
 "metadata": {
  "kernelspec": {
   "display_name": "py3_parcels",
   "language": "python",
   "name": "py3_parcels"
  },
  "language_info": {
   "codemirror_mode": {
    "name": "ipython",
    "version": 3
   },
   "file_extension": ".py",
   "mimetype": "text/x-python",
   "name": "python",
   "nbconvert_exporter": "python",
   "pygments_lexer": "ipython3",
   "version": "3.6.10"
  }
 },
 "nbformat": 4,
 "nbformat_minor": 4
}
