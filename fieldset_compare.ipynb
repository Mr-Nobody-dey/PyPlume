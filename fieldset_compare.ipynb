{
 "cells": [
  {
   "cell_type": "markdown",
   "metadata": {},
   "source": [
    "# fieldset_compare\n",
    "\n",
    "compare the vector fields of different fieldsets\n",
    "\n",
    "mainly used for checking the differences between the plume tracker OI data vs the thredds data"
   ]
  },
  {
   "cell_type": "code",
   "execution_count": null,
   "metadata": {},
   "outputs": [],
   "source": [
    "%matplotlib inline\n",
    "%load_ext autoreload\n",
    "%autoreload 2"
   ]
  },
  {
   "cell_type": "code",
   "execution_count": null,
   "metadata": {},
   "outputs": [],
   "source": [
    "from datetime import timedelta\n",
    "import math\n",
    "\n",
    "import cartopy\n",
    "import cartopy.crs as ccrs\n",
    "import xarray as xr\n",
    "import numpy as np\n",
    "import matplotlib.pyplot as plt\n",
    "from parcels import FieldSet, ParticleSet, JITParticle, AdvectionRK4, ErrorCode, ParticleFile\n",
    "import scipy.spatial\n",
    "\n",
    "import pyplume.utils as utils\n",
    "from pyplume.parcels_utils import get_file_info\n",
    "from pyplume.plotting import get_carree_axis, get_carree_gl"
   ]
  },
  {
   "cell_type": "code",
   "execution_count": null,
   "metadata": {},
   "outputs": [],
   "source": [
    "files = [\n",
    "    get_file_info(utils.CURRENT_NETCDF_DIR / \"west_coast_1km_hourly/tj_plume_2020-08_interped.nc\", 1, name=\"tj_plume\"),\n",
    "    get_file_info(utils.CURRENT_NETCDF_DIR / \"Tot_SDLJ_20200801.nc\", 1, name=\"tot_sdlj\"),\n",
    "]\n",
    "\n",
    "# if lat and lon dimensions are the same, the stuff will run MUCH quicker\n",
    "dimensions_same = True"
   ]
  },
  {
   "cell_type": "markdown",
   "metadata": {},
   "source": [
    "### comparing fieldset vectors\n",
    "\n",
    "takes the first vector field, and checks each vector. finds the closest vector in the second vector field, and finds their angle and magnitude difference\n",
    "\n",
    "note it might take a few minutes to run"
   ]
  },
  {
   "cell_type": "code",
   "execution_count": null,
   "metadata": {},
   "outputs": [],
   "source": [
    "def get_nearest_index(ref, lat, lon):\n",
    "    return ref[\"latkdtree\"].query([lat])[1], ref[\"lonkdtree\"].query([lon])[1]"
   ]
  },
  {
   "cell_type": "code",
   "execution_count": null,
   "metadata": {},
   "outputs": [],
   "source": [
    "# set up kdtrees because im lazy\n",
    "for f in files:\n",
    "    f[\"latkdtree\"] = scipy.spatial.cKDTree(np.array([f[\"lat\"]]).T)\n",
    "    f[\"lonkdtree\"] = scipy.spatial.cKDTree(np.array([f[\"lon\"]]).T)"
   ]
  },
  {
   "cell_type": "code",
   "execution_count": null,
   "metadata": {
    "scrolled": true
   },
   "outputs": [],
   "source": [
    "# kind of hardcoded\n",
    "ang_diff = np.full(files[0][\"xrds\"][\"u\"].shape, np.nan, dtype=np.float32)\n",
    "mag_diff = np.full(ang_diff.shape, np.nan, dtype=np.float32)\n",
    "\n",
    "if not dimensions_same:\n",
    "    for t, i, j in np.ndindex(ang_diff.shape):\n",
    "        time = files[0][\"xrds\"][\"time\"].values[t]\n",
    "        u = files[0][\"xrds\"][\"u\"].values[t, i, j]\n",
    "        if np.isnan(u) or time not in files[1][\"xrds\"][\"time\"]:\n",
    "            continue\n",
    "        # OI data is missing some time values\n",
    "        t_other = np.where(files[1][\"xrds\"][\"time\"].values == time)[0]\n",
    "        if t_other.size == 0:\n",
    "            continue\n",
    "        else:\n",
    "            t_other = t_other[0]\n",
    "        lat = files[0][\"xrds\"][\"lat\"][i].values\n",
    "        lon = files[0][\"xrds\"][\"lon\"][j].values\n",
    "        lat_ind, lon_ind = get_nearest_index(files[1], lat, lon)\n",
    "    #     print(utils.haversine(lat, files[1][\"xrds\"][\"lat\"].values[lat_ind], lon, files[1][\"xrds\"][\"lon\"].values[lon_ind]))\n",
    "        if abs(lat - files[1][\"xrds\"][\"lat\"].values[lat_ind]) > 0.00903 or abs(lon - files[1][\"xrds\"][\"lon\"].values[lon_ind]) > 0.0107:\n",
    "            continue\n",
    "        v = files[0][\"xrds\"][\"v\"].values[t, i, j]\n",
    "        u_other = files[1][\"xrds\"][\"u\"].values[t_other, lat_ind, lon_ind]\n",
    "        v_other = files[1][\"xrds\"][\"v\"].values[t_other, lat_ind, lon_ind]\n",
    "        mag = np.sqrt(u * u + v * v)\n",
    "        mag_other = np.sqrt(u_other * u_other + v_other * v_other)\n",
    "        dot_mag_rat = (u * u_other + v * v_other) / (mag * mag_other)\n",
    "        # rounding errors cause arccos to go out of domain\n",
    "        if dot_mag_rat > 1:\n",
    "            ang = 0\n",
    "        elif dot_mag_rat < -1:\n",
    "            ang = 180\n",
    "        else:\n",
    "            ang = np.arccos(dot_mag_rat) * 180 / math.pi\n",
    "        ang_diff[t, i, j] = ang\n",
    "        mag_diff[t, i, j] = abs(mag - mag_other)\n",
    "else:\n",
    "    # runs mUCH MUCH quicker\n",
    "    for t in range(ang_diff.shape[0]):\n",
    "        time = files[0][\"xrds\"][\"time\"].values[t]\n",
    "        u = files[0][\"xrds\"][\"u\"].values[t]\n",
    "        v = files[0][\"xrds\"][\"v\"].values[t]\n",
    "        t_other = np.where(files[1][\"xrds\"][\"time\"].values == time)[0]\n",
    "        if t_other.size == 0:\n",
    "            print(f\"time {time} missing\")\n",
    "            continue\n",
    "        else:\n",
    "            t_other = t_other[0]\n",
    "        u_other = files[1][\"xrds\"][\"u\"].values[t_other]\n",
    "        v_other = files[1][\"xrds\"][\"v\"].values[t_other]\n",
    "        mag = np.sqrt(u * u + v * v)\n",
    "        mag_other = np.sqrt(u_other * u_other + v_other * v_other)\n",
    "        dot_mag_rat = (u * u_other + v * v_other) / (mag * mag_other)\n",
    "        # rounding errors cause arccos to go out of domain\n",
    "        dot_mag_rat[np.where(dot_mag_rat > 1)] = 1\n",
    "        dot_mag_rat[np.where(dot_mag_rat < -1)] = -1\n",
    "        ang = np.arccos(dot_mag_rat) * 180 / math.pi\n",
    "        ang_diff[t] = ang\n",
    "        mag_diff[t] = abs(mag - mag_other)"
   ]
  },
  {
   "cell_type": "code",
   "execution_count": null,
   "metadata": {},
   "outputs": [],
   "source": [
    "np.nanmean(ang_diff), np.nanmedian(ang_diff), np.nanmax(ang_diff)"
   ]
  },
  {
   "cell_type": "code",
   "execution_count": null,
   "metadata": {},
   "outputs": [],
   "source": [
    "np.nanmean(mag_diff), np.nanmedian(mag_diff), np.nanmax(mag_diff)"
   ]
  },
  {
   "cell_type": "code",
   "execution_count": null,
   "metadata": {},
   "outputs": [],
   "source": [
    "ang_means = np.nanmean(ang_diff, axis=0)\n",
    "mag_means = np.nanmean(mag_diff, axis=0)"
   ]
  },
  {
   "cell_type": "markdown",
   "metadata": {},
   "source": [
    "distribution of measure differences"
   ]
  },
  {
   "cell_type": "code",
   "execution_count": null,
   "metadata": {},
   "outputs": [],
   "source": [
    "plt.hist(ang_diff[np.where(~np.isnan(ang_diff))].flatten())\n",
    "plt.title(\"angle differences (degrees)\")\n",
    "plt.show()\n",
    "plt.hist(mag_diff[np.where(~np.isnan(mag_diff))].flatten())\n",
    "plt.title(\"magnitude differences (m/s)\")\n",
    "plt.show()"
   ]
  },
  {
   "cell_type": "markdown",
   "metadata": {},
   "source": [
    "generate heatmaps of measure differences"
   ]
  },
  {
   "cell_type": "code",
   "execution_count": null,
   "metadata": {},
   "outputs": [],
   "source": [
    "lon, lat = np.meshgrid(files[0][\"xrds\"][\"lon\"].values, files[0][\"xrds\"][\"lat\"].values)\n",
    "first_time = np.datetime64(files[0][\"timerng\"][0], \"M\")\n",
    "deg_diff_dir = utils.get_dir(utils.PICUTRE_DIR / \"fs_comp_angle\")\n",
    "\n",
    "dom = files[0][\"domain\"]\n",
    "dom[\"S\"] = 32.3\n",
    "ax = get_carree_axis(dom)\n",
    "gl = get_carree_gl(ax)\n",
    "plt.contourf(lon, lat, ang_means, np.linspace(0, np.nanmax(ang_means), 30), cmap='inferno')\n",
    "plt.title(f\"Avg vector degree diff ({first_time})\")\n",
    "plt.colorbar()\n",
    "plt.savefig(deg_diff_dir / f\"heat_deg_{first_time}\")\n",
    "plt.show()"
   ]
  },
  {
   "cell_type": "code",
   "execution_count": null,
   "metadata": {},
   "outputs": [],
   "source": [
    "deg_diff_dir = utils.get_dir(utils.PICUTRE_DIR / \"fs_comp_mag\")\n",
    "\n",
    "ax = get_carree_axis(dom)\n",
    "gl = get_carree_gl(ax)\n",
    "plt.contourf(lon, lat, mag_means, np.linspace(0, np.nanmax(mag_means), 20), cmap='inferno')\n",
    "plt.title(f\"Avg magnitude diff (m/s) ({first_time})\")\n",
    "plt.colorbar()\n",
    "plt.savefig(deg_diff_dir / f\"heat_mag_{first_time}\")\n",
    "plt.show()"
   ]
  }
 ],
 "metadata": {
  "kernelspec": {
   "display_name": "py3-parcels",
   "language": "python",
   "name": "py3-parcels"
  },
  "language_info": {
   "codemirror_mode": {
    "name": "ipython",
    "version": 3
   },
   "file_extension": ".py",
   "mimetype": "text/x-python",
   "name": "python",
   "nbconvert_exporter": "python",
   "pygments_lexer": "ipython3",
   "version": "3.7.10"
  }
 },
 "nbformat": 4,
 "nbformat_minor": 4
}
