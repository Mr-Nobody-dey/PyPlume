{
 "cells": [
  {
   "cell_type": "code",
   "execution_count": null,
   "metadata": {},
   "outputs": [],
   "source": [
    "import matplotlib.pyplot as plt\n",
    "import numpy as np\n",
    "from scipy.stats import kde\n",
    "import xarray as xr\n",
    "\n",
    "from pyplume.plotting import get_carree_axis, get_carree_gl\n",
    "from pyplume.plot_features import NanSeparatedFeature\n",
    "import pyplume.constants as constants"
   ]
  },
  {
   "cell_type": "code",
   "execution_count": null,
   "metadata": {},
   "outputs": [],
   "source": [
    "ds = xr.open_dataset(\"results/simulation_tijuana_2020-03_alongshore_2022-09-26T14-31-57/particlefile.nc\")"
   ]
  },
  {
   "cell_type": "code",
   "execution_count": null,
   "metadata": {},
   "outputs": [],
   "source": [
    "lats = ds[\"lat\"].values\n",
    "lats = lats[~np.isnan(lats)].flatten()\n",
    "lons = ds[\"lon\"].values\n",
    "lons = lons[~np.isnan(lons)].flatten()\n",
    "domain = {\n",
    "    \"S\": lats.min(),\n",
    "    \"N\": lats.max(),\n",
    "    \"W\": lons.min(),\n",
    "    \"E\": lons.max()\n",
    "}\n",
    "domain = constants.TIJUANA_RIVER_DOMAIN"
   ]
  },
  {
   "cell_type": "code",
   "execution_count": null,
   "metadata": {},
   "outputs": [],
   "source": [
    "coastline = NanSeparatedFeature.load_from_external(\"data/coastOR2Mex_tijuana.mat\", color=\"k\")"
   ]
  },
  {
   "cell_type": "code",
   "execution_count": null,
   "metadata": {},
   "outputs": [],
   "source": [
    "import seaborn as sns\n",
    "\n",
    "fig, ax = get_carree_axis(constants.TIJUANA_RIVER_DOMAIN, land=False)\n",
    "get_carree_gl(ax)\n",
    "axhist = sns.histplot(x=lons, y=lats, bins=100, cbar=True, ax=ax)\n",
    "coastline.add_to_plot(fig, ax, None, None, None)"
   ]
  },
  {
   "cell_type": "code",
   "execution_count": null,
   "metadata": {},
   "outputs": [],
   "source": []
  }
 ],
 "metadata": {
  "kernelspec": {
   "display_name": "Python 3.7.10 ('py3-parcels')",
   "language": "python",
   "name": "python3"
  },
  "language_info": {
   "codemirror_mode": {
    "name": "ipython",
    "version": 3
   },
   "file_extension": ".py",
   "mimetype": "text/x-python",
   "name": "python",
   "nbconvert_exporter": "python",
   "pygments_lexer": "ipython3",
   "version": "3.7.10"
  },
  "orig_nbformat": 4,
  "vscode": {
   "interpreter": {
    "hash": "0eba6c4b74a2f8ee4f11000f0a8df2ef42b87fd4ae75b12d527f1b8c08aad6c6"
   }
  }
 },
 "nbformat": 4,
 "nbformat_minor": 2
}
