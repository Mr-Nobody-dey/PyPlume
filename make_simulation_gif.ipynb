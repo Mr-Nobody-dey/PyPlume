{
 "cells": [
  {
   "cell_type": "markdown",
   "id": "alive-developer",
   "metadata": {},
   "source": [
    "# make_simulation_gif\n",
    "\n",
    "exists solely to generate a collection of plots from an already completed simulation and also make a gif"
   ]
  },
  {
   "cell_type": "code",
   "execution_count": null,
   "id": "special-geography",
   "metadata": {},
   "outputs": [],
   "source": [
    "%matplotlib inline\n",
    "%load_ext autoreload\n",
    "%autoreload 2"
   ]
  },
  {
   "cell_type": "code",
   "execution_count": null,
   "id": "herbal-memory",
   "metadata": {},
   "outputs": [],
   "source": [
    "import os\n",
    "\n",
    "import numpy as np\n",
    "from parcels import FieldSet\n",
    "import xarray as xr\n",
    "\n",
    "import utils\n",
    "from parcels_utils import buoycsv_to_particleds, clean_erddap_ds, HFRGrid, convert_lon_readings\n",
    "from parcels_sim import simulation, generate_sim_gif\n",
    "from plot_utils import generate_simulation_plots"
   ]
  },
  {
   "cell_type": "code",
   "execution_count": null,
   "id": "sudden-concern",
   "metadata": {},
   "outputs": [],
   "source": [
    "name = \"erddap_buoy_forecast\"\n",
    "pf = utils.PARTICLE_NETCDF_DIR / \"particle_erddap_buoy_forecast.nc\"\n",
    "# grid = HFRGrid(utils.CURRENT_NETCDF_DIR / \"thredds_buoy_currents_704-02.nc\")\n",
    "grid = HFRGrid(utils.CURRENT_NETCDF_DIR / f\"erddap_forecast_buoy_currents_704-02.nc\")\n",
    "# grid = HFRGrid(clean_erddap_ds(xr.open_dataset(utils.CURRENT_NETCDF_DIR / \"roms_ncst_524b_bd8b_75c1.nc\")))\n",
    "buoy_id = \"704-02\"\n",
    "csv_path = utils.WAVEBUOY_DATA_DIR / f\"wavebuoy_{buoy_id}.csv\"\n",
    "buoy_ds = buoycsv_to_particleds(csv_path)\n",
    "buoy_ds_selected = buoy_ds.sel(obs=slice(95, 145))\n",
    "domain = {}\n",
    "domain[\"W\"] = -117.85\n",
    "domain[\"E\"] = -117.65\n",
    "domain[\"S\"] = 32.35\n",
    "domain[\"N\"] = 32.9"
   ]
  },
  {
   "cell_type": "code",
   "execution_count": null,
   "id": "integrated-queue",
   "metadata": {
    "scrolled": true
   },
   "outputs": [],
   "source": [
    "generate_simulation_plots(name, pf, grid, domain=domain, line_lats=[buoy_ds_selected[\"lat\"].values[0]], line_lons=[buoy_ds_selected[\"lon\"].values[0]], field_vmax=0.6, figsize=(12, 12), part_size=10)"
   ]
  },
  {
   "cell_type": "code",
   "execution_count": null,
   "id": "expressed-product",
   "metadata": {},
   "outputs": [],
   "source": [
    "generate_sim_gif(\n",
    "    utils.PICUTRE_DIR / name,\n",
    "    utils.PICUTRE_DIR / f\"{name}.gif\",\n",
    "    25\n",
    ")"
   ]
  }
 ],
 "metadata": {
  "kernelspec": {
   "display_name": "py3_parcels",
   "language": "python",
   "name": "py3_parcels"
  },
  "language_info": {
   "codemirror_mode": {
    "name": "ipython",
    "version": 3
   },
   "file_extension": ".py",
   "mimetype": "text/x-python",
   "name": "python",
   "nbconvert_exporter": "python",
   "pygments_lexer": "ipython3",
   "version": "3.6.10"
  }
 },
 "nbformat": 4,
 "nbformat_minor": 5
}
