{
 "cells": [
  {
   "cell_type": "code",
   "execution_count": null,
   "metadata": {},
   "outputs": [],
   "source": [
    "%matplotlib inline\n",
    "%load_ext autoreload\n",
    "%autoreload 2"
   ]
  },
  {
   "cell_type": "code",
   "execution_count": null,
   "metadata": {},
   "outputs": [],
   "source": [
    "import math\n",
    "\n",
    "import numpy as np\n",
    "import matplotlib.pyplot as plt\n",
    "import scipy.fftpack\n",
    "\n",
    "import matlab.engine\n",
    "\n",
    "import utils\n",
    "from parcels_utils import get_file_info, reload_file_fs"
   ]
  },
  {
   "cell_type": "code",
   "execution_count": null,
   "metadata": {},
   "outputs": [],
   "source": [
    "# x = np.linspace(0,10,50)\n",
    "# y = 2 * np.sin(x) - 4 * np.cos(x/10)\n",
    "# variation = 0.5\n",
    "# y_noisy = y + (np.random.random(y.size) * (variation * 2) - variation)\n",
    "\n",
    "# s = 7.62\n",
    "# s = 4.4755\n",
    "\n",
    "# k = np.arange(1, y_noisy.size + 1)\n",
    "\n",
    "# lam = 2 - 2 * np.cos((k - 1) * math.pi / k.size)\n",
    "# gam = 1 / (1 + s * lam ** 2)\n",
    "\n",
    "# smoothed_y = scipy.fftpack.idctn(gam * scipy.fftpack.dctn(y_noisy, norm=\"ortho\"), norm=\"ortho\")\n",
    "\n",
    "# plt.plot(x, y, \"--\")\n",
    "# plt.plot(x, smoothed_y)\n",
    "# plt.scatter(x, y_noisy, c=\"r\")\n",
    "# plt.show()"
   ]
  },
  {
   "cell_type": "code",
   "execution_count": null,
   "metadata": {},
   "outputs": [],
   "source": [
    "eng = matlab.engine.start_matlab()"
   ]
  },
  {
   "cell_type": "code",
   "execution_count": null,
   "metadata": {},
   "outputs": [],
   "source": [
    "target = get_file_info(utils.CURRENT_NETCDF_DIR / \"west_coast_1km_hourly/tj_plume_interped.nc\", utils.DATA_1KM, name=\"target\")\n",
    "mask_nc = get_file_info(utils.CURRENT_NETCDF_DIR / \"west_coast_1km_hourly/tj_sample.nc\", utils.DATA_1KM, name=\"sample\")"
   ]
  },
  {
   "cell_type": "code",
   "execution_count": null,
   "metadata": {},
   "outputs": [],
   "source": [
    "land = utils.generate_mask_none(mask_nc[\"xrds\"][\"u\"].values)"
   ]
  },
  {
   "cell_type": "code",
   "execution_count": null,
   "metadata": {},
   "outputs": [],
   "source": [
    "target[\"fs\"].U.show()"
   ]
  },
  {
   "cell_type": "code",
   "execution_count": null,
   "metadata": {},
   "outputs": [],
   "source": [
    "u = target[\"xrds\"][\"u\"].values\n",
    "v = target[\"xrds\"][\"v\"].values"
   ]
  },
  {
   "cell_type": "code",
   "execution_count": null,
   "metadata": {},
   "outputs": [],
   "source": [
    "u_list = u[0].tolist()\n",
    "v_list = v[0].tolist()"
   ]
  },
  {
   "cell_type": "code",
   "execution_count": null,
   "metadata": {},
   "outputs": [],
   "source": [
    "uv_mat = matlab.double([u_list, v_list])"
   ]
  },
  {
   "cell_type": "code",
   "execution_count": null,
   "metadata": {},
   "outputs": [],
   "source": [
    "uv_smooth = eng.smoothn(uv_mat, \"robust\")"
   ]
  },
  {
   "cell_type": "code",
   "execution_count": null,
   "metadata": {},
   "outputs": [],
   "source": [
    "uv_array = np.empty(uv_smooth.size)\n",
    "uv_array[:] = uv_smooth\n",
    "uv_array"
   ]
  },
  {
   "cell_type": "code",
   "execution_count": null,
   "metadata": {},
   "outputs": [],
   "source": [
    "target[\"xrds\"][\"u\"].values[0] = uv_array[0]\n",
    "target[\"xrds\"][\"v\"].values[0] = uv_array[1]"
   ]
  },
  {
   "cell_type": "code",
   "execution_count": null,
   "metadata": {},
   "outputs": [],
   "source": [
    "reload_file_fs(target)\n",
    "target[\"fs\"].U.show()\n",
    "target[\"xrds\"][\"u\"].values[0][np.where(land[0])] = np.nan\n",
    "target[\"xrds\"][\"v\"].values[0][np.where(land[0])] = np.nan\n",
    "reload_file_fs(target)\n",
    "target[\"fs\"].U.show()"
   ]
  },
  {
   "cell_type": "code",
   "execution_count": null,
   "metadata": {},
   "outputs": [],
   "source": [
    "target[\"fs\"].V.show()"
   ]
  }
 ],
 "metadata": {
  "kernelspec": {
   "display_name": "py3_parcels",
   "language": "python",
   "name": "py3_parcels"
  },
  "language_info": {
   "codemirror_mode": {
    "name": "ipython",
    "version": 3
   },
   "file_extension": ".py",
   "mimetype": "text/x-python",
   "name": "python",
   "nbconvert_exporter": "python",
   "pygments_lexer": "ipython3",
   "version": "3.6.10"
  }
 },
 "nbformat": 4,
 "nbformat_minor": 4
}
