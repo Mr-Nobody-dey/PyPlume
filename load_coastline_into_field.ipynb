{
 "cells": [
  {
   "cell_type": "code",
   "execution_count": null,
   "id": "83565b02",
   "metadata": {},
   "outputs": [],
   "source": [
    "import math\n",
    "import numpy as np\n",
    "import xarray as xr\n",
    "import matplotlib.pyplot as plt\n",
    "import scipy.io\n",
    "import scipy.spatial\n",
    "from shapely.geometry import LineString, Point, box\n",
    "from shapely.ops import nearest_points\n",
    "\n",
    "import src.utils as utils\n",
    "from src.parcels_utils import xr_dataset_to_fieldset, HFRGrid, rename_dataset_vars"
   ]
  },
  {
   "cell_type": "code",
   "execution_count": null,
   "id": "68127a86",
   "metadata": {},
   "outputs": [],
   "source": [
    "velocity_field_nc = utils.CURRENT_NETCDF_DIR / \"hunington_latest_ThreddsCode.USWC_6KM_HOURLY.nc\"\n",
    "coastline_mat = utils.MATLAB_DIR / \"socal_boundary.mat\"\n",
    "output_file = \"current_netcdfs/socal_alongshore.nc\"\n",
    "# 1 km resolution values\n",
    "lat_diff = 0.00898933\n",
    "lon_diff = 0.01042175"
   ]
  },
  {
   "cell_type": "code",
   "execution_count": null,
   "id": "6c34b86c",
   "metadata": {},
   "outputs": [],
   "source": [
    "vel_ds = rename_dataset_vars(xr.open_dataset(velocity_field_nc))\n",
    "lats, lons = utils.load_pts_mat(coastline_mat)\n",
    "coastline = LineString(np.array([lats, lons]).T)"
   ]
  },
  {
   "cell_type": "code",
   "execution_count": null,
   "id": "1ac01107",
   "metadata": {},
   "outputs": [],
   "source": [
    "if lat_diff is None:\n",
    "    lat_diff = abs(np.diff(lats).min())\n",
    "if lon_diff is None:\n",
    "    lon_diff = abs(np.diff(lons).min())"
   ]
  },
  {
   "cell_type": "code",
   "execution_count": null,
   "id": "a8f15389",
   "metadata": {},
   "outputs": [],
   "source": [
    "lat_start = min(lats.min(), vel_ds[\"lat\"].values.min())\n",
    "lat_end = max(lats.max(), vel_ds[\"lat\"].values.max())\n",
    "lon_start = min(lons.min(), vel_ds[\"lon\"].values.min())\n",
    "lon_end = max(lons.max(), vel_ds[\"lon\"].values.max())"
   ]
  },
  {
   "cell_type": "code",
   "execution_count": null,
   "id": "a7689d0a",
   "metadata": {},
   "outputs": [],
   "source": [
    "lat_steps = math.ceil((lat_end - lat_start) / lat_diff) + 1\n",
    "lon_steps = math.ceil((lon_end - lon_start) / lon_diff) + 1"
   ]
  },
  {
   "cell_type": "code",
   "execution_count": null,
   "id": "3e8d7ad9",
   "metadata": {},
   "outputs": [],
   "source": [
    "lats_grid = lat_start + np.arange(lat_steps) * lat_diff\n",
    "lons_grid = lon_start + np.arange(lon_steps) * lon_diff"
   ]
  },
  {
   "cell_type": "code",
   "execution_count": null,
   "id": "7959f817",
   "metadata": {},
   "outputs": [],
   "source": [
    "grid = np.empty((len(lats_grid), len(lons_grid)), dtype=object)\n",
    "info = np.empty((len(lats_grid), len(lons_grid)), dtype=object)"
   ]
  },
  {
   "cell_type": "code",
   "execution_count": null,
   "id": "c7be7e83",
   "metadata": {},
   "outputs": [],
   "source": [
    "# I tried to do something like ray tracing, realized I couldn't be bothered to think about it\n",
    "# here, have this brute force approach instead\n",
    "# lol\n",
    "# I assume the coordinates use an Arakawa A-grid\n",
    "for i in range(len(lats_grid)):\n",
    "    for j in range(len(lons_grid)):\n",
    "        latmin = lats_grid[i] - lat_diff / 2\n",
    "        latmax = lats_grid[i] + lat_diff / 2\n",
    "        lonmin = lons_grid[j] - lon_diff / 2\n",
    "        lonmax = lons_grid[j] + lon_diff / 2\n",
    "        grid[i, j] = box(latmin, lonmin, latmax, lonmax)"
   ]
  },
  {
   "cell_type": "code",
   "execution_count": null,
   "id": "faf8ced7",
   "metadata": {},
   "outputs": [],
   "source": [
    "import math\n",
    "for i in range(len(lats) - 1):\n",
    "    segment = LineString([[lats[i], lons[i]], [lats[i + 1], lons[i + 1]]])\n",
    "    vec = (lons[i + 1] - lons[i], lats[i + 1] - lats[i])\n",
    "    start_j = int((lats[i] - lats_grid[0]) // lat_diff)\n",
    "    end_j = math.ceil((lats[i + 1] - lats_grid[0]) / lat_diff)\n",
    "    start_k = int((lons[i] - lons_grid[0]) // lon_diff)\n",
    "    end_k = math.ceil((lons[i + 1] - lons_grid[0]) / lon_diff)\n",
    "    for j in range(min(start_j, end_j), max(start_j, end_j) + 1):\n",
    "        for k in range(min(start_k, end_k), max(start_k, end_k) + 1):\n",
    "            if info[j, k] is None and segment.intersects(grid[j, k]):\n",
    "                info[j, k] = vec"
   ]
  },
  {
   "cell_type": "code",
   "execution_count": null,
   "id": "e9c9867b",
   "metadata": {},
   "outputs": [],
   "source": [
    "import matplotlib.pyplot as plt\n",
    "plt.figure(figsize=(10, 10))\n",
    "plt.scatter(np.where(info != None)[1], np.where(info != None)[0], s=2)"
   ]
  },
  {
   "cell_type": "markdown",
   "id": "51ac84d0",
   "metadata": {},
   "source": [
    "### The vectors at each coastline grid point tangental to the coastline"
   ]
  },
  {
   "cell_type": "code",
   "execution_count": null,
   "id": "23f527a2",
   "metadata": {},
   "outputs": [],
   "source": [
    "plt.figure(figsize=(20, 20))\n",
    "info_where = np.where(info != None)\n",
    "plt.quiver(\n",
    "    info_where[1],\n",
    "    info_where[0],\n",
    "    list(map(lambda x: x[0], info[info_where])),\n",
    "    list(map(lambda x: x[1], info[info_where])),\n",
    "    width=0.001,\n",
    "    pivot='mid'\n",
    ")"
   ]
  },
  {
   "cell_type": "code",
   "execution_count": null,
   "id": "534db893",
   "metadata": {
    "scrolled": true
   },
   "outputs": [],
   "source": [
    "plt.scatter(lons, lats, s=0.1)"
   ]
  },
  {
   "cell_type": "code",
   "execution_count": null,
   "id": "24a0cc6f",
   "metadata": {},
   "outputs": [],
   "source": [
    "coast_u = np.tile((np.full(grid.shape, np.nan)), (len(vel_ds[\"time\"]), 1, 1))\n",
    "coast_v = np.tile((np.full(grid.shape, np.nan)), (len(vel_ds[\"time\"]), 1, 1))\n",
    "mgrid = np.meshgrid(vel_ds[\"lat\"], vel_ds[\"lon\"], indexing=\"ij\")"
   ]
  },
  {
   "cell_type": "code",
   "execution_count": null,
   "id": "7880a810",
   "metadata": {
    "scrolled": true
   },
   "outputs": [],
   "source": [
    "# this is gonna take a while to run\n",
    "for i in range(len(vel_ds[\"time\"])):\n",
    "    nonzero = np.where(~np.isnan(vel_ds[\"U\"])[i])\n",
    "    if len(nonzero[0]) == 0:\n",
    "        continue\n",
    "    positions = np.array([mgrid[0][nonzero], mgrid[1][nonzero]]).T\n",
    "    kdtree = scipy.spatial.KDTree(positions)\n",
    "    u = vel_ds[\"U\"][i].values\n",
    "    v = vel_ds[\"V\"][i].values\n",
    "    for j in range(grid.shape[0]):\n",
    "        for k in range(grid.shape[1]):\n",
    "            if info[j, k] is not None:\n",
    "                closest_idx = kdtree.query([lats_grid[j], lons_grid[k]])[1]\n",
    "                closest_u = u[nonzero[0][closest_idx], nonzero[1][closest_idx]]\n",
    "                closest_v = v[nonzero[0][closest_idx], nonzero[1][closest_idx]]\n",
    "                vec = info[j, k]  # this order should be in u, v (it was diff lon, diff lat)\n",
    "                # project u, v pair onto coastline vector\n",
    "                scalar = (closest_u * vec[0] + closest_v * vec[1]) / (vec[0] ** 2 + vec[1] ** 2)\n",
    "                coast_u[i, j, k] = scalar * vec[0]\n",
    "                coast_v[i, j, k] = scalar * vec[1]"
   ]
  },
  {
   "cell_type": "markdown",
   "id": "6e23588c",
   "metadata": {},
   "source": [
    "### The alongshore current calculated along each coast grid point\n",
    "\n",
    "This is for a single timestamp"
   ]
  },
  {
   "cell_type": "code",
   "execution_count": null,
   "id": "9742b587",
   "metadata": {
    "scrolled": false
   },
   "outputs": [],
   "source": [
    "from src.plot_utils import get_carree_axis, get_carree_gl\n",
    "\n",
    "othermgrid = np.meshgrid(lats_grid, lons_grid, indexing=\"ij\")\n",
    "plt.figure(figsize=(20, 20))\n",
    "plt.quiver(\n",
    "    othermgrid[1].flatten(),\n",
    "    othermgrid[0].flatten(),\n",
    "    coast_u[0].flatten(),\n",
    "    coast_v[0].flatten(),\n",
    "    scale=5\n",
    ")"
   ]
  },
  {
   "cell_type": "code",
   "execution_count": null,
   "id": "8f3659ac",
   "metadata": {},
   "outputs": [],
   "source": [
    "ds = xr.Dataset(\n",
    "    data_vars={\n",
    "        \"U\": ([\"time\", \"lat\", \"lon\"], coast_u),\n",
    "        \"V\": ([\"time\", \"lat\", \"lon\"], coast_v)\n",
    "    },\n",
    "    coords={\n",
    "        \"time\": vel_ds[\"time\"],\n",
    "        \"lat\": lats_grid,\n",
    "        \"lon\": lons_grid\n",
    "    }\n",
    ")"
   ]
  },
  {
   "cell_type": "code",
   "execution_count": null,
   "id": "3b63685e",
   "metadata": {},
   "outputs": [],
   "source": [
    "from parcels import Field, VectorField\n",
    "from parcels.tools.converters import GeographicPolar, Geographic\n",
    "from src.parcels_utils import rename_dataset_vars, xr_dataset_to_fieldset\n",
    "\n",
    "fu = Field.from_xarray(ds[\"U\"], \"CU\", dict(lat=\"lat\", lon=\"lon\", time=\"time\"), interp_method=\"nearest\")\n",
    "fu.units = GeographicPolar()\n",
    "fv = Field.from_xarray(ds[\"V\"], \"CV\", dict(lat=\"lat\", lon=\"lon\", time=\"time\"), interp_method=\"nearest\")\n",
    "fv.units = Geographic()\n",
    "fuv = VectorField(\"CUV\", fu, fv)"
   ]
  },
  {
   "cell_type": "code",
   "execution_count": null,
   "id": "d65704ec",
   "metadata": {},
   "outputs": [],
   "source": [
    "ds.to_netcdf(output_file)"
   ]
  }
 ],
 "metadata": {
  "kernelspec": {
   "display_name": "py3-parcels",
   "language": "python",
   "name": "py3-parcels"
  },
  "language_info": {
   "codemirror_mode": {
    "name": "ipython",
    "version": 3
   },
   "file_extension": ".py",
   "mimetype": "text/x-python",
   "name": "python",
   "nbconvert_exporter": "python",
   "pygments_lexer": "ipython3",
   "version": "3.7.10"
  }
 },
 "nbformat": 4,
 "nbformat_minor": 5
}
