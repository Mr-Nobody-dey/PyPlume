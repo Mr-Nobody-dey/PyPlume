{
 "cells": [
  {
   "cell_type": "code",
   "execution_count": null,
   "source": [
    "import matplotlib.pyplot as plt\n",
    "import numpy as np\n",
    "import scipy.io\n",
    "import xarray as xr\n",
    "\n",
    "import plot_utils\n",
    "import utils\n",
    "from constants import *"
   ],
   "outputs": [],
   "metadata": {}
  },
  {
   "cell_type": "code",
   "execution_count": null,
   "source": [
    "points = scipy.io.loadmat(\"matlab/coastOR2Mex.mat\")[\"OR2Mex\"]\n",
    "points"
   ],
   "outputs": [],
   "metadata": {}
  },
  {
   "cell_type": "code",
   "execution_count": null,
   "source": [
    "lons = points.T[0]\n",
    "lats = points.T[1]"
   ],
   "outputs": [],
   "metadata": {}
  },
  {
   "cell_type": "code",
   "execution_count": null,
   "source": [
    "np.where(np.isnan(lons))"
   ],
   "outputs": [],
   "metadata": {}
  },
  {
   "cell_type": "code",
   "execution_count": null,
   "source": [
    "lon_borders = np.split(lons, np.where(np.isnan(lons))[0])\n",
    "lat_borders = np.split(lats, np.where(np.isnan(lats))[0])"
   ],
   "outputs": [],
   "metadata": {}
  },
  {
   "cell_type": "code",
   "execution_count": null,
   "source": [
    "plt.plot(lon_borders[1], lat_borders[1])"
   ],
   "outputs": [],
   "metadata": {}
  },
  {
   "cell_type": "code",
   "execution_count": null,
   "source": [
    "fig, ax = plot_utils.get_carree_axis(TIJUANA_MOUTH_DOMAIN, land=False)\n",
    "plot_utils.get_carree_gl(ax)\n",
    "idxs = []\n",
    "for i in range(len(lon_borders)):\n",
    "    lons = lon_borders[i][1:]\n",
    "    lats = lat_borders[i][1:]\n",
    "    if ((lats < 32.77) & (lats > 32.5)).any():\n",
    "        idxs.append(i)\n",
    "        ax.plot(lons, lats)"
   ],
   "outputs": [],
   "metadata": {}
  },
  {
   "cell_type": "code",
   "execution_count": null,
   "source": [
    "\", \".join([str(a) for a in idxs])"
   ],
   "outputs": [],
   "metadata": {}
  },
  {
   "cell_type": "code",
   "execution_count": null,
   "source": [
    "tijuana_idxs = np.array([3692, 3693, 3694, 3695, 3696, 3697, 3698, 3699, 3700, 3701, 3702, 3703, 3704, 3705, 3706, 3707, 3708, 3709, 3710, 3711, 3712, 3713, 3714, 3715, 3716, 3717, 3718, 3719, 3720, 3721, 3722, 3723, 3724, 3725, 3726, 3727, 3728, 3729, 4767])"
   ],
   "outputs": [],
   "metadata": {}
  },
  {
   "cell_type": "code",
   "execution_count": null,
   "source": [
    "fig, ax = plot_utils.get_carree_axis(TIJUANA_RIVER_DOMAIN, land=False)\n",
    "plot_utils.get_carree_gl(ax)\n",
    "ax.plot(lons, lats)"
   ],
   "outputs": [],
   "metadata": {}
  },
  {
   "cell_type": "code",
   "execution_count": null,
   "source": [
    "TIJUANA_MOUTH_DOMAIN"
   ],
   "outputs": [],
   "metadata": {}
  },
  {
   "cell_type": "code",
   "execution_count": null,
   "source": [
    "fig, ax = plot_utils.get_carree_axis(TIJUANA_MOUTH_DOMAIN, land=True)\n",
    "plot_utils.get_carree_gl(ax)\n",
    "ax.scatter(lons[-100:], lats[-100:])\n",
    "ax.scatter(TIJUANA_MOUTH_POSITION[1], TIJUANA_MOUTH_POSITION[0])"
   ],
   "outputs": [],
   "metadata": {}
  }
 ],
 "metadata": {
  "kernelspec": {
   "name": "python3",
   "display_name": "Python 3.7.10 64-bit ('py3-parcels': conda)"
  },
  "language_info": {
   "codemirror_mode": {
    "name": "ipython",
    "version": 3
   },
   "file_extension": ".py",
   "mimetype": "text/x-python",
   "name": "python",
   "nbconvert_exporter": "python",
   "pygments_lexer": "ipython3",
   "version": "3.7.10"
  },
  "interpreter": {
   "hash": "f2b639208b218da688d617c97dbb97f29e52ab8204d2c4d4c192e2d843ea0177"
  }
 },
 "nbformat": 4,
 "nbformat_minor": 5
}