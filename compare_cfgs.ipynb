{
 "cells": [
  {
   "cell_type": "code",
   "execution_count": 1,
   "metadata": {},
   "outputs": [
    {
     "ename": "IndentationError",
     "evalue": "expected an indented block (plot_utils.py, line 177)",
     "output_type": "error",
     "traceback": [
      "Traceback \u001b[0;36m(most recent call last)\u001b[0m:\n",
      "  File \u001b[1;32m\"/Users/jerry/miniconda3/envs/py3-parcels/lib/python3.7/site-packages/IPython/core/interactiveshell.py\"\u001b[0m, line \u001b[1;32m3441\u001b[0m, in \u001b[1;35mrun_code\u001b[0m\n    exec(code_obj, self.user_global_ns, self.user_ns)\n",
      "  File \u001b[1;32m\"/var/folders/mb/hd5ymr3137g2g0chv_x_tvb40000gq/T/ipykernel_96649/1004463892.py\"\u001b[0m, line \u001b[1;32m1\u001b[0m, in \u001b[1;35m<module>\u001b[0m\n    import src.runner as runner\n",
      "  File \u001b[1;32m\"/Users/jerry/Documents/ucsd-stuff/scripps-cordc/parcels-westcoast/src/runner.py\"\u001b[0m, line \u001b[1;32m13\u001b[0m, in \u001b[1;35m<module>\u001b[0m\n    from src.parcels_sim import ParcelsSimulation\n",
      "  File \u001b[1;32m\"/Users/jerry/Documents/ucsd-stuff/scripps-cordc/parcels-westcoast/src/parcels_sim.py\"\u001b[0m, line \u001b[1;32m13\u001b[0m, in \u001b[1;35m<module>\u001b[0m\n    from src.parcels_analysis import ParticleResult\n",
      "\u001b[0;36m  File \u001b[0;32m\"/Users/jerry/Documents/ucsd-stuff/scripps-cordc/parcels-westcoast/src/parcels_analysis.py\"\u001b[0;36m, line \u001b[0;32m17\u001b[0;36m, in \u001b[0;35m<module>\u001b[0;36m\u001b[0m\n\u001b[0;31m    import src.plot_utils as plot_utils\u001b[0m\n",
      "\u001b[0;36m  File \u001b[0;32m\"/Users/jerry/Documents/ucsd-stuff/scripps-cordc/parcels-westcoast/src/plot_utils.py\"\u001b[0;36m, line \u001b[0;32m177\u001b[0m\n\u001b[0;31m    def plot_particles(\u001b[0m\n\u001b[0m                       ^\u001b[0m\n\u001b[0;31mIndentationError\u001b[0m\u001b[0;31m:\u001b[0m expected an indented block\n"
     ]
    }
   ],
   "source": [
    "import src.runner as runner\n",
    "import src.utils as utils"
   ]
  },
  {
   "cell_type": "code",
   "execution_count": null,
   "metadata": {},
   "outputs": [],
   "source": [
    "base_cfg_path = \"plume_track.json\"\n",
    "set_spawn = [32.5465163705279,-117.136650202502]\n",
    "\n",
    "replacements = [\n",
    "    {\n",
    "        \"name\": \"plume_track_freeslip\",\n",
    "        \"parcels_config\": {\n",
    "            \"spawn_points\": [[32.555, -117.15]]\n",
    "        }\n",
    "    },\n",
    "    {\n",
    "        \"name\": \"plume_track_alongshore\",\n",
    "        \"netcdf_data\": {\n",
    "            \"alongshore\": \"current_netcdfs/tijuana_alongshore.nc\"\n",
    "        },\n",
    "        \"parcels_config\": {\n",
    "            \"kernels\": [\"AdvectionRK4BorderCheck\", \"AgeParticle\", \"RandomWalk\"],\n",
    "            \"spawn_points\": [[32.555, -117.15]]\n",
    "        }\n",
    "    }\n",
    "]"
   ]
  },
  {
   "cell_type": "code",
   "execution_count": null,
   "metadata": {},
   "outputs": [],
   "source": [
    "import copy\n",
    "\n",
    "def _replace_data(cfg, replacement):\n",
    "    \"\"\"Modifies in-place\"\"\"\n",
    "    for key in replacement:\n",
    "        if isinstance(replacement[key], dict):\n",
    "            if key not in cfg:\n",
    "                cfg[key] = {}\n",
    "            _replace_data(cfg[key], replacement[key])\n",
    "        else:\n",
    "            cfg[key] = replacement[key]\n",
    "\n",
    "def replace_config_data(cfg, replacement):\n",
    "    cfg_copy = copy.deepcopy(cfg)\n",
    "    _replace_data(cfg_copy, replacement)\n",
    "    return cfg_copy\n",
    "\n",
    "base_cfg = utils.load_config(utils.PARCELS_CONFIGS_DIR / base_cfg_path)\n",
    "cfgs = [replace_config_data(base_cfg, replacement) for replacement in replacements]"
   ]
  },
  {
   "cell_type": "code",
   "execution_count": null,
   "metadata": {},
   "outputs": [],
   "source": [
    "sims = []\n",
    "for cfg in cfgs:\n",
    "    sim = runner.prep_sim_from_cfg(cfg)\n",
    "    sims.append(sim)"
   ]
  },
  {
   "cell_type": "code",
   "execution_count": null,
   "metadata": {},
   "outputs": [],
   "source": [
    "for sim in sims:\n",
    "    sim.execute()"
   ]
  },
  {
   "cell_type": "code",
   "execution_count": null,
   "metadata": {},
   "outputs": [],
   "source": [
    "pr = sims[0].parcels_result"
   ]
  },
  {
   "cell_type": "code",
   "execution_count": null,
   "metadata": {},
   "outputs": [],
   "source": [
    "pr.plot_at_t(1, domain={\"S\":32.5,\"N\":32.6,\"W\":-117.2,\"E\":-117.1})"
   ]
  },
  {
   "cell_type": "code",
   "execution_count": null,
   "metadata": {},
   "outputs": [],
   "source": [
    "pr.data_vars.keys()"
   ]
  },
  {
   "cell_type": "code",
   "execution_count": null,
   "metadata": {},
   "outputs": [],
   "source": [
    "pr.data_vars[\"lat\"]"
   ]
  },
  {
   "cell_type": "code",
   "execution_count": null,
   "metadata": {},
   "outputs": [],
   "source": [
    "import numpy as np"
   ]
  },
  {
   "cell_type": "code",
   "execution_count": null,
   "metadata": {},
   "outputs": [],
   "source": [
    "x = np.array([1,2,3])"
   ]
  },
  {
   "cell_type": "code",
   "execution_count": null,
   "metadata": {},
   "outputs": [],
   "source": [
    "np.array([x])"
   ]
  }
 ],
 "metadata": {
  "kernelspec": {
   "display_name": "Python 3.7.10 ('py3-parcels')",
   "language": "python",
   "name": "python3"
  },
  "language_info": {
   "codemirror_mode": {
    "name": "ipython",
    "version": 3
   },
   "file_extension": ".py",
   "mimetype": "text/x-python",
   "name": "python",
   "nbconvert_exporter": "python",
   "pygments_lexer": "ipython3",
   "version": "3.7.10"
  },
  "orig_nbformat": 4,
  "vscode": {
   "interpreter": {
    "hash": "92c0155ff973c51285fb1dc8e256afac5e3dbdefb05174b825f6699ebdf3a9c7"
   }
  }
 },
 "nbformat": 4,
 "nbformat_minor": 2
}
