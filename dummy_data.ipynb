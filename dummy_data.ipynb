{
 "cells": [
  {
   "cell_type": "code",
   "execution_count": null,
   "id": "87d9477a",
   "metadata": {},
   "outputs": [],
   "source": [
    "import numpy as np\n",
    "from parcels import FieldSet, Field\n",
    "from scipy.io import savemat\n",
    "import xarray as xr"
   ]
  },
  {
   "cell_type": "markdown",
   "id": "c88466f8",
   "metadata": {},
   "source": [
    "### vector field"
   ]
  },
  {
   "cell_type": "code",
   "execution_count": null,
   "id": "ffda2950",
   "metadata": {},
   "outputs": [],
   "source": [
    "lat_size = 25\n",
    "lon_size = 25\n",
    "u = np.full((lat_size, lon_size), np.nan)\n",
    "v = np.full((lat_size, lon_size), np.nan)\n",
    "lat_diff = 0.00898933\n",
    "lon_diff = 0.01042175\n",
    "u_val = 0.05\n",
    "v_val = -0.05\n",
    "\n",
    "lon_right = -117.12\n",
    "lat_bottom = 32.35\n",
    "\n",
    "lats = np.array([lat_bottom + i * lat_diff for i in range(lat_size)])\n",
    "lons = np.array([lon_right - i * lon_diff for i in reversed(range(lon_size))])\n",
    "\n",
    "start_time = np.datetime64(\"2020-02-09T00\")\n",
    "end_time = np.datetime64(\"2020-02-14T00\")\n",
    "times = np.arange(start_time, end_time)"
   ]
  },
  {
   "cell_type": "markdown",
   "id": "98335dc7",
   "metadata": {},
   "source": [
    "### coastline data"
   ]
  },
  {
   "cell_type": "code",
   "execution_count": null,
   "id": "c9cac3ca",
   "metadata": {},
   "outputs": [],
   "source": [
    "import random\n",
    "\n",
    "# vertical coastline\n",
    "coast_lon = -117.16\n",
    "coast_lats = [lat_bottom]\n",
    "while coast_lats[-1] <= lats[-1]:\n",
    "    coast_lats.append(coast_lats[-1] + lat_diff * random.uniform(0.5, 1.5))\n",
    "coast_lats = np.array(coast_lats)\n",
    "coast_lons = np.array([coast_lon for _ in coast_lats])"
   ]
  },
  {
   "cell_type": "code",
   "execution_count": null,
   "id": "d57648e4",
   "metadata": {},
   "outputs": [],
   "source": [
    "mgrid = np.meshgrid(lats, lons, indexing=\"ij\")\n",
    "# u[mgrid[1] < coast_lon] = u_val\n",
    "u[:] = u_val\n",
    "# v[mgrid[1] < coast_lon] = v_val\n",
    "v[:] = v_val"
   ]
  },
  {
   "cell_type": "markdown",
   "id": "f9daf922",
   "metadata": {},
   "source": [
    "### generate dataset and nc file"
   ]
  },
  {
   "cell_type": "code",
   "execution_count": null,
   "id": "476efc7b",
   "metadata": {},
   "outputs": [],
   "source": [
    "u_all = np.tile(u, (len(times), 1, 1))\n",
    "v_all = np.tile(v, (len(times), 1, 1))\n",
    "ds = xr.Dataset(\n",
    "    data_vars={\n",
    "        \"U\": ([\"time\", \"lat\", \"lon\"], u_all),\n",
    "        \"V\": ([\"time\", \"lat\", \"lon\"], v_all),\n",
    "    },\n",
    "    coords={\"time\": times, \"lat\": lats, \"lon\": lons},\n",
    ")\n",
    "ds.to_netcdf(\"data/field_netcdfs/dummy_field.nc\")"
   ]
  },
  {
   "cell_type": "markdown",
   "id": "bb5f2196",
   "metadata": {},
   "source": [
    "### save coastline into mat file"
   ]
  },
  {
   "cell_type": "code",
   "execution_count": null,
   "id": "af666e97",
   "metadata": {},
   "outputs": [],
   "source": [
    "dummy_mat_dict = {\"rlatz\": coast_lats, \"rlonz\": coast_lons}\n",
    "savemat(\"matlab/dummy_coast.mat\", dummy_mat_dict)"
   ]
  },
  {
   "cell_type": "markdown",
   "id": "8152f052",
   "metadata": {},
   "source": [
    "### spawn points lol"
   ]
  },
  {
   "cell_type": "code",
   "execution_count": null,
   "id": "ab652e3c",
   "metadata": {},
   "outputs": [],
   "source": [
    "sp_lats = np.linspace(lats[-1] - lat_diff * 10, lats[-1], 5)\n",
    "sp_lons = np.linspace(lons[-1] - lon_diff * 15, lons[-1] - lon_diff * 5, 5)"
   ]
  },
  {
   "cell_type": "code",
   "execution_count": null,
   "id": "95449869",
   "metadata": {},
   "outputs": [],
   "source": [
    "sp_mgrid = np.meshgrid(sp_lats, sp_lons, indexing=\"ij\")\n",
    "sp_all_lats = sp_mgrid[0].flatten()\n",
    "sp_all_lons = sp_mgrid[1].flatten()\n",
    "dummy_sp_dict = {\"xf\": sp_all_lons, \"yf\": sp_all_lats}\n",
    "savemat(\"matlab/dummy_spawns.mat\", dummy_sp_dict)"
   ]
  }
 ],
 "metadata": {
  "kernelspec": {
   "display_name": "Python 3.7.10 ('py3-parcels')",
   "language": "python",
   "name": "python3"
  },
  "language_info": {
   "codemirror_mode": {
    "name": "ipython",
    "version": 3
   },
   "file_extension": ".py",
   "mimetype": "text/x-python",
   "name": "python",
   "nbconvert_exporter": "python",
   "pygments_lexer": "ipython3",
   "version": "3.7.10"
  },
  "vscode": {
   "interpreter": {
    "hash": "0eba6c4b74a2f8ee4f11000f0a8df2ef42b87fd4ae75b12d527f1b8c08aad6c6"
   }
  }
 },
 "nbformat": 4,
 "nbformat_minor": 5
}
