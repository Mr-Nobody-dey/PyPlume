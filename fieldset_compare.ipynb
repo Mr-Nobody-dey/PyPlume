{
 "cells": [
  {
   "cell_type": "markdown",
   "metadata": {},
   "source": [
    "# fieldset_compare\n",
    "\n",
    "compare particle simulations in different fieldsets with a single particle"
   ]
  },
  {
   "cell_type": "code",
   "execution_count": null,
   "metadata": {},
   "outputs": [],
   "source": [
    "%matplotlib inline\n",
    "%load_ext autoreload\n",
    "%autoreload 2"
   ]
  },
  {
   "cell_type": "code",
   "execution_count": null,
   "metadata": {},
   "outputs": [],
   "source": [
    "from datetime import timedelta\n",
    "\n",
    "import cartopy\n",
    "import cartopy.crs as ccrs\n",
    "import xarray as xr\n",
    "import numpy as np\n",
    "import matplotlib.pyplot as plt\n",
    "from parcels import FieldSet, ParticleSet, JITParticle, AdvectionRK4, ErrorCode, plotTrajectoriesFile, ParticleFile\n",
    "\n",
    "from utils import create_path, add_noise, load_pts_mat\n",
    "from parcels_utils import get_file_info\n",
    "from plot_utils import plot_trajectories"
   ]
  },
  {
   "cell_type": "code",
   "execution_count": null,
   "metadata": {},
   "outputs": [],
   "source": [
    "files = [\n",
    "    get_file_info(\"current_netcdfs/Tot_SDLJ_20200810.nc\", 1, name=\"tot_sdlj\"),\n",
    "    get_file_info(\"current_netcdfs/west_coast_1km_hourly/tj_plume_interped.nc\", 1, name=\"tj_plume\"),\n",
    "]"
   ]
  },
  {
   "cell_type": "code",
   "execution_count": null,
   "metadata": {},
   "outputs": [],
   "source": [
    "do_sim = True\n",
    "\n",
    "spawn_time = np.datetime64(\"2020-08-10T00:00:00\")\n",
    "# end_time = files[0][\"timerng\"][1]\n",
    "end_time = np.datetime64(\"2020-08-10T23:00:00\")\n",
    "max_var = 0.003\n",
    "\n",
    "# (lat, lon)\n",
    "# spawn_loc_base = np.array(\n",
    "#     [32.551707, -117.138],\n",
    "# )\n",
    "\n",
    "spawn_loc_base = load_pts_mat(\"mat/pts_20200810_0030.mat\", \"yf\", \"xf\").T[1090:1100]\n",
    "\n",
    "# spawn_locs = add_noise(spawn_loc_base, max_var, repeat=20)\n",
    "spawn_locs = spawn_loc_base\n",
    "simulation_dt = timedelta(minutes=5)\n",
    "out_dt = timedelta(hours=1)\n",
    "save_dir = create_path(\"particledata/testcompare\")\n",
    "\n",
    "def DeleteParticle(particle, fieldset, time):\n",
    "    particle.delete()"
   ]
  },
  {
   "cell_type": "markdown",
   "metadata": {},
   "source": [
    "now i could just stuff everything into a single ParticleSet for every different spawn location\n",
    "\n",
    "but then it becomes annoying to filter out ones that start at a specific location"
   ]
  },
  {
   "cell_type": "code",
   "execution_count": null,
   "metadata": {
    "scrolled": true
   },
   "outputs": [],
   "source": [
    "for f in files:\n",
    "    f[\"psets\"] = np.empty(len(spawn_locs), dtype=ParticleSet)\n",
    "    f[\"pfiles\"] = np.empty(len(spawn_locs), dtype=ParticleFile)\n",
    "    \n",
    "    for i in range(len(spawn_locs)):\n",
    "        f[\"psets\"][i] = ParticleSet(fieldset=f[\"fs\"], pclass=JITParticle, lon=[spawn_locs[i][1]], lat=[spawn_locs[i][0]], time=[spawn_time])\n",
    "        save_path = f\"{save_dir}/{f['name']}{i}.nc\"\n",
    "        f[\"pfiles\"][i] = f[\"psets\"][i].ParticleFile(save_path, outputdt=out_dt)"
   ]
  },
  {
   "cell_type": "code",
   "execution_count": null,
   "metadata": {
    "scrolled": true
   },
   "outputs": [],
   "source": [
    "if do_sim:\n",
    "    for f in files:\n",
    "        for i in range(len(spawn_locs)):\n",
    "            f[\"psets\"][i].execute(\n",
    "                        AdvectionRK4,\n",
    "                        endtime=end_time,\n",
    "                        dt=simulation_dt,\n",
    "                        recovery={ErrorCode.ErrorOutOfBounds: DeleteParticle},\n",
    "                        output_file=f[\"pfiles\"][i]\n",
    "                    )\n",
    "            f[\"pfiles\"][i].export()\n",
    "            f[\"pfiles\"][i].close()"
   ]
  },
  {
   "cell_type": "code",
   "execution_count": null,
   "metadata": {
    "scrolled": true
   },
   "outputs": [],
   "source": [
    "mod_domain = {\n",
    "    \"S\": 32.41,\n",
    "    \"N\": 32.7,\n",
    "    \"W\": -117.25,\n",
    "    \"E\": -117\n",
    "}\n",
    "# mod_domain = {\n",
    "#     'S': 32.545,\n",
    "#     'N': 32.585,\n",
    "#     'W': -117.158,\n",
    "#     'E': -117.13\n",
    "# }\n",
    "# mod_domain = {\n",
    "#     'S': 32.5495,\n",
    "#     'N': 32.555,\n",
    "#     'W': -117.15,\n",
    "#     'E': -117.135\n",
    "# }\n",
    "mod_domain = {\n",
    "    'S': 32.49,\n",
    "    'N': 32.55,\n",
    "    'W': -117.2,\n",
    "    'E': -117.05\n",
    "}\n",
    "\n",
    "for i in range(len(spawn_locs)):\n",
    "    ps = np.array([f[\"pfiles\"][i].name for f in files])\n",
    "    print(f\"starting at (lat, lon) {spawn_locs[i]}\")"
   ]
  },
  {
   "cell_type": "code",
   "execution_count": null,
   "metadata": {},
   "outputs": [],
   "source": [
    "for f in files:\n",
    "    ps = np.array([p.name for p in f[\"pfiles\"]])\n",
    "    print(f\"paths for {f['name']}\")\n",
    "    plot_trajectories(ps, mod_domain, legend=True, scatter=False)"
   ]
  }
 ],
 "metadata": {
  "kernelspec": {
   "display_name": "py3_parcels",
   "language": "python",
   "name": "py3_parcels"
  },
  "language_info": {
   "codemirror_mode": {
    "name": "ipython",
    "version": 3
   },
   "file_extension": ".py",
   "mimetype": "text/x-python",
   "name": "python",
   "nbconvert_exporter": "python",
   "pygments_lexer": "ipython3",
   "version": "3.6.10"
  }
 },
 "nbformat": 4,
 "nbformat_minor": 4
}
