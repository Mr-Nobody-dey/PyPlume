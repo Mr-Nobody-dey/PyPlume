{
 "cells": [
  {
   "cell_type": "markdown",
   "id": "f8536cc9",
   "metadata": {},
   "source": [
    "# ACCESS THREDDS FOR HYCOM\n",
    "\n",
    "Alli Ho 08/23/2021\n",
    "\n",
    "Using Jerry's code `access_thredds.ipynb` to access HYCOM forecast from https://tds.hycom.org/thredds/dodsC/GLBy0.08/expt_93.0/FMRC/GLBy0.08_930_FMRC_best.ncd.html\n",
    "\n",
    "#### Adjusted code to work with HYCOM variables:\n",
    "- `hycom_utils.py` was updated from `thredds_utils.py` to work with HYCOM output\n"
   ]
  },
  {
   "cell_type": "code",
   "execution_count": 1,
   "id": "80afcf71",
   "metadata": {
    "ExecuteTime": {
     "end_time": "2021-08-26T21:22:24.823371Z",
     "start_time": "2021-08-26T21:22:24.159878Z"
    }
   },
   "outputs": [],
   "source": [
    "%matplotlib inline\n",
    "%load_ext autoreload\n",
    "%autoreload 2"
   ]
  },
  {
   "cell_type": "code",
   "execution_count": 2,
   "id": "5905fb92",
   "metadata": {
    "ExecuteTime": {
     "end_time": "2021-08-26T21:22:27.167400Z",
     "start_time": "2021-08-26T21:22:24.825474Z"
    }
   },
   "outputs": [
    {
     "name": "stderr",
     "output_type": "stream",
     "text": [
      "INFO: Compiled ParcelsRandom ==> /var/folders/mb/hd5ymr3137g2g0chv_x_tvb40000gq/T/parcels-503/libparcels_random_42f48a59-05da-4e1e-b9e4-11130a30f4f4.so\n"
     ]
    }
   ],
   "source": [
    "import os\n",
    "import time\n",
    "import numpy as np\n",
    "import xarray as xr\n",
    "\n",
    "import thredds_utils\n",
    "import utils\n",
    "from parcels_utils import xr_dataset_to_fieldset"
   ]
  },
  {
   "cell_type": "markdown",
   "id": "136efbc6",
   "metadata": {},
   "source": [
    "## SETUP\n",
    "\n",
    "Change the date and filename for when you want to start your deployment\n",
    "\n",
    "Typically the forecast starts a week before today's date and runs for 300 hours (12.5 days), and so can forecast ~6 days ahead. \n",
    "\n",
    "Automatically set daterange to a week ahead:"
   ]
  },
  {
   "cell_type": "code",
   "execution_count": 3,
   "id": "7471ff03",
   "metadata": {
    "ExecuteTime": {
     "end_time": "2021-08-26T21:22:27.207177Z",
     "start_time": "2021-08-26T21:22:27.170821Z"
    }
   },
   "outputs": [],
   "source": [
    "# daterange = (\"2021-08-24T00\", \"2021-09-03T00\");\n",
    "daterange = (np.datetime_as_string(np.datetime64('now')-np.timedelta64(1, 'D'), unit='h'), np.datetime_as_string(np.datetime64('now')+np.timedelta64(7, 'D'), unit='h'))\n",
    "currentname = \"hycom_mwbproj\";"
   ]
  },
  {
   "cell_type": "markdown",
   "id": "a7bb16cc",
   "metadata": {},
   "source": [
    "## DOWNLOAD"
   ]
  },
  {
   "cell_type": "code",
   "execution_count": 4,
   "id": "0fe8fafa",
   "metadata": {
    "ExecuteTime": {
     "end_time": "2021-08-26T21:22:27.242051Z",
     "start_time": "2021-08-26T21:22:27.209645Z"
    }
   },
   "outputs": [],
   "source": [
    "dataset_url = \"https://tds.hycom.org/thredds/dodsC/GLBy0.08/expt_93.0/FMRC/GLBy0.08_930_FMRC_best.ncd\""
   ]
  },
  {
   "cell_type": "code",
   "execution_count": 5,
   "id": "8b3e2656",
   "metadata": {
    "ExecuteTime": {
     "end_time": "2021-08-26T21:22:27.913854Z",
     "start_time": "2021-08-26T21:22:27.243970Z"
    }
   },
   "outputs": [],
   "source": [
    "num_chunks = 1\n",
    "# EXCLUDE THESE VARIABLES:\n",
    "dropvars = {'water_temp', 'water_temp_bottom','salinity', 'salinity_bottom','water_u_bottom','water_v_bottom','surf_el'}\n",
    "\n",
    "thredds_data = {\n",
    "    thredds_utils.DATA_HYCOMFORE: xr.open_dataset(dataset_url, chunks={\"time\": 1},decode_times=False, drop_variables=dropvars),\n",
    "}\n",
    "t0 = np.datetime64(thredds_data[thredds_utils.DATA_HYCOMFORE].time.units[12:35])\n",
    "tmp = thredds_data[thredds_utils.DATA_HYCOMFORE].time.data\n",
    "# thredds_data[thredds_utils.DATA_HYCOMFORE][\"timeday\"] = t0 + np.array(tmp,dtype=\"timedelta64[h]\")\n",
    "thredds_data[thredds_utils.DATA_HYCOMFORE][\"t0\"] = np.timedelta64(t0 - np.datetime64('0000-01-01T00:00:00.000'), 'h')/np.timedelta64(1, 'D')\n",
    "thredds_data[thredds_utils.DATA_HYCOMFORE] = thredds_data[thredds_utils.DATA_HYCOMFORE].assign_coords(time=(t0 + np.array(tmp,dtype=\"timedelta64[h]\")))\n",
    "\n",
    "\n",
    "thredds_data[thredds_utils.DATA_HYCOMFORE][\"time\"].attrs[\"long_name\"] = \"Forecast time\"\n",
    "thredds_data[thredds_utils.DATA_HYCOMFORE][\"time\"].attrs[\"standard_name\"] = \"time\"\n",
    "thredds_data[thredds_utils.DATA_HYCOMFORE][\"time\"].attrs[\"_CoordinateAxisType\"] = \"Time\"\n",
    "thredds_data[thredds_utils.DATA_HYCOMFORE][\"tau\"].attrs[\"units\"] = \"hours since \" + thredds_data[thredds_utils.DATA_HYCOMFORE][\"tau\"].time_origin"
   ]
  },
  {
   "cell_type": "code",
   "execution_count": 6,
   "id": "dbdf0691",
   "metadata": {
    "ExecuteTime": {
     "end_time": "2021-08-26T21:22:27.951471Z",
     "start_time": "2021-08-26T21:22:27.915767Z"
    }
   },
   "outputs": [
    {
     "name": "stdout",
     "output_type": "stream",
     "text": [
      "END OF FORECAST: 2021-09-02T00:00:00.000000000\n"
     ]
    }
   ],
   "source": [
    "print(\"END OF FORECAST: \"+ str(thredds_data[thredds_utils.DATA_HYCOMFORE][\"time\"].data[-1]))\n",
    "thredds_data[thredds_utils.DATA_HYCOMFORE];"
   ]
  },
  {
   "cell_type": "code",
   "execution_count": 7,
   "id": "c08a1e3c",
   "metadata": {
    "ExecuteTime": {
     "end_time": "2021-08-26T21:22:27.996680Z",
     "start_time": "2021-08-26T21:22:27.954529Z"
    }
   },
   "outputs": [],
   "source": [
    "def get_region(data):\n",
    "    time_range = get_time_slice(data[2])\n",
    "    if data[6]:\n",
    "        lat_range = utils.include_coord_range(data[3], thredds_data[data[1]][\"lat\"].values)\n",
    "        lon_range = utils.include_coord_range(data[4], thredds_data[data[1]][\"lon\"].values)\n",
    "    else:\n",
    "        lat_range = data[3]\n",
    "        lon_range = data[4]\n",
    "        z_range = data[5]\n",
    "    return dict(\n",
    "        name = data[0],\n",
    "        category = data[1],\n",
    "        time = time_range,\n",
    "        lat = lat_range,\n",
    "        lon = lon_range,\n",
    "        depth = z_range,\n",
    "        domain = {\n",
    "            \"S\": lat_range[0],\n",
    "            \"N\": lat_range[1],\n",
    "            \"W\": lon_range[0],\n",
    "            \"E\": lon_range[1],\n",
    "        }\n",
    "    )\n",
    "\n",
    "def get_latest_span(delta):\n",
    "    # GMT, data recorded hourly\n",
    "    time_now = np.datetime64(\"now\", \"h\")\n",
    "    return (time_now - delta, time_now)\n",
    "\n",
    "\n",
    "def get_time_slice(time_range):\n",
    "    if len(time_range) == 2:\n",
    "        return slice(np.datetime64(time_range[0]), np.datetime64(time_range[1]))\n",
    "    if len(time_range) == 3:\n",
    "        # step size is an integer in hours\n",
    "        return slice(np.datetime64(time_range[0]), np.datetime64(time_range[1]), time_range[2])\n",
    "    \n",
    "\n",
    "def get_regs_year(year, name, lat_rng, lon_rng):\n",
    "    regions = []\n",
    "    months = np.arange(str(year), str(year + 1), dtype=\"datetime64[M]\")\n",
    "    for m in months:\n",
    "        days = np.arange(m, m + np.timedelta64(1, \"M\"), dtype=\"datetime64[D]\")\n",
    "        timerng = (np.datetime64(days[0], \"h\"), days[-1] + np.timedelta64(23, \"h\"))\n",
    "        reg1 = (f\"{name}_{m}\", utils.DATA_1KM, timerng, lat_rng, lon_rng, False)\n",
    "        reg2 = (f\"{name}_{m}\", utils.DATA_2KM, timerng, lat_rng, lon_rng, True)\n",
    "        reg6 = (f\"{name}_{m}\", utils.DATA_6KM, timerng, lat_rng, lon_rng, True)\n",
    "        regions.append(reg1)\n",
    "        regions.append(reg2)\n",
    "        regions.append(reg6)\n",
    "    return regions"
   ]
  },
  {
   "cell_type": "code",
   "execution_count": 8,
   "id": "0b9850b6",
   "metadata": {
    "ExecuteTime": {
     "end_time": "2021-08-26T21:22:28.033932Z",
     "start_time": "2021-08-26T21:22:27.999968Z"
    }
   },
   "outputs": [],
   "source": [
    "region_data = [\n",
    "   (currentname, thredds_utils.DATA_HYCOMFORE, daterange, (22, 45), (273, 295), (0,0),False)\n",
    "]"
   ]
  },
  {
   "cell_type": "code",
   "execution_count": 9,
   "id": "953585f2",
   "metadata": {
    "ExecuteTime": {
     "end_time": "2021-08-26T21:22:28.076896Z",
     "start_time": "2021-08-26T21:22:28.036424Z"
    }
   },
   "outputs": [
    {
     "name": "stdout",
     "output_type": "stream",
     "text": [
      "region hycom_mwbproj data megabytes: 70.10061645507812\n"
     ]
    }
   ],
   "source": [
    "regions = []\n",
    "for rd in region_data:\n",
    "    new_reg = get_region(rd)\n",
    "    if new_reg[\"time\"].start >= np.datetime64(\"now\", \"h\"):\n",
    "        print(f\"data starting from time {new_reg['time'].start} is in the future\")\n",
    "        continue\n",
    "    new_reg[\"dataset\"] = thredds_data[new_reg[\"category\"]].sel(\n",
    "        time=new_reg[\"time\"],\n",
    "        lat=slice(new_reg[\"lat\"][0], new_reg[\"lat\"][1]),\n",
    "        lon=slice(new_reg[\"lon\"][0], new_reg[\"lon\"][1]),\n",
    "        depth=slice(new_reg[\"depth\"][0], new_reg[\"depth\"][1]),\n",
    "    )\n",
    "    regions.append(new_reg)\n",
    "    print(f\"region {new_reg['name']} data megabytes: {new_reg['dataset'].nbytes / 1024 / 1024}\")"
   ]
  },
  {
   "cell_type": "code",
   "execution_count": 10,
   "id": "64f537a0",
   "metadata": {
    "ExecuteTime": {
     "end_time": "2021-08-26T21:23:02.366579Z",
     "start_time": "2021-08-26T21:22:28.078898Z"
    }
   },
   "outputs": [
    {
     "name": "stdout",
     "output_type": "stream",
     "text": [
      "saved to current_netcdfs/hycom_mwbproj.nc\n",
      "DONE\n"
     ]
    }
   ],
   "source": [
    "for r in regions:\n",
    "    save_dir = utils.create_path(utils.CURRENT_NETCDF_DIR)\n",
    "    filename = f\"{r['name']}.nc\"\n",
    "    # save file\n",
    "    r[\"dataset\"].to_netcdf(save_dir / filename)\n",
    "    print(f\"saved to {save_dir / filename}\")\n",
    "print(\"DONE\")"
   ]
  },
  {
   "cell_type": "code",
   "execution_count": null,
   "id": "fe56cf1a",
   "metadata": {},
   "outputs": [],
   "source": []
  },
  {
   "cell_type": "code",
   "execution_count": null,
   "id": "97ba246f",
   "metadata": {},
   "outputs": [],
   "source": []
  }
 ],
 "metadata": {
  "kernelspec": {
   "display_name": "py3-parcels",
   "language": "python",
   "name": "py3-parcels"
  },
  "language_info": {
   "codemirror_mode": {
    "name": "ipython",
    "version": 3
   },
   "file_extension": ".py",
   "mimetype": "text/x-python",
   "name": "python",
   "nbconvert_exporter": "python",
   "pygments_lexer": "ipython3",
   "version": "3.7.10"
  }
 },
 "nbformat": 4,
 "nbformat_minor": 5
}
