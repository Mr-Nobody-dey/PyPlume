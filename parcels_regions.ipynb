{
 "cells": [
  {
   "cell_type": "markdown",
   "metadata": {},
   "source": [
    "# parcels regions\n",
    "\n",
    "runs parcels on existing netcdf files"
   ]
  },
  {
   "cell_type": "code",
   "execution_count": null,
   "metadata": {},
   "outputs": [],
   "source": [
    "%matplotlib inline\n",
    "%load_ext autoreload\n",
    "%autoreload 2"
   ]
  },
  {
   "cell_type": "code",
   "execution_count": null,
   "metadata": {},
   "outputs": [],
   "source": [
    "import os\n",
    "\n",
    "import utils\n",
    "from parcels_utils import HFRGrid, read_netcdf_info\n",
    "from parcels_sim import ParcelsSimulation\n",
    "from parcels_analysis import add_feature_set_to_result"
   ]
  },
  {
   "cell_type": "markdown",
   "metadata": {},
   "source": [
    "## configuration\n",
    "\n",
    "change the contents of `configs` for the simulation configuration you want"
   ]
  },
  {
   "cell_type": "code",
   "execution_count": null,
   "metadata": {},
   "outputs": [],
   "source": [
    "configs = [\n",
    "    \"plume_track.json\",\n",
    "#     \"plume_track_totsdlj.json\",\n",
    "#     \"tijuana_interped.json\",\n",
    "#     \"tijuana_lin.json\",\n",
    "#     \"tijuana_lin_aggr.json\",\n",
    "#     \"tijuana_less.json\",\n",
    "#     \"tijuana_now.json\",\n",
    "#     \"tijuana_onerep.json\",\n",
    "#     \"tijuana_range.json\",\n",
    "#     \"buoy_track.json\",\n",
    "]\n",
    "\n",
    "loaded_configs = [utils.load_config(utils.PARCELS_CONFIGS_DIR / path) for path in configs]\n",
    "grids = [HFRGrid(read_netcdf_info(cfg[\"netcdf_path\"])) for cfg in loaded_configs]\n",
    "sims = []\n",
    "for i in range(len(loaded_configs)):\n",
    "    sim = ParcelsSimulation(loaded_configs[i][\"name\"], grids[i], loaded_configs[i][\"parcels_config\"])\n",
    "    sims.append(sim)"
   ]
  },
  {
   "cell_type": "markdown",
   "metadata": {},
   "source": [
    "## Animated gif stuff and particle simulation"
   ]
  },
  {
   "cell_type": "markdown",
   "metadata": {},
   "source": [
    "### ParticleSet and spawn point setup\n",
    "\n",
    "note about interpolation methods: only `linear` works if you want to use the FieldSet in a ParticleSet."
   ]
  },
  {
   "cell_type": "code",
   "execution_count": null,
   "metadata": {
    "scrolled": true
   },
   "outputs": [],
   "source": [
    "[sim.pset.show(field=\"vector\") for sim in sims]"
   ]
  },
  {
   "cell_type": "markdown",
   "metadata": {},
   "source": [
    "### simulation execution"
   ]
  },
  {
   "cell_type": "code",
   "execution_count": null,
   "metadata": {
    "scrolled": true
   },
   "outputs": [],
   "source": [
    "for sim in sims:\n",
    "    sim.execute()"
   ]
  },
  {
   "cell_type": "markdown",
   "metadata": {},
   "source": [
    "### plot and gif generation\n",
    "\n",
    "gif generation requires [magick](https://imagemagick.org/index.php)\n",
    "\n",
    "if it doesn't work just comment out the gif generation line\n",
    "\n",
    "the gifs will be saved `snapshots/`"
   ]
  },
  {
   "cell_type": "code",
   "execution_count": null,
   "metadata": {
    "scrolled": true,
    "tags": []
   },
   "outputs": [],
   "source": [
    "for i, sim in enumerate(sims):\n",
    "    cfg = loaded_configs[i]\n",
    "    if cfg[\"save_snapshots\"]:\n",
    "        plotting_cfg = cfg[\"plotting_config\"]\n",
    "        if \"coastline\" in plotting_cfg and plotting_cfg[\"coastline\"] not in (None, {}):\n",
    "            # coastline stuff, use to delete particles that collide with a coastline\n",
    "            lats, lons = utils.load_geo_points(plotting_cfg[\"coastline\"])\n",
    "            sim.parcels_result.add_coastline(lats, lons)\n",
    "            sim.parcels_result.process_coastline_collisions()\n",
    "            print(\"processed collisions\")\n",
    "        if \"plot_feature_set\" in plotting_cfg and plotting_cfg[\"plot_feature_set\"] not in (None, \"\"):\n",
    "            add_feature_set_to_result(sim.parcels_result, plotting_cfg[\"plot_feature_set\"])\n",
    "        sim.parcels_result.generate_all_plots(os.path.join(plotting_cfg[\"save_dir_snapshots\"], sim.name), domain=plotting_cfg[\"shown_domain\"], land=plotting_cfg[\"draw_coasts\"])\n",
    "        # comment out the generate_gif line if it doesn't work\n",
    "        print(sim.parcels_result.generate_gif(os.path.join(plotting_cfg[\"save_dir_snapshots\"], f\"{sim.name}.gif\")))"
   ]
  }
 ],
 "metadata": {
  "interpreter": {
   "hash": "f2b639208b218da688d617c97dbb97f29e52ab8204d2c4d4c192e2d843ea0177"
  },
  "kernelspec": {
   "display_name": "py3-parcels",
   "language": "python",
   "name": "py3-parcels"
  },
  "language_info": {
   "codemirror_mode": {
    "name": "ipython",
    "version": 3
   },
   "file_extension": ".py",
   "mimetype": "text/x-python",
   "name": "python",
   "nbconvert_exporter": "python",
   "pygments_lexer": "ipython3",
   "version": "3.7.10"
  }
 },
 "nbformat": 4,
 "nbformat_minor": 4
}
