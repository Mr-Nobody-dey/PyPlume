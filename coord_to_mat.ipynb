{
 "cells": [
  {
   "cell_type": "code",
   "execution_count": 5,
   "metadata": {
    "ExecuteTime": {
     "end_time": "2020-09-10T20:31:55.152734Z",
     "start_time": "2020-09-10T20:31:55.148366Z"
    }
   },
   "outputs": [],
   "source": [
    "import numpy as np\n",
    "import scipy.io\n",
    "import xarray as xr\n",
    "\n",
    "import utils\n",
    "from parcels_utils import get_file_info"
   ]
  },
  {
   "cell_type": "code",
   "execution_count": 12,
   "metadata": {
    "ExecuteTime": {
     "end_time": "2020-09-10T20:35:22.589032Z",
     "start_time": "2020-09-10T20:35:22.509960Z"
    }
   },
   "outputs": [],
   "source": [
    "file = get_file_info(utils.CURRENT_NETCDF_DIR / \"west_coast_1km_hourly/tj_plume_interped.nc\", 1, name=\"tj_plume\")\n",
    "lats = file[\"xrds\"][\"lat\"].values\n",
    "lons = file[\"xrds\"][\"lon\"].values"
   ]
  },
  {
   "cell_type": "code",
   "execution_count": 19,
   "metadata": {
    "ExecuteTime": {
     "end_time": "2020-09-10T20:47:19.663295Z",
     "start_time": "2020-09-10T20:47:19.659324Z"
    }
   },
   "outputs": [],
   "source": [
    "mat_dict = {\n",
    "    \"gx\": np.array([np.repeat(lons, lats.size)]).T,\n",
    "    \"gy\": np.array([np.tile(lats, lons.size)]).T,\n",
    "}"
   ]
  },
  {
   "cell_type": "code",
   "execution_count": 20,
   "metadata": {
    "ExecuteTime": {
     "end_time": "2020-09-10T20:47:20.211434Z",
     "start_time": "2020-09-10T20:47:20.207446Z"
    }
   },
   "outputs": [],
   "source": [
    "scipy.io.savemat(utils.MATLAB_DIR / \"sdcodargrid_new.mat\", mat_dict)"
   ]
  }
 ],
 "metadata": {
  "kernelspec": {
   "display_name": "py3_parcels",
   "language": "python",
   "name": "py3_parcels"
  },
  "language_info": {
   "codemirror_mode": {
    "name": "ipython",
    "version": 3
   },
   "file_extension": ".py",
   "mimetype": "text/x-python",
   "name": "python",
   "nbconvert_exporter": "python",
   "pygments_lexer": "ipython3",
   "version": "3.6.10"
  }
 },
 "nbformat": 4,
 "nbformat_minor": 4
}
