{
 "cells": [
  {
   "cell_type": "code",
   "execution_count": null,
   "id": "8a5acad9",
   "metadata": {},
   "outputs": [],
   "source": [
    "import xarray as xr\n",
    "\n",
    "import plot_utils\n",
    "import utils\n",
    "from constants import *"
   ]
  },
  {
   "cell_type": "code",
   "execution_count": null,
   "id": "270b78b9",
   "metadata": {},
   "outputs": [],
   "source": [
    "ds = xr.open_dataset(\"http://hfrnet-tds.ucsd.edu/thredds/dodsC/HFR/USWC/1km/hourly/RTV/HFRADAR_US_West_Coast_1km_Resolution_Hourly_RTV_best.ncd?time[0:1:82616]\")\n",
    "ds"
   ]
  },
  {
   "cell_type": "code",
   "execution_count": null,
   "id": "55e1b417",
   "metadata": {},
   "outputs": [],
   "source": [
    "lats, lons = utils.load_pts_mat(\"matlab/glist90zj_pts_position.mat\", \"yf\", \"xf\")"
   ]
  },
  {
   "cell_type": "code",
   "execution_count": null,
   "id": "ddad2541",
   "metadata": {},
   "outputs": [],
   "source": [
    "TIJUANA_MOUTH_DOMAIN"
   ]
  },
  {
   "cell_type": "code",
   "execution_count": null,
   "id": "a7878e0e",
   "metadata": {},
   "outputs": [],
   "source": [
    "fig, ax = plot_utils.get_carree_axis(TIJUANA_MOUTH_DOMAIN, land=True)\n",
    "plot_utils.get_carree_gl(ax)\n",
    "ax.scatter(lons[-100:], lats[-100:])\n",
    "ax.scatter(TIJUANA_MOUTH_POSITION[1], TIJUANA_MOUTH_POSITION[0])"
   ]
  }
 ],
 "metadata": {
  "kernelspec": {
   "display_name": "py3-parcels",
   "language": "python",
   "name": "py3-parcels"
  },
  "language_info": {
   "codemirror_mode": {
    "name": "ipython",
    "version": 3
   },
   "file_extension": ".py",
   "mimetype": "text/x-python",
   "name": "python",
   "nbconvert_exporter": "python",
   "pygments_lexer": "ipython3",
   "version": "3.7.10"
  }
 },
 "nbformat": 4,
 "nbformat_minor": 5
}
