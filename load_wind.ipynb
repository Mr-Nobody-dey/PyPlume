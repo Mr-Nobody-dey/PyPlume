{
 "cells": [
  {
   "cell_type": "markdown",
   "id": "dc7e7131",
   "metadata": {},
   "source": [
    "# from txt file from national data buoy center"
   ]
  },
  {
   "cell_type": "code",
   "execution_count": null,
   "id": "87833907",
   "metadata": {},
   "outputs": [],
   "source": [
    "import pandas as pd\n",
    "import xarray as xr\n",
    "import numpy as np"
   ]
  },
  {
   "cell_type": "code",
   "execution_count": null,
   "id": "df7299de",
   "metadata": {},
   "outputs": [],
   "source": [
    "df = pd.read_csv(\"current_netcdfs/ndbc_46025_wind.txt\", r\" +\")\n",
    "# units row, drop\n",
    "df = df.drop(0)\n",
    "df = df.drop(df[df[\"WDIR\"] == \"MM\"].index)\n",
    "df"
   ]
  },
  {
   "cell_type": "code",
   "execution_count": null,
   "id": "f31ab685",
   "metadata": {},
   "outputs": [],
   "source": [
    "# notes: wind direction is where wind is coming from, pointing in opposite direction\n",
    "# 3% of wspd added to ocean vector\n",
    "uw_obs = -df['WSPD'].astype(float).values * np.sin(np.deg2rad(df['WDIR'].astype(float).values))\n",
    "vw_obs = -df['WSPD'].astype(float).values * np.cos(np.deg2rad(df['WDIR'].astype(float).values))"
   ]
  },
  {
   "cell_type": "code",
   "execution_count": null,
   "id": "222ffc18",
   "metadata": {},
   "outputs": [],
   "source": [
    "# the column names are different oh god why\n",
    "timestamp = df[\"%YY\"] + \"-\" + df[\"0.0\"] + \"-\" + df[\"DD\"] + \"T\" + df[\"hh\"] + \":\" + df[\"mm\"]\n",
    "timestamp = pd.to_datetime(timestamp)"
   ]
  },
  {
   "cell_type": "code",
   "execution_count": null,
   "id": "0345159f",
   "metadata": {},
   "outputs": [],
   "source": [
    "new_df = pd.DataFrame({\"time\": timestamp, \"u\": uw_obs, \"v\": vw_obs})\n",
    "new_df = new_df.sort_values(by=\"time\")\n",
    "new_df"
   ]
  },
  {
   "cell_type": "code",
   "execution_count": null,
   "id": "4ba57152",
   "metadata": {},
   "outputs": [],
   "source": [
    "u = xr.DataArray(new_df[\"u\"], coords={\"time\": new_df[\"time\"]})\n",
    "v = xr.DataArray(new_df[\"v\"], coords={\"time\": new_df[\"time\"]})"
   ]
  },
  {
   "cell_type": "code",
   "execution_count": null,
   "id": "84a860d7",
   "metadata": {},
   "outputs": [],
   "source": [
    "ds = xr.Dataset({\"U\": u, \"V\": v})\n",
    "ds"
   ]
  },
  {
   "cell_type": "code",
   "execution_count": null,
   "id": "a1a89425",
   "metadata": {},
   "outputs": [],
   "source": [
    "ds.to_netcdf(\"current_netcdfs/ndbc_46025_wind.nc\")"
   ]
  },
  {
   "cell_type": "markdown",
   "id": "670c8698",
   "metadata": {},
   "source": [
    "# different format, .mat file lol\n",
    "\n",
    "please help"
   ]
  },
  {
   "cell_type": "code",
   "execution_count": null,
   "id": "df5bdd24",
   "metadata": {},
   "outputs": [],
   "source": [
    "from scipy.io import loadmat\n",
    "import numpy as np\n",
    "import xarray as xr\n",
    "import datetime\n",
    "\n",
    "winds = loadmat(\"current_netcdfs/GFS_PointSource_winds.mat\")"
   ]
  },
  {
   "cell_type": "code",
   "execution_count": null,
   "id": "1fda0262",
   "metadata": {},
   "outputs": [],
   "source": [
    "converted = [datetime.datetime.strptime(t, '%m-%d-%Y %H:%M') for t in winds[\"time_str\"]]\n",
    "times = np.array(converted, dtype=np.datetime64)"
   ]
  },
  {
   "cell_type": "code",
   "execution_count": null,
   "id": "49240a8a",
   "metadata": {},
   "outputs": [],
   "source": [
    "u = xr.DataArray(winds[\"u\"].squeeze(), coords={\"time\": times})\n",
    "v = xr.DataArray(winds[\"v\"].squeeze(), coords={\"time\": times})"
   ]
  },
  {
   "cell_type": "code",
   "execution_count": null,
   "id": "224cecae",
   "metadata": {},
   "outputs": [],
   "source": [
    "ds = xr.Dataset({\"U\": u, \"V\": v})\n",
    "ds"
   ]
  },
  {
   "cell_type": "code",
   "execution_count": null,
   "id": "89311ed5",
   "metadata": {},
   "outputs": [],
   "source": [
    "ds.to_netcdf(\"current_netcdfs/GFS_PointSource_Winds.nc\")"
   ]
  }
 ],
 "metadata": {
  "kernelspec": {
   "display_name": "py3-parcels",
   "language": "python",
   "name": "py3-parcels"
  },
  "language_info": {
   "codemirror_mode": {
    "name": "ipython",
    "version": 3
   },
   "file_extension": ".py",
   "mimetype": "text/x-python",
   "name": "python",
   "nbconvert_exporter": "python",
   "pygments_lexer": "ipython3",
   "version": "3.7.10"
  }
 },
 "nbformat": 4,
 "nbformat_minor": 5
}
