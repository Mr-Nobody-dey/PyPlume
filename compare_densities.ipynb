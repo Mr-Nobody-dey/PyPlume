{
 "cells": [
  {
   "cell_type": "code",
   "execution_count": 2,
   "metadata": {},
   "outputs": [],
   "source": [
    "%matplotlib inline\n",
    "%load_ext autoreload\n",
    "%autoreload 2"
   ]
  },
  {
   "cell_type": "code",
   "execution_count": 3,
   "metadata": {},
   "outputs": [],
   "source": [
    "from functools import reduce\n",
    "from pathlib import Path\n",
    "\n",
    "import numpy as np\n",
    "\n",
    "from pyplume import utils, plotting, constants\n",
    "from pyplume.dataloaders import load_geo_points\n",
    "from pyplume.postprocess import ParticleResult"
   ]
  },
  {
   "cell_type": "code",
   "execution_count": 76,
   "metadata": {},
   "outputs": [],
   "source": [
    "results = {\n",
    "    \"thredds_smoothn\": \"results/simulation_tijuana_hurrkay_alongshore_2022-10-31T13-18-57-smoothn/particlefile.nc\",\n",
    "    \"Kay HFR\": \"results/simulation_tijuana_hurrkay_alongshore_2022-11-02T13-36-12-nosmoothn/particlefile.nc\",\n",
    "    \"Kay OI\": \"results/simulation_tijuana_hurrkay_oi_alongshore_2022-10-31T13-18-58/particlefile.nc\",\n",
    "    \"Henri HFR\": \"results/simulation_ny_hurrhenri_hfrnet_2022-11-16T16-18-48/particlefile.nc\",\n",
    "    \"Henri HYCOM\": \"results/simulation_ny_hurrhenri_hycom_2022-11-16T16-18-48/particlefile.nc\",\n",
    "}\n",
    "to_compare = [\"Henri HFR\", \"Henri HYCOM\"]\n",
    "# to_compare = [\"Kay HFR\", \"Kay OI\"]\n",
    "coast_lats, coast_lons = load_geo_points(\"data/coastOR2Mex_tijuana.mat\")\n",
    "\n",
    "# domain = constants.TIJUANA_RIVER_DOMAIN\n",
    "domain = {\n",
    "    \"S\": 40.2,\n",
    "    \"N\": 40.7,\n",
    "    \"W\": -74.1,\n",
    "    \"E\": -73.2\n",
    "}\n",
    "# domain = {\n",
    "#     \"S\": 38.5,\n",
    "#     \"N\": 39.2,\n",
    "#     \"W\": -75,\n",
    "#     \"E\": -74\n",
    "# }\n",
    "\n",
    "res_path = Path(f\"results/compare_density_{'_'.join(to_compare)}\")\n",
    "res_path.mkdir(exist_ok=True)\n",
    "\n",
    "for key in results:\n",
    "    results[key] = ParticleResult(results[key])"
   ]
  },
  {
   "cell_type": "code",
   "execution_count": 77,
   "metadata": {},
   "outputs": [],
   "source": [
    "# common_timestamps = np.intersect1d(results[to_compare[0]].data_vars[\"time\"], results[to_compare[1]].data_vars[\"time\"])\n",
    "if len(to_compare) <= 1:\n",
    "    tstamps = results[to_compare[0]].data_vars[\"time\"]\n",
    "    tstamps = tstamps[~np.isnan(tstamps)]\n",
    "    common_timestamps = np.sort(np.unique(tstamps))\n",
    "else:\n",
    "    common_timestamps = reduce(np.intersect1d, list(map(lambda x: results[x].data_vars[\"time\"], to_compare)))"
   ]
  },
  {
   "cell_type": "code",
   "execution_count": null,
   "metadata": {},
   "outputs": [],
   "source": [
    "for i, t in enumerate(common_timestamps):\n",
    "    lats1, lons1 = results[to_compare[0]].get_positions_time(t, query=\"before\")\n",
    "    lats2, lons2 = results[to_compare[1]].get_positions_time(t, query=\"before\")\n",
    "    fig, (ax1, ax2) = plotting.carree_subplots((1,2), domain=domain)\n",
    "    plotting.plot_particle_density(lats1, lons1, bins=100, ax=ax1, pmax=1, title=f\"{to_compare[0]} cumulative density at\\n{t.astype('datetime64[s]')}\")\n",
    "    # plotting.plot_coastline(coast_lats, coast_lons, ax=ax1, c=\"k\")\n",
    "    plotting.plot_particle_density(lats2, lons2, bins=100, ax=ax2, pmax=1, title=f\"{to_compare[1]} cumulative density at\\n{t.astype('datetime64[s]')}\")\n",
    "    # plotting.plot_coastline(coast_lats, coast_lons, ax=ax2, c=\"k\")\n",
    "    strnum = str(i).zfill(3)\n",
    "    plotting.draw_plt(savefile=res_path / f\"plot_{strnum}\", fig=fig, fit=True, figsize=(12, 6))"
   ]
  },
  {
   "cell_type": "code",
   "execution_count": 81,
   "metadata": {},
   "outputs": [],
   "source": [
    "# save plot as final timestamps\n",
    "\n",
    "t = common_timestamps[-1]\n",
    "for i, name in enumerate(to_compare):\n",
    "    starts = np.unique(np.array([results[name].ds[\"lat\"][:, 0], results[name].ds[\"lon\"][:, 0]]).T, axis=0).T\n",
    "    lats, lons = results[name].get_positions_time(t, query=\"before\")\n",
    "    fig, ax = plotting.carree_subplots((1,1), domain=domain, land=True)\n",
    "    plotting.plot_particle_density(lats, lons, bins=50, ax=ax, pmax=0.76, title=f\"{name} cumulative density at\\n{t.astype('datetime64[s]')}\")\n",
    "    # plotting.plot_coastline(coast_lats, coast_lons, ax=ax, c=\"k\")\n",
    "    ax.scatter(starts[1], starts[0], marker=\"x\", c=\"r\")\n",
    "    plotting.draw_plt(savefile=res_path / f\"density_plot_final_{name}.png\", fig=fig, fit=True, figsize=(7, 4.5))"
   ]
  }
 ],
 "metadata": {
  "kernelspec": {
   "display_name": "Python 3.7.10 ('py3-parcels')",
   "language": "python",
   "name": "python3"
  },
  "language_info": {
   "codemirror_mode": {
    "name": "ipython",
    "version": 3
   },
   "file_extension": ".py",
   "mimetype": "text/x-python",
   "name": "python",
   "nbconvert_exporter": "python",
   "pygments_lexer": "ipython3",
   "version": "3.7.10 (default, Feb 26 2021, 10:16:00) \n[Clang 10.0.0 ]"
  },
  "orig_nbformat": 4,
  "vscode": {
   "interpreter": {
    "hash": "0eba6c4b74a2f8ee4f11000f0a8df2ef42b87fd4ae75b12d527f1b8c08aad6c6"
   }
  }
 },
 "nbformat": 4,
 "nbformat_minor": 2
}
