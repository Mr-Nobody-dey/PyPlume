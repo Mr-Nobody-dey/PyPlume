{
 "cells": [
  {
   "cell_type": "code",
   "execution_count": null,
   "metadata": {
    "scrolled": true
   },
   "outputs": [],
   "source": [
    "%matplotlib inline\n",
    "%load_ext autoreload\n",
    "%autoreload 2"
   ]
  },
  {
   "cell_type": "code",
   "execution_count": null,
   "metadata": {
    "scrolled": true
   },
   "outputs": [],
   "source": [
    "import numpy as np\n",
    "import matplotlib.pyplot as plt\n",
    "import scipy.io\n",
    "\n",
    "from plot_utils import get_carree_axis"
   ]
  },
  {
   "cell_type": "code",
   "execution_count": null,
   "metadata": {
    "scrolled": true
   },
   "outputs": [],
   "source": [
    "TIJUANA_RIVER_DOMAIN = dict(\n",
    "    S=32.528,\n",
    "    N=32.71,\n",
    "    W=-117.29,\n",
    "    E=-117.11,\n",
    ")\n",
    "CLOSE_TIJUANA_DOMAIN = dict(\n",
    "    S=32.53,\n",
    "    N=32.5825,\n",
    "    W=-117.162,\n",
    "    E=-117.105,\n",
    ")"
   ]
  },
  {
   "cell_type": "code",
   "execution_count": null,
   "metadata": {
    "scrolled": true
   },
   "outputs": [],
   "source": [
    "def plot_mat(mat, x_key, y_key, domain):\n",
    "    ax = get_carree_axis(domain)\n",
    "    plt.scatter(mat[x_key].flatten(), mat[y_key].flatten(), s=2)\n",
    "    plt.show()"
   ]
  },
  {
   "cell_type": "code",
   "execution_count": null,
   "metadata": {
    "scrolled": true
   },
   "outputs": [],
   "source": [
    "coast_mat = scipy.io.loadmat(\"mat/coastline.mat\")\n",
    "coast1km_mat = scipy.io.loadmat(\"mat/coastline_1km.mat\")\n",
    "pts_mat = scipy.io.loadmat(\"mat/pts_20200810_1530.mat\")"
   ]
  },
  {
   "cell_type": "code",
   "execution_count": null,
   "metadata": {
    "scrolled": true
   },
   "outputs": [],
   "source": [
    "plot_mat(coast1km_mat, \"rlonz0\", \"rlatz0\", TIJUANA_RIVER_DOMAIN)\n",
    "plot_mat(coast1km_mat, \"spos_x\", \"spos_y\", TIJUANA_RIVER_DOMAIN)\n",
    "plot_mat(coast_mat, \"lonz0\", \"latz0\", TIJUANA_RIVER_DOMAIN)"
   ]
  },
  {
   "cell_type": "code",
   "execution_count": null,
   "metadata": {
    "scrolled": true
   },
   "outputs": [],
   "source": [
    "plot_mat(pts_mat, \"xf\", \"yf\", CLOSE_TIJUANA_DOMAIN)"
   ]
  },
  {
   "cell_type": "code",
   "execution_count": null,
   "metadata": {
    "scrolled": true
   },
   "outputs": [],
   "source": [
    "len(np.where(~np.isnan(pts_mat[\"xf\"]))[0])"
   ]
  }
 ],
 "metadata": {
  "kernelspec": {
   "display_name": "py3_parcels",
   "language": "python",
   "name": "py3_parcels"
  },
  "language_info": {
   "codemirror_mode": {
    "name": "ipython",
    "version": 3
   },
   "file_extension": ".py",
   "mimetype": "text/x-python",
   "name": "python",
   "nbconvert_exporter": "python",
   "pygments_lexer": "ipython3",
   "version": "3.6.10"
  }
 },
 "nbformat": 4,
 "nbformat_minor": 4
}
