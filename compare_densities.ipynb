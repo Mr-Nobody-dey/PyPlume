{
 "cells": [
  {
   "cell_type": "code",
   "execution_count": null,
   "metadata": {},
   "outputs": [],
   "source": [
    "%matplotlib inline\n",
    "%load_ext autoreload\n",
    "%autoreload 2"
   ]
  },
  {
   "cell_type": "code",
   "execution_count": null,
   "metadata": {},
   "outputs": [],
   "source": [
    "from functools import reduce\n",
    "from pathlib import Path\n",
    "\n",
    "import numpy as np\n",
    "\n",
    "from pyplume import utils, plotting, constants\n",
    "from pyplume.postprocess import ParticleResult"
   ]
  },
  {
   "cell_type": "code",
   "execution_count": null,
   "metadata": {},
   "outputs": [],
   "source": [
    "results = {\n",
    "    \"thredds_smoothn\": \"results/simulation_tijuana_hurrkay_alongshore_2022-10-31T13-18-57-smoothn/particlefile.nc\",\n",
    "    \"thredds_nosmoothn\": \"results/simulation_tijuana_hurrkay_alongshore_2022-11-02T13-36-12-nosmoothn/particlefile.nc\",\n",
    "    \"oi\": \"results/simulation_tijuana_hurrkay_oi_alongshore_2022-10-31T13-18-58/particlefile.nc\",\n",
    "    \"henri_hfr\": \"results/simulation_ny_hurrhenri_hfrnet_2022-11-14T14-35-36/particlefile.nc\"\n",
    "}\n",
    "to_compare = [\"henri_hfr\"]\n",
    "# to_compare = [\"thredds_smoothn\", \"thredds_nosmoothn\"]\n",
    "# coast_lats, coast_lons = utils.load_geo_points(\"data/coastOR2Mex_tijuana.mat\")\n",
    "\n",
    "domain = constants.TIJUANA_RIVER_DOMAIN\n",
    "domain = {\n",
    "    \"S\": 38.162201,\n",
    "    \"N\": 41.520008,\n",
    "    \"W\": -75.709632,\n",
    "    \"E\": -69.723751\n",
    "}\n",
    "\n",
    "res_path = Path(f\"results/compare_density_{'_'.join(to_compare)}\")\n",
    "res_path.mkdir(exist_ok=True)\n",
    "\n",
    "for key in results:\n",
    "    results[key] = ParticleResult(results[key])"
   ]
  },
  {
   "cell_type": "code",
   "execution_count": null,
   "metadata": {},
   "outputs": [],
   "source": [
    "# common_timestamps = np.intersect1d(results[to_compare[0]].data_vars[\"time\"], results[to_compare[1]].data_vars[\"time\"])\n",
    "if len(to_compare) <= 1:\n",
    "    tstamps = results[to_compare[0]].data_vars[\"time\"]\n",
    "    tstamps = tstamps[~np.isnan(tstamps)]\n",
    "    common_timestamps = np.sort(np.unique(tstamps))\n",
    "else:\n",
    "    common_timestamps = reduce(np.intersect1d, list(map(lambda x: results[key].data_vars[\"time\"], to_compare)))"
   ]
  },
  {
   "cell_type": "code",
   "execution_count": null,
   "metadata": {},
   "outputs": [],
   "source": [
    "for i, t in enumerate(common_timestamps):\n",
    "    lats1, lons1 = results[to_compare[0]].get_positions_time(t, when=\"before\")\n",
    "    # lats2, lons2 = results[to_compare[1]].get_positions_time(t, when=\"before\")\n",
    "    fig, (ax1, ax2) = plotting.carree_subplots((1,2), domain=domain)\n",
    "    plotting.draw_particle_density(lats1, lons1, bins=100, ax=ax1, pmax=0.7, title=f\"{to_compare[0]} cumulative density at\\n{t.astype('datetime64[s]')}\")\n",
    "    # plotting.draw_coastline(coast_lats, coast_lons, ax=ax1, c=\"k\")\n",
    "    # plotting.draw_particle_density(lats2, lons2, bins=100, ax=ax2, pmax=0.7, title=f\"{to_compare[1]} cumulative density at\\n{t.astype('datetime64[s]')}\")\n",
    "    # plotting.draw_coastline(coast_lats, coast_lons, ax=ax2, c=\"k\")\n",
    "    strnum = str(i).zfill(3)\n",
    "    plotting.draw_plt(savefile=res_path / f\"plot_{strnum}\", fig=fig, fit=True, figsize=(12, 6))"
   ]
  },
  {
   "cell_type": "code",
   "execution_count": null,
   "metadata": {},
   "outputs": [],
   "source": [
    "# save plot as final timestamps\n",
    "\n",
    "t = common_timestamps[-1]\n",
    "for i, name in enumerate(to_compare):\n",
    "    lats, lons = results[name].get_positions_time(t, when=\"before\")\n",
    "    fig, ax = plotting.carree_subplots((1,1), land=True)\n",
    "    plotting.draw_particle_density(lats, lons, bins=100, ax=ax, pmax=1, title=f\"{name} cumulative density at\\n{t.astype('datetime64[s]')}\")\n",
    "    # plotting.draw_coastline(coast_lats, coast_lons, ax=ax, c=\"k\")\n",
    "    plotting.draw_plt(savefile=res_path / f\"density_plot_final_{name}.png\", fig=fig, fit=True, figsize=(5, 5))"
   ]
  }
 ],
 "metadata": {
  "kernelspec": {
   "display_name": "Python 3.7.10 ('py3-parcels')",
   "language": "python",
   "name": "python3"
  },
  "language_info": {
   "codemirror_mode": {
    "name": "ipython",
    "version": 3
   },
   "file_extension": ".py",
   "mimetype": "text/x-python",
   "name": "python",
   "nbconvert_exporter": "python",
   "pygments_lexer": "ipython3",
   "version": "3.7.10"
  },
  "orig_nbformat": 4,
  "vscode": {
   "interpreter": {
    "hash": "0eba6c4b74a2f8ee4f11000f0a8df2ef42b87fd4ae75b12d527f1b8c08aad6c6"
   }
  }
 },
 "nbformat": 4,
 "nbformat_minor": 2
}
