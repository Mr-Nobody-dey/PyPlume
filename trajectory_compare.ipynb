{
 "cells": [
  {
   "cell_type": "markdown",
   "metadata": {},
   "source": [
    "# trajectory_compare\n",
    "\n",
    "compare multiple particle trajectory files and .mat outputs with the same spawn points"
   ]
  },
  {
   "cell_type": "code",
   "execution_count": null,
   "metadata": {},
   "outputs": [],
   "source": [
    "%matplotlib inline\n",
    "%load_ext autoreload\n",
    "%autoreload 2"
   ]
  },
  {
   "cell_type": "code",
   "execution_count": null,
   "metadata": {},
   "outputs": [],
   "source": [
    "from pathlib import Path\n",
    "\n",
    "import numpy as np\n",
    "import xarray as xr\n",
    "\n",
    "import utils\n",
    "from parcels_utils import arrays_to_particleds\n",
    "from plot_utils import plot_trajectories, plot_particles_nc"
   ]
  },
  {
   "cell_type": "code",
   "execution_count": null,
   "metadata": {},
   "outputs": [],
   "source": [
    "# this should definitely not be a thing\n",
    "def get_part_hash(ds, i):\n",
    "    lat = ds[\"lat\"].values[i, 0]\n",
    "    lon = ds[\"lon\"].values[i, 0]\n",
    "    return hash((lat, lon))"
   ]
  },
  {
   "cell_type": "code",
   "execution_count": null,
   "metadata": {},
   "outputs": [],
   "source": [
    "# first file in list is used as a reference for every particle's starting point\n",
    "particle_file_paths = [\n",
    "    \"particle_plume_track.nc\",\n",
    "    \"particle_plume_track_totsdlj.nc\",\n",
    "#     \"plume_pts_20200810_0030.nc\",\n",
    "]\n",
    "\n",
    "particle_files = []\n",
    "for path in particle_file_paths:\n",
    "    with xr.open_dataset(utils.PARTICLE_NETCDF_DIR / path) as pf:\n",
    "        particle_files.append(pf)"
   ]
  },
  {
   "cell_type": "markdown",
   "metadata": {},
   "source": [
    "### gif generation\n",
    "\n",
    "two simulations in the same plot"
   ]
  },
  {
   "cell_type": "code",
   "execution_count": null,
   "metadata": {},
   "outputs": [],
   "source": [
    "domain = {\n",
    "    \"W\": -117.3,\n",
    "    \"E\": -117,\n",
    "    \"S\": 32.3,\n",
    "    \"N\": 32.7,\n",
    "}"
   ]
  },
  {
   "cell_type": "code",
   "execution_count": null,
   "metadata": {
    "scrolled": true
   },
   "outputs": [],
   "source": [
    "double_plot_path = utils.create_path(utils.PICUTRE_DIR / \"plume_compare_double\")\n",
    "for p in double_plot_path.glob(\"*.png\"):\n",
    "    p.unlink()\n",
    "\n",
    "for i in range(particle_files[0].dims[\"obs\"]):\n",
    "    time_ref = particle_files[0].isel(obs=i)[\"time\"]\n",
    "    # get the first non-nat time to put as title string\n",
    "    time = time_ref[np.where(~np.isnat(time_ref))][0].values\n",
    "    plot_particles_nc(particle_files[0].isel(obs=i), domain, time=time, label=\"parcels\", part_size=1)\n",
    "    plot_particles_nc(particle_files[1].isel(obs=i), domain, time=time, label=\"oi\", savefile=double_plot_path / f\"comp{str(i).zfill(3)}.png\", part_size=1)"
   ]
  },
  {
   "cell_type": "code",
   "execution_count": null,
   "metadata": {},
   "outputs": [],
   "source": [
    "utils.create_gif(25, double_plot_path / \"*.png\", utils.PICUTRE_DIR / f\"plume_comp_double.gif\")"
   ]
  },
  {
   "cell_type": "markdown",
   "metadata": {},
   "source": [
    "### singular particle comparisons"
   ]
  },
  {
   "cell_type": "code",
   "execution_count": null,
   "metadata": {},
   "outputs": [],
   "source": [
    "ref_file = particle_files[0]"
   ]
  },
  {
   "cell_type": "code",
   "execution_count": null,
   "metadata": {},
   "outputs": [],
   "source": [
    "particle_ids = np.empty(ref_file.dims[\"traj\"])\n",
    "for i in range(ref_file.dims[\"traj\"]):\n",
    "    particle_ids[i] = get_part_hash(ref_file, i)"
   ]
  },
  {
   "cell_type": "markdown",
   "metadata": {},
   "source": [
    "iterates through the points in the reference netcdf and treats them as spawn points\n",
    "\n",
    "then it checks all the other netcdf files for points with the same spawn, and then graphs them to compare\n",
    "\n",
    "saves a separate netcdf file for each spawn and each different particle file given\n",
    "\n",
    "plots of the comparisons are saved under `snapshots/plume_compare/hash_of_position.png` where hash_of_position is just (lat, lon) tuple hash"
   ]
  },
  {
   "cell_type": "code",
   "execution_count": null,
   "metadata": {
    "scrolled": true
   },
   "outputs": [],
   "source": [
    "particle_path = utils.create_path(utils.PARTICLE_NETCDF_DIR / \"plume_compare\")\n",
    "plot_path = utils.create_path(utils.PICUTRE_DIR / \"plume_compare\")\n",
    "for p in plot_path.glob(\"*.png\"):\n",
    "    p.unlink()\n",
    "    \n",
    "for p_id in particle_ids[::25]:\n",
    "    nc_files = []\n",
    "    names = []\n",
    "    num_format = format(p_id, \".0f\")\n",
    "    for pf_i in range(len(particle_files)):\n",
    "        pf = particle_files[pf_i]\n",
    "        for i in range(pf.dims[\"traj\"]):\n",
    "            if p_id != get_part_hash(pf, i):\n",
    "                continue\n",
    "            save_path = utils.create_path(particle_path / f\"{num_format}\")\n",
    "            time = pf[\"time\"].values[np.newaxis, i]\n",
    "            lat = pf[\"lat\"].values[np.newaxis, i]\n",
    "            lon = pf[\"lon\"].values[np.newaxis, i]\n",
    "            # recreate particle netcdf to drop data we don't need\n",
    "            ds = arrays_to_particleds(time, lat, lon)\n",
    "            name = particle_file_paths[pf_i].split(\"/\")[-1].split(\".\")[0]\n",
    "            ds.to_netcdf(f\"{save_path / Path(name)}.nc\")\n",
    "            nc_files.append(f\"{save_path / Path(name)}.nc\")\n",
    "            names.append(name)\n",
    "            break\n",
    "    plot_trajectories(nc_files, names, legend=True, savefile=plot_path / f\"{num_format}.png\")"
   ]
  }
 ],
 "metadata": {
  "kernelspec": {
   "display_name": "py3_parcels",
   "language": "python",
   "name": "py3_parcels"
  },
  "language_info": {
   "codemirror_mode": {
    "name": "ipython",
    "version": 3
   },
   "file_extension": ".py",
   "mimetype": "text/x-python",
   "name": "python",
   "nbconvert_exporter": "python",
   "pygments_lexer": "ipython3",
   "version": "3.6.10"
  }
 },
 "nbformat": 4,
 "nbformat_minor": 4
}
