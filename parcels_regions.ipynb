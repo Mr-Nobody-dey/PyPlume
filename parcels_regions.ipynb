{
 "cells": [
  {
   "cell_type": "markdown",
   "source": [
    "# parcels regions\n",
    "\n",
    "runs parcels on existing netcdf files"
   ],
   "metadata": {}
  },
  {
   "cell_type": "code",
   "execution_count": null,
   "source": [
    "%matplotlib inline\n",
    "%load_ext autoreload\n",
    "%autoreload 2"
   ],
   "outputs": [],
   "metadata": {}
  },
  {
   "cell_type": "code",
   "execution_count": null,
   "source": [
    "import utils\n",
    "from parcels_utils import HFRGrid\n",
    "from parcels_sim import ParcelsSimulation, DeleteAfterLifetime\n",
    "from parcels_analysis import *"
   ],
   "outputs": [],
   "metadata": {}
  },
  {
   "cell_type": "markdown",
   "source": [
    "## configuration\n",
    "\n",
    "change the contents of `configs` for the simulation configuration you want"
   ],
   "metadata": {}
  },
  {
   "cell_type": "code",
   "execution_count": null,
   "source": [
    "configs = [\n",
    "    \"plume_track.json\",\n",
    "#     \"plume_track_totsdlj.json\",\n",
    "#     \"tijuana_interped.json\",\n",
    "#     \"tijuana_lin.json\",\n",
    "#     \"tijuana_lin_aggr.json\",\n",
    "#     \"tijuana_less.json\",\n",
    "#     \"tijuana_now.json\",\n",
    "#     \"tijuana_onerep.json\",\n",
    "#     \"tijuana_range.json\",\n",
    "#     \"buoy_track.json\",\n",
    "]\n",
    "\n",
    "# domain = None\n",
    "domain = dict(\n",
    "    S=32.53,\n",
    "    N=32.564,\n",
    "    W=-117.162,\n",
    "    E=-117.105\n",
    ")\n",
    "domain = TIJUANA_MOUTH_DOMAIN\n",
    "\n",
    "loaded_configs = [utils.load_config(utils.PARCELS_CONFIGS_DIR / path) for path in configs]\n",
    "grids = [HFRGrid(utils.FILES_ROOT / cfg[\"netcdf_path\"]) for cfg in loaded_configs]\n",
    "sims = []\n",
    "for i in range(len(loaded_configs)):\n",
    "    sim = ParcelsSimulation(loaded_configs[i][\"name\"], grids[i], loaded_configs[i][\"parcels_config\"])\n",
    "    sim.add_kernel(DeleteAfterLifetime)\n",
    "    sims.append(sim)"
   ],
   "outputs": [],
   "metadata": {}
  },
  {
   "cell_type": "markdown",
   "source": [
    "## Animated gif stuff and particle simulation"
   ],
   "metadata": {}
  },
  {
   "cell_type": "markdown",
   "source": [
    "### ParticleSet and spawn point setup\n",
    "\n",
    "note about interpolation methods: only `linear` works if you want to use the FieldSet in a ParticleSet."
   ],
   "metadata": {}
  },
  {
   "cell_type": "code",
   "execution_count": null,
   "source": [
    "[sim.pset.show(field=\"vector\", vmax=ParcelsSimulation.MAX_V) for sim in sims]"
   ],
   "outputs": [],
   "metadata": {}
  },
  {
   "cell_type": "markdown",
   "source": [
    "### simulation setup and execution\n",
    "\n",
    "simulation parameter setup"
   ],
   "metadata": {}
  },
  {
   "cell_type": "code",
   "execution_count": null,
   "source": [
    "for sim in sims:\n",
    "    sim.execute()"
   ],
   "outputs": [],
   "metadata": {
    "scrolled": true
   }
  },
  {
   "cell_type": "markdown",
   "source": [
    "### gif generation\n",
    "\n",
    "don't have to run, requires [magick](https://imagemagick.org/index.php)\n",
    "\n",
    "the gifs will be saved `snapshots/`"
   ],
   "metadata": {}
  },
  {
   "cell_type": "code",
   "execution_count": null,
   "source": [
    "sim.parcels_result.plot_features = {}\n",
    "sim.parcels_result.add_coastline(utils.MATLAB_DIR / \"coastline.mat\")\n",
    "sim.parcels_result.process_coastline_collisions()\n",
    "print(\"processed collisions\")\n",
    "sim.parcels_result.add_plot_feature(NanSeparatedFeature.get_sd_full_coastline(), name=\"coast\")\n",
    "sim.parcels_result.add_plot_feature(StationFeature.get_sd_stations(), name=\"station\")\n",
    "sim.parcels_result.add_plot_feature(LatTrackedPointFeature.get_tijuana_mouth(), name=\"mouth\")\n",
    "sim.parcels_result.max_life = 86400 * 3\n",
    "for sim in sims:\n",
    "    sim.parcels_result.generate_all_plots(utils.FILES_ROOT / utils.PICUTRE_DIR / sim.name, domain=domain)\n",
    "    print(sim.parcels_result.generate_gif(utils.FILES_ROOT / utils.PICUTRE_DIR / f\"{sim.name}.gif\"))"
   ],
   "outputs": [],
   "metadata": {
    "scrolled": true,
    "tags": []
   }
  }
 ],
 "metadata": {
  "interpreter": {
   "hash": "f2b639208b218da688d617c97dbb97f29e52ab8204d2c4d4c192e2d843ea0177"
  },
  "kernelspec": {
   "name": "python3",
   "display_name": "Python 3.7.10 64-bit ('py3-parcels': conda)"
  },
  "language_info": {
   "codemirror_mode": {
    "name": "ipython",
    "version": 3
   },
   "file_extension": ".py",
   "mimetype": "text/x-python",
   "name": "python",
   "nbconvert_exporter": "python",
   "pygments_lexer": "ipython3",
   "version": "3.7.10"
  }
 },
 "nbformat": 4,
 "nbformat_minor": 4
}