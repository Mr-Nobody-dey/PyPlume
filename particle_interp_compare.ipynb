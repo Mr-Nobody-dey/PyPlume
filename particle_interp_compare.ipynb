{
 "cells": [
  {
   "cell_type": "markdown",
   "metadata": {},
   "source": [
    "# particle_interp_compare\n",
    "\n",
    "compare particle simulations in different fieldsets with a single particle"
   ]
  },
  {
   "cell_type": "code",
   "execution_count": null,
   "metadata": {},
   "outputs": [],
   "source": [
    "%matplotlib inline"
   ]
  },
  {
   "cell_type": "code",
   "execution_count": null,
   "metadata": {},
   "outputs": [],
   "source": [
    "from datetime import timedelta\n",
    "\n",
    "import cartopy\n",
    "import cartopy.crs as ccrs\n",
    "import xarray as xr\n",
    "import numpy as np\n",
    "import matplotlib.pyplot as plt\n",
    "from parcels import FieldSet, ParticleSet, JITParticle, AdvectionRK4, ErrorCode, plotTrajectoriesFile\n",
    "\n",
    "from utils import create_path\n",
    "from parcels_utils import get_file_info\n",
    "from plot_utils import plot_trajectories"
   ]
  },
  {
   "cell_type": "code",
   "execution_count": null,
   "metadata": {},
   "outputs": [],
   "source": [
    "dir1km = \"west_coast_1km_hourly_netcdfs/\"\n",
    "\n",
    "files = [\n",
    "    get_file_info(dir1km + \"west_coast_1km_hourly_region_tijuana_river_lin_aggr.nc\", 1, name=\"lin_aggr\"),\n",
    "    get_file_info(dir1km + \"west_coast_1km_hourly_region_tijuana_river_lin.nc\", 1, name=\"lin\"),\n",
    "    get_file_info(dir1km + \"west_coast_1km_hourly_region_tijuana_river_simpterp.nc\", 1, name=\"simp\"),\n",
    "    get_file_info(dir1km + \"west_coast_1km_hourly_region_tijuana_river_invdist.nc\", 1, name=\"invd\")\n",
    "]"
   ]
  },
  {
   "cell_type": "code",
   "execution_count": null,
   "metadata": {},
   "outputs": [],
   "source": [
    "(files[0][\"xrds\"][\"time\"].max().values - np.datetime64(\"2020-06-17T09:00:00\")) / np.timedelta64(1, 's')"
   ]
  },
  {
   "cell_type": "code",
   "execution_count": null,
   "metadata": {},
   "outputs": [],
   "source": [
    "(np.datetime64(\"2020-06-17T09:00:00\") - files[0][\"xrds\"][\"time\"].min().values) / np.timedelta64(1, 's')"
   ]
  },
  {
   "cell_type": "code",
   "execution_count": null,
   "metadata": {},
   "outputs": [],
   "source": [
    "start_time = files[0][\"xrds\"][\"time\"].min().values\n",
    "end_time = files[0][\"xrds\"][\"time\"].max().values\n",
    "spawn_time = np.datetime64(\"2020-06-17T09:00:00\")\n",
    "seconds_delta = (spawn_time - start_time) / np.timedelta64(1, \"s\")\n",
    "spawn_loc = (32.551707, -117.138)  # (lat, lon)\n",
    "simulation_dt = timedelta(minutes=5)\n",
    "save_dir = create_path(\"particledata/testcompare\")\n",
    "\n",
    "def DeleteParticle(particle, fieldset, time):\n",
    "    particle.delete()"
   ]
  },
  {
   "cell_type": "code",
   "execution_count": null,
   "metadata": {},
   "outputs": [],
   "source": [
    "for f in files:\n",
    "    f[\"pset\"] = ParticleSet(fieldset=f[\"fs\"], pclass=JITParticle, lon=[spawn_loc[1]], lat=[spawn_loc[0]], time=[spawn_time])\n",
    "    save_path = f\"{save_dir}/{f['name']}.nc\"\n",
    "    f[\"pfile\"] = f[\"pset\"].ParticleFile(save_path, outputdt=timedelta(hours=1))\n",
    "    \n",
    "    f[\"pset\"].execute(\n",
    "                AdvectionRK4,\n",
    "                endtime=end_time,\n",
    "                dt=simulation_dt,\n",
    "                recovery={ErrorCode.ErrorOutOfBounds: DeleteParticle},\n",
    "                output_file=f[\"pfile\"]\n",
    "            )\n",
    "    f[\"pfile\"].export()\n",
    "    f[\"pfile\"].close()"
   ]
  },
  {
   "cell_type": "code",
   "execution_count": null,
   "metadata": {},
   "outputs": [],
   "source": [
    "p_ds = xr.open_dataset(files[0][\"pfile\"].name)\n",
    "p_ds"
   ]
  },
  {
   "cell_type": "code",
   "execution_count": null,
   "metadata": {},
   "outputs": [],
   "source": [
    "ps = [f[\"pfile\"].name for f in files]\n",
    "plot_trajectories(ps, files[0][\"domain\"])"
   ]
  }
 ],
 "metadata": {
  "kernelspec": {
   "display_name": "py3_parcels",
   "language": "python",
   "name": "py3_parcels"
  },
  "language_info": {
   "codemirror_mode": {
    "name": "ipython",
    "version": 3
   },
   "file_extension": ".py",
   "mimetype": "text/x-python",
   "name": "python",
   "nbconvert_exporter": "python",
   "pygments_lexer": "ipython3",
   "version": "3.6.10"
  }
 },
 "nbformat": 4,
 "nbformat_minor": 4
}
