{
 "cells": [
  {
   "cell_type": "markdown",
   "metadata": {},
   "source": [
    "# access thredds manual\n",
    "\n",
    "getting different regions of current data manually instead of using the auto-generated regions."
   ]
  },
  {
   "cell_type": "code",
   "execution_count": 1,
   "metadata": {},
   "outputs": [],
   "source": [
    "%matplotlib inline"
   ]
  },
  {
   "cell_type": "code",
   "execution_count": 2,
   "metadata": {},
   "outputs": [],
   "source": [
    "import os\n",
    "import numpy as np\n",
    "import xarray as xr"
   ]
  },
  {
   "cell_type": "code",
   "execution_count": 3,
   "metadata": {},
   "outputs": [],
   "source": [
    "dataset_url_6kmhourly = \"http://hfrnet-tds.ucsd.edu/thredds/dodsC/HFR/USWC/6km/hourly/RTV/HFRADAR_US_West_Coast_6km_Resolution_Hourly_RTV_best.ncd\"\n",
    "dataset_url_2kmhourly = \"http://hfrnet-tds.ucsd.edu/thredds/dodsC/HFR/USWC/2km/hourly/RTV/HFRADAR_US_West_Coast_2km_Resolution_Hourly_RTV_best.ncd\"\n",
    "dataset_url_1kmhourly = \"http://hfrnet-tds.ucsd.edu/thredds/dodsC/HFR/USWC/1km/hourly/RTV/HFRADAR_US_West_Coast_1km_Resolution_Hourly_RTV_best.ncd\"\n",
    "\n",
    "DATA_6KM = 6\n",
    "DATA_2KM = 2\n",
    "DATA_1KM = 1\n",
    "\n",
    "filename_dict = {\n",
    "    DATA_6KM: \"west_coast_6km_hourly\",\n",
    "    DATA_2KM: \"west_coast_2km_hourly\",\n",
    "    DATA_1KM: \"west_coast_1km_hourly\"\n",
    "}\n",
    "\n",
    "def get_region(data):\n",
    "    time_range = data[2]\n",
    "    if isinstance(time_range[0], str):\n",
    "        time_range = (np.datetime64(time_range[0]), np.datetime64(time_range[1]))\n",
    "    lat_range = data[3]\n",
    "    lon_range = data[4]\n",
    "    return dict(\n",
    "        name = data[0],\n",
    "        category = data[1],\n",
    "        time = time_range,\n",
    "        lat = lat_range,\n",
    "        lon = lon_range,\n",
    "        domain = {\n",
    "            \"S\": lat_range[0],\n",
    "            \"N\": lat_range[1],\n",
    "            \"W\": lon_range[0],\n",
    "            \"E\": lon_range[1],\n",
    "        }\n",
    "    )"
   ]
  },
  {
   "cell_type": "code",
   "execution_count": 6,
   "metadata": {},
   "outputs": [],
   "source": [
    "num_chunks = 50\n",
    "\n",
    "thredds_data = {\n",
    "    DATA_6KM: xr.open_dataset(dataset_url_6kmhourly, chunks={\"time\": num_chunks}),\n",
    "    DATA_2KM: xr.open_dataset(dataset_url_2kmhourly, chunks={\"time\": num_chunks}),\n",
    "    DATA_1KM: xr.open_dataset(dataset_url_1kmhourly, chunks={\"time\": num_chunks})\n",
    "}"
   ]
  },
  {
   "cell_type": "code",
   "execution_count": 7,
   "metadata": {},
   "outputs": [],
   "source": [
    "region_data = [\n",
    "    (\"tijuana_river\", DATA_2KM, (\"2020-06-16T21\", \"2020-06-23T21\"), (32.528, 32.71), (-117.29, -117.11)),\n",
    "    (\"tijuana_river\", DATA_1KM, (\"2020-06-16T21\", \"2020-06-23T21\"), (32.528, 32.71), (-117.29, -117.11))\n",
    "]"
   ]
  },
  {
   "cell_type": "code",
   "execution_count": 8,
   "metadata": {},
   "outputs": [
    {
     "name": "stdout",
     "output_type": "stream",
     "text": [
      "region tijuana_river data megabytes: 0.4101133346557617\n",
      "region tijuana_river data megabytes: 1.5383787155151367\n"
     ]
    }
   ],
   "source": [
    "regions = []\n",
    "for rd in region_data:\n",
    "    new_reg = get_region(rd)\n",
    "    new_reg[\"dataset\"] = thredds_data[new_reg[\"category\"]].sel(\n",
    "        time=slice(new_reg[\"time\"][0], new_reg[\"time\"][1]),\n",
    "        lat=slice(new_reg[\"lat\"][0], new_reg[\"lat\"][1]),\n",
    "        lon=slice(new_reg[\"lon\"][0], new_reg[\"lon\"][1]),\n",
    "    )\n",
    "    regions.append(new_reg)\n",
    "    print(f\"region {new_reg['name']} data megabytes: {new_reg['dataset'].nbytes / 1024 / 1024}\")"
   ]
  },
  {
   "cell_type": "code",
   "execution_count": 9,
   "metadata": {},
   "outputs": [
    {
     "name": "stdout",
     "output_type": "stream",
     "text": [
      "saved to west_coast_2km_hourly_netcdfs/west_coast_2km_hourly_region_tijuana_river.nc\n",
      "created new directory west_coast_1km_hourly_netcdfs/\n",
      "saved to west_coast_1km_hourly_netcdfs/west_coast_1km_hourly_region_tijuana_river.nc\n",
      "done\n"
     ]
    }
   ],
   "source": [
    "for r in regions:\n",
    "    save_dir = filename_dict[r[\"category\"]] + \"_netcdfs/\"\n",
    "    if not os.path.exists(save_dir):\n",
    "        os.mkdir(save_dir)\n",
    "        print(f\"created new directory {save_dir}\")\n",
    "    filename = filename_dict[r['category']] + f\"_region_{r['name']}.nc\"\n",
    "    # save file\n",
    "    r[\"dataset\"].to_netcdf(save_dir + filename)\n",
    "    print(f\"saved to {save_dir + filename}\")\n",
    "print(\"done\")"
   ]
  },
  {
   "cell_type": "markdown",
   "metadata": {},
   "source": [
    "## fieldset testing"
   ]
  },
  {
   "cell_type": "code",
   "execution_count": 10,
   "metadata": {},
   "outputs": [],
   "source": [
    "from parcels import FieldSet"
   ]
  },
  {
   "cell_type": "code",
   "execution_count": 12,
   "metadata": {},
   "outputs": [
    {
     "name": "stderr",
     "output_type": "stream",
     "text": [
      "/Users/jerry/miniconda3/envs/py3_parcels/lib/python3.6/site-packages/cartopy/mpl/gridliner.py:307: UserWarning: The .xlabels_top attribute is deprecated. Please use .top_labels to toggle visibility instead.\n",
      "  warnings.warn('The .xlabels_top attribute is deprecated. Please '\n",
      "/Users/jerry/miniconda3/envs/py3_parcels/lib/python3.6/site-packages/cartopy/mpl/gridliner.py:343: UserWarning: The .ylabels_right attribute is deprecated. Please use .right_labels to toggle visibility instead.\n",
      "  warnings.warn('The .ylabels_right attribute is deprecated. Please '\n"
     ]
    },
    {
     "data": {
      "image/png": "[encoded data removed]",
      "text/plain": [
       "<Figure size 432x288 with 2 Axes>"
      ]
     },
     "metadata": {
      "needs_background": "light"
     },
     "output_type": "display_data"
    }
   ],
   "source": [
    "netcdf_filename = \"west_coast_1km_hourly_netcdfs/west_coast_1km_hourly_region_tijuana_river.nc\"\n",
    "ds = xr.open_dataset(netcdf_filename)\n",
    "fs = FieldSet.from_xarray_dataset(ds, dict(U=\"u\",V=\"v\"), dict(lat=\"lat\",lon=\"lon\",time=\"time\"))\n",
    "ds.close()\n",
    "fs.U.show()"
   ]
  }
 ],
 "metadata": {
  "kernelspec": {
   "display_name": "Python 3",
   "language": "python",
   "name": "python3"
  },
  "language_info": {
   "codemirror_mode": {
    "name": "ipython",
    "version": 3
   },
   "file_extension": ".py",
   "mimetype": "text/x-python",
   "name": "python",
   "nbconvert_exporter": "python",
   "pygments_lexer": "ipython3",
   "version": "3.6.10"
  }
 },
 "nbformat": 4,
 "nbformat_minor": 4
}
