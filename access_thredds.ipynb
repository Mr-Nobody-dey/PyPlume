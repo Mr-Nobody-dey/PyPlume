{
 "cells": [
  {
   "cell_type": "markdown",
   "metadata": {},
   "source": [
    "## thredds man\n",
    "\n",
    "the purpose of this notebook is just to get data from thredds and save it so that I don't have to wait for the very fat data every time I test\n",
    "\n",
    "takes data from `generate_regions_auto` (the pickle files) to slice out smaller regions of data with actual data\n",
    "\n",
    "larger spans of time are possible now that only smaller regions are being saved\n",
    "\n",
    "### note\n",
    "\n",
    "to generate netcdf files for different data, change the `dataset_url` variable and rerun the whole notebook"
   ]
  },
  {
   "cell_type": "code",
   "execution_count": null,
   "metadata": {},
   "outputs": [],
   "source": [
    "%matplotlib inline"
   ]
  },
  {
   "cell_type": "code",
   "execution_count": null,
   "metadata": {},
   "outputs": [],
   "source": [
    "import os\n",
    "import pickle\n",
    "import numpy as np\n",
    "import xarray as xr\n",
    "from parcels import FieldSet\n",
    "from datetime import timedelta, datetime\n",
    "\n",
    "from utils import create_path"
   ]
  },
  {
   "cell_type": "code",
   "execution_count": null,
   "metadata": {},
   "outputs": [],
   "source": [
    "dataset_url_6kmhourly = \"http://hfrnet-tds.ucsd.edu/thredds/dodsC/HFR/USWC/6km/hourly/RTV/HFRADAR_US_West_Coast_6km_Resolution_Hourly_RTV_best.ncd\"\n",
    "dataset_url_2kmhourly = \"http://hfrnet-tds.ucsd.edu/thredds/dodsC/HFR/USWC/2km/hourly/RTV/HFRADAR_US_West_Coast_2km_Resolution_Hourly_RTV_best.ncd\"\n",
    "dataset_url_1kmhourly = \"http://hfrnet-tds.ucsd.edu/thredds/dodsC/HFR/USWC/1km/hourly/RTV/HFRADAR_US_West_Coast_1km_Resolution_Hourly_RTV_best.ncd\"\n",
    "filename_dict = {\n",
    "    dataset_url_1kmhourly: \"west_coast_1km_hourly\",\n",
    "    dataset_url_2kmhourly: \"west_coast_2km_hourly\",\n",
    "    dataset_url_6kmhourly: \"west_coast_6km_hourly\"\n",
    "}"
   ]
  },
  {
   "cell_type": "code",
   "execution_count": null,
   "metadata": {},
   "outputs": [],
   "source": [
    "### CHANGE THIS TO CHANGE THE DATA RETRIEVED ###\n",
    "dataset_url = dataset_url_6kmhourly\n",
    "### ######################################## ###\n",
    "\n",
    "num_chunks = 50"
   ]
  },
  {
   "cell_type": "code",
   "execution_count": null,
   "metadata": {},
   "outputs": [],
   "source": [
    "netcdf_data = xr.open_dataset(dataset_url, chunks={\"time\": num_chunks})\n",
    "netcdf_data"
   ]
  },
  {
   "cell_type": "code",
   "execution_count": null,
   "metadata": {},
   "outputs": [],
   "source": [
    "with open(f\"regions_{filename_dict[dataset_url]}.p\", \"rb\") as f:\n",
    "    regions = pickle.load(f)\n",
    "regions"
   ]
  },
  {
   "cell_type": "markdown",
   "metadata": {},
   "source": [
    "## Save slice of time to file\n",
    "\n",
    "\"data size should be less than 55 Mb, but you may be able to get larger requests through without chunking\""
   ]
  },
  {
   "cell_type": "code",
   "execution_count": null,
   "metadata": {
    "scrolled": false
   },
   "outputs": [],
   "source": [
    "# time_start = 73000\n",
    "# time_finish = 73083\n",
    "# sliced_data = netcdf_data.isel(time=slice(time_start, time_finish))\n",
    "# sliced_data\n",
    "\n",
    "# get data from a period of time (from latest date going backwards)\n",
    "timespan = np.timedelta64(7, 'D')\n",
    "# timespan = np.timedelta64(12,'h')\n",
    "# time_finish = netcdf_data[\"time\"].max()\n",
    "# time_start = time_finish - timespan\n",
    "\n",
    "# this is the timeframe i've been testing\n",
    "time_start = np.datetime64(\"2020-06-16T21:00:00.000000000\")\n",
    "time_finish = np.datetime64(\"2020-06-23T21:00:00.000000000\")\n",
    "\n",
    "sliced_data = netcdf_data.sel(time=slice(time_start, time_finish))\n",
    "sliced_data"
   ]
  },
  {
   "cell_type": "code",
   "execution_count": null,
   "metadata": {},
   "outputs": [],
   "source": [
    "# megabytes\n",
    "total_size = sliced_data.nbytes / 1024 / 1024\n",
    "total_size"
   ]
  },
  {
   "cell_type": "code",
   "execution_count": null,
   "metadata": {
    "scrolled": true
   },
   "outputs": [],
   "source": [
    "data_regions = np.empty(len(regions), dtype=xr.core.dataset.Dataset)\n",
    "for i in range(len(regions)):\n",
    "    new_region = sliced_data.sel(lat=slice(regions[i][0][0], regions[i][0][1]), lon=slice(regions[i][1][0], regions[i][1][1]))\n",
    "    print(f\"region {i} data megabytes: {new_region.nbytes / 1024 / 1024}\")\n",
    "    data_regions[i] = new_region"
   ]
  },
  {
   "cell_type": "code",
   "execution_count": null,
   "metadata": {},
   "outputs": [],
   "source": [
    "save_dir = create_path(\"current_netcdfs/\" + filename_dict[dataset_url])\n",
    "print(save_dir)"
   ]
  },
  {
   "cell_type": "code",
   "execution_count": null,
   "metadata": {},
   "outputs": [],
   "source": [
    "for i in range(len(data_regions)):\n",
    "    filename = f\"region{i}.nc\"\n",
    "    # save file\n",
    "    data_regions[i].to_netcdf(save_dir / filename)\n",
    "    print(f\"saved to {save_dir / filename}\")\n",
    "print(\"done\")"
   ]
  }
 ],
 "metadata": {
  "kernelspec": {
   "display_name": "py3_parcels",
   "language": "python",
   "name": "py3_parcels"
  },
  "language_info": {
   "codemirror_mode": {
    "name": "ipython",
    "version": 3
   },
   "file_extension": ".py",
   "mimetype": "text/x-python",
   "name": "python",
   "nbconvert_exporter": "python",
   "pygments_lexer": "ipython3",
   "version": "3.6.10"
  }
 },
 "nbformat": 4,
 "nbformat_minor": 4
}
