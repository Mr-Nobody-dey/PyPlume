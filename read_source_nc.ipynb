{
 "cells": [
  {
   "cell_type": "markdown",
   "metadata": {},
   "source": [
    "the purpose of this notebook was to ensure the files from the thredds server were the same on the local storage"
   ]
  },
  {
   "cell_type": "code",
   "execution_count": 12,
   "metadata": {
    "ExecuteTime": {
     "end_time": "2020-09-09T20:42:16.881270Z",
     "start_time": "2020-09-09T20:42:16.878500Z"
    }
   },
   "outputs": [],
   "source": [
    "from pathlib import Path\n",
    "\n",
    "import numpy as np\n",
    "import xarray as xr\n",
    "\n",
    "import utils"
   ]
  },
  {
   "cell_type": "code",
   "execution_count": 10,
   "metadata": {
    "ExecuteTime": {
     "end_time": "2020-09-09T20:30:52.071332Z",
     "start_time": "2020-09-09T20:30:52.064437Z"
    }
   },
   "outputs": [],
   "source": [
    "def parse_time(time):\n",
    "    d = \"\".join(str(time).split(\"T\")[0].split(\"-\"))\n",
    "    t = \"\".join(str(time).split(\"T\")[1].split(\":\")[:2])\n",
    "    return d, t"
   ]
  },
  {
   "cell_type": "code",
   "execution_count": 14,
   "metadata": {
    "ExecuteTime": {
     "end_time": "2020-09-09T20:51:40.338997Z",
     "start_time": "2020-09-09T20:51:40.335120Z"
    }
   },
   "outputs": [],
   "source": [
    "source_path = Path(utils.CURRENT_NETCDF_DIR) / \"source/NetCDF\"\n",
    "\n",
    "res = \"1km\"\n",
    "time_start = np.datetime64(\"2020-08-01T01\", \"m\")\n",
    "time_end = np.datetime64(\"2020-08-14T13\", \"m\")\n",
    "interval = np.timedelta64(1, \"h\")\n",
    "\n",
    "lat_sl = slice(32.11093, 32.73124)\n",
    "lon_sl = slice(-117.565, -116.9924)"
   ]
  },
  {
   "cell_type": "code",
   "execution_count": 15,
   "metadata": {
    "ExecuteTime": {
     "end_time": "2020-09-09T20:53:30.030600Z",
     "start_time": "2020-09-09T20:53:08.032401Z"
    }
   },
   "outputs": [],
   "source": [
    "ds_total = None\n",
    "curr_time = time_start\n",
    "while curr_time <= time_end:\n",
    "    d, t = parse_time(curr_time)\n",
    "    filename = f\"{d}{t}_hfr_uswc_{res}_rtv_uwls_SIO.nc\"\n",
    "    ds = xr.open_dataset(source_path / filename)\n",
    "    ds = ds.sel(lat=lat_sl, lon=lon_sl)\n",
    "    if ds_total is None:\n",
    "        ds_total = ds\n",
    "    else:\n",
    "        ds_total = xr.concat([ds_total, ds], dim=\"time\")\n",
    "    curr_time += interval"
   ]
  },
  {
   "cell_type": "code",
   "execution_count": 17,
   "metadata": {
    "ExecuteTime": {
     "end_time": "2020-09-09T20:57:42.859817Z",
     "start_time": "2020-09-09T20:57:42.828659Z"
    }
   },
   "outputs": [],
   "source": [
    "thredds = Path(utils.CURRENT_NETCDF_DIR) / \"west_coast_1km_hourly/tj_plume.nc\"\n",
    "thredds_ds = xr.open_dataset(thredds)"
   ]
  },
  {
   "cell_type": "code",
   "execution_count": 23,
   "metadata": {
    "ExecuteTime": {
     "end_time": "2020-09-09T21:03:30.216942Z",
     "start_time": "2020-09-09T21:03:30.200123Z"
    }
   },
   "outputs": [
    {
     "data": {
      "text/plain": [
       "True"
      ]
     },
     "execution_count": 23,
     "metadata": {},
     "output_type": "execute_result"
    }
   ],
   "source": [
    "(np.nan_to_num(thredds_ds[\"u\"]) == np.nan_to_num(ds_total[\"u\"])).all()"
   ]
  },
  {
   "cell_type": "markdown",
   "metadata": {},
   "source": [
    "### thredds data is not any different from the source data"
   ]
  }
 ],
 "metadata": {
  "kernelspec": {
   "display_name": "py3_parcels",
   "language": "python",
   "name": "py3_parcels"
  },
  "language_info": {
   "codemirror_mode": {
    "name": "ipython",
    "version": 3
   },
   "file_extension": ".py",
   "mimetype": "text/x-python",
   "name": "python",
   "nbconvert_exporter": "python",
   "pygments_lexer": "ipython3",
   "version": "3.6.10"
  }
 },
 "nbformat": 4,
 "nbformat_minor": 4
}
