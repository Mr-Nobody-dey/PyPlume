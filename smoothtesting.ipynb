{
 "cells": [
  {
   "cell_type": "code",
   "execution_count": null,
   "metadata": {},
   "outputs": [],
   "source": [
    "%matplotlib inline\n",
    "%load_ext autoreload\n",
    "%autoreload 2"
   ]
  },
  {
   "cell_type": "code",
   "execution_count": null,
   "metadata": {},
   "outputs": [],
   "source": [
    "import math\n",
    "\n",
    "import numpy as np\n",
    "import matplotlib.pyplot as plt\n",
    "import scipy.fftpack"
   ]
  },
  {
   "cell_type": "code",
   "execution_count": null,
   "metadata": {},
   "outputs": [],
   "source": [
    "x = np.linspace(0,10,50)\n",
    "y = 2 * np.sin(x) - 4 * np.cos(x/10)\n",
    "variation = 0.5\n",
    "y_noisy = y + (np.random.random(y.size) * (variation * 2) - variation)\n",
    "\n",
    "s = 7.62\n",
    "s = 4.4755\n",
    "\n",
    "k = np.arange(1, y_noisy.size + 1)\n",
    "\n",
    "lam = 2 - 2 * np.cos((k - 1) * math.pi / k.size)\n",
    "gam = 1 / (1 + s * lam ** 2)\n",
    "\n",
    "smoothed_y = scipy.fftpack.idctn(gam * scipy.fftpack.dctn(y_noisy, norm=\"ortho\"), norm=\"ortho\")\n",
    "\n",
    "plt.plot(x, y, \"--\")\n",
    "plt.plot(x, smoothed_y)\n",
    "plt.scatter(x, y_noisy, c=\"r\")\n",
    "plt.show()"
   ]
  }
 ],
 "metadata": {
  "kernelspec": {
   "display_name": "py3_parcels",
   "language": "python",
   "name": "py3_parcels"
  },
  "language_info": {
   "codemirror_mode": {
    "name": "ipython",
    "version": 3
   },
   "file_extension": ".py",
   "mimetype": "text/x-python",
   "name": "python",
   "nbconvert_exporter": "python",
   "pygments_lexer": "ipython3",
   "version": "3.6.10"
  }
 },
 "nbformat": 4,
 "nbformat_minor": 4
}
