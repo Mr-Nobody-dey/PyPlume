{
 "cells": [
  {
   "cell_type": "code",
   "execution_count": null,
   "metadata": {
    "scrolled": true
   },
   "outputs": [],
   "source": [
    "%matplotlib inline\n",
    "%load_ext autoreload\n",
    "%autoreload 2"
   ]
  },
  {
   "cell_type": "code",
   "execution_count": null,
   "metadata": {
    "scrolled": true
   },
   "outputs": [],
   "source": [
    "import numpy as np\n",
    "import matplotlib.pyplot as plt\n",
    "import scipy.io\n",
    "import xarray as xr\n",
    "\n",
    "import utils\n",
    "from plot_utils import get_carree_axis"
   ]
  },
  {
   "cell_type": "code",
   "execution_count": null,
   "metadata": {
    "scrolled": true
   },
   "outputs": [],
   "source": [
    "dataset_url_1kmhourly = \"http://hfrnet-tds.ucsd.edu/thredds/dodsC/HFR/USWC/1km/hourly/RTV/HFRADAR_US_West_Coast_1km_Resolution_Hourly_RTV_best.ncd\"\n",
    "\n",
    "TIJUANA_RIVER_DOMAIN = dict(\n",
    "    S=32.528,\n",
    "    N=32.71,\n",
    "    W=-117.29,\n",
    "    E=-117.11,\n",
    ")\n",
    "CLOSE_TIJUANA_DOMAIN = dict(\n",
    "    S=32.53,\n",
    "    N=32.5825,\n",
    "    W=-117.162,\n",
    "    E=-117.105,\n",
    ")"
   ]
  },
  {
   "cell_type": "code",
   "execution_count": null,
   "metadata": {
    "scrolled": true
   },
   "outputs": [],
   "source": [
    "def plot_mat(mat, x_key, y_key, domain):\n",
    "    ax = get_carree_axis(domain)\n",
    "    plt.scatter(mat[x_key].flatten(), mat[y_key].flatten(), s=2)\n",
    "    plt.show()"
   ]
  },
  {
   "cell_type": "code",
   "execution_count": null,
   "metadata": {
    "scrolled": true
   },
   "outputs": [],
   "source": [
    "coast_mat = scipy.io.loadmat(\"mat/coastline.mat\")\n",
    "coast1km_mat = scipy.io.loadmat(\"mat/coastline_1km.mat\")\n",
    "pts_mat = scipy.io.loadmat(\"mat/pts_20200810_1530.mat\")\n",
    "tjrprf_mat = scipy.io.loadmat(\"mat/tjrprf_20200810_1530.mat\")\n",
    "grid_mat = scipy.io.loadmat(\"mat/codartotalGrid.mat\")"
   ]
  },
  {
   "cell_type": "code",
   "execution_count": null,
   "metadata": {},
   "outputs": [],
   "source": [
    "pts_mat[\"xf\"]"
   ]
  },
  {
   "cell_type": "code",
   "execution_count": null,
   "metadata": {},
   "outputs": [],
   "source": [
    "lon = grid_mat[\"totalGrid\"][:, 0].min(), grid_mat[\"totalGrid\"][:, 0].max()\n",
    "lon"
   ]
  },
  {
   "cell_type": "code",
   "execution_count": null,
   "metadata": {},
   "outputs": [],
   "source": [
    "lat = grid_mat[\"totalGrid\"][:, 1].min(), grid_mat[\"totalGrid\"][:, 1].max()\n",
    "lat"
   ]
  },
  {
   "cell_type": "code",
   "execution_count": null,
   "metadata": {},
   "outputs": [],
   "source": [
    "xrds = xr.open_dataset(dataset_url_1kmhourly)"
   ]
  },
  {
   "cell_type": "code",
   "execution_count": null,
   "metadata": {},
   "outputs": [],
   "source": [
    "utils.expand_coord_rng(lat, xrds[\"lat\"].values)"
   ]
  },
  {
   "cell_type": "code",
   "execution_count": null,
   "metadata": {},
   "outputs": [],
   "source": [
    "utils.expand_coord_rng(lon, xrds[\"lon\"].values)"
   ]
  },
  {
   "cell_type": "code",
   "execution_count": null,
   "metadata": {
    "scrolled": true
   },
   "outputs": [],
   "source": [
    "plot_mat(coast1km_mat, \"rlonz0\", \"rlatz0\", TIJUANA_RIVER_DOMAIN)\n",
    "plot_mat(coast1km_mat, \"spos_x\", \"spos_y\", TIJUANA_RIVER_DOMAIN)\n",
    "plot_mat(coast_mat, \"lonz0\", \"latz0\", TIJUANA_RIVER_DOMAIN)"
   ]
  },
  {
   "cell_type": "code",
   "execution_count": null,
   "metadata": {
    "scrolled": true
   },
   "outputs": [],
   "source": [
    "plot_mat(pts_mat, \"xf\", \"yf\", CLOSE_TIJUANA_DOMAIN)"
   ]
  },
  {
   "cell_type": "code",
   "execution_count": null,
   "metadata": {
    "scrolled": true
   },
   "outputs": [],
   "source": [
    "len(np.where(~np.isnan(pts_mat[\"xf\"]))[0])"
   ]
  }
 ],
 "metadata": {
  "kernelspec": {
   "display_name": "py3_parcels",
   "language": "python",
   "name": "py3_parcels"
  },
  "language_info": {
   "codemirror_mode": {
    "name": "ipython",
    "version": 3
   },
   "file_extension": ".py",
   "mimetype": "text/x-python",
   "name": "python",
   "nbconvert_exporter": "python",
   "pygments_lexer": "ipython3",
   "version": "3.6.10"
  }
 },
 "nbformat": 4,
 "nbformat_minor": 4
}
