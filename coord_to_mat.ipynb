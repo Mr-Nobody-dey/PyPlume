{
 "cells": [
  {
   "cell_type": "markdown",
   "metadata": {},
   "source": [
    "# store coordinates in a .mat file\n",
    "\n",
    "Stores the coordinates used in a NetCDF HFR file into a grid in a mat file.\n",
    "\n",
    "Used to test the original plume tracker"
   ]
  },
  {
   "cell_type": "code",
   "execution_count": null,
   "metadata": {},
   "outputs": [],
   "source": [
    "import numpy as np\n",
    "import scipy.io\n",
    "import xarray as xr\n",
    "\n",
    "import pyplume.utils as utils\n",
    "from pyplume.dataloaders import get_file_info"
   ]
  },
  {
   "cell_type": "code",
   "execution_count": null,
   "metadata": {},
   "outputs": [],
   "source": [
    "file = get_file_info(utils.CURRENT_NETCDF_DIR / \"west_coast_1km_hourly/tj_plume_interped.nc\", 1, name=\"tj_plume\")\n",
    "lats = file[\"ds\"][\"lat\"].values\n",
    "lons = file[\"ds\"][\"lon\"].values"
   ]
  },
  {
   "cell_type": "code",
   "execution_count": null,
   "metadata": {},
   "outputs": [],
   "source": [
    "mat_dict = {\n",
    "    \"gx\": np.array([np.repeat(lons, lats.size)]).T,\n",
    "    \"gy\": np.array([np.tile(lats, lons.size)]).T,\n",
    "}"
   ]
  },
  {
   "cell_type": "code",
   "execution_count": null,
   "metadata": {},
   "outputs": [],
   "source": [
    "scipy.io.savemat(utils.MATLAB_DIR / \"sdcodargrid_new.mat\", mat_dict)"
   ]
  }
 ],
 "metadata": {
  "kernelspec": {
   "display_name": "py3-parcels",
   "language": "python",
   "name": "py3-parcels"
  },
  "language_info": {
   "codemirror_mode": {
    "name": "ipython",
    "version": 3
   },
   "file_extension": ".py",
   "mimetype": "text/x-python",
   "name": "python",
   "nbconvert_exporter": "python",
   "pygments_lexer": "ipython3",
   "version": "3.7.10"
  }
 },
 "nbformat": 4,
 "nbformat_minor": 4
}
