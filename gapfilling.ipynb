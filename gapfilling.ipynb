{
 "cells": [
  {
   "cell_type": "markdown",
   "metadata": {},
   "source": [
    "# missing data interpolation\n",
    "\n",
    "statistics is the answer to everything\n",
    "\n",
    "Use this notebook to gapfill a saved netcdf file."
   ]
  },
  {
   "cell_type": "markdown",
   "metadata": {},
   "source": [
    "### potential shenanigans\n",
    "\n",
    "\"Several techniques have been used to fill the gaps in either the UWLS or OI derived total vector maps.\n",
    "\n",
    "These are implemented using covariance derived from normal mode analysis (Lipphardt et al. 2000), open-boundary modal analysis (OMA) (Kaplan and Lekien 2007), and empirical orthogonal function (EOF) analysis (Beckers and Rixen 2003; Alvera-Azcárate et al. 2005); and using idealized or smoothed observed covariance (Davis 1985).\"\n",
    "\n",
    "- normal mode analysis\n",
    "- open-boundary modal analysis (OMA)\n",
    "- empirical orthogonal function analysis (EOF)\n",
    "- use idealized/smoothed observed covariance\n",
    "\n",
    "---\n",
    "\n",
    "### other ideas\n",
    "\n",
    "DINEOF (could only find an implementation in R)\n",
    "\n",
    "to be honest I don't understand any of these methods but they look cool"
   ]
  },
  {
   "cell_type": "markdown",
   "metadata": {},
   "source": [
    "### currently implemented:\n",
    "\n",
    "rip data straight from the lower resolution data for areas where data is considered missing in the high resolution data"
   ]
  },
  {
   "cell_type": "code",
   "execution_count": null,
   "metadata": {},
   "outputs": [],
   "source": [
    "%matplotlib inline\n",
    "%load_ext autoreload\n",
    "%autoreload 2"
   ]
  },
  {
   "cell_type": "code",
   "execution_count": null,
   "metadata": {},
   "outputs": [],
   "source": [
    "from pathlib import Path\n",
    "import numpy as np\n",
    "\n",
    "import utils\n",
    "from parcels_utils import xr_dataset_to_fieldset, HFRGrid\n",
    "from constants import *\n",
    "from gapfilling import InterpolationStep, SmoothnStep, Gapfiller"
   ]
  },
  {
   "cell_type": "markdown",
   "metadata": {},
   "source": [
    "### target and interp_references\n",
    "\n",
    "#### Change these variables\n",
    "\n",
    "`target` is the data you are interpolating.\n",
    "\n",
    "`interp_references` is a list of reference data to interpolate from. A few specifications:\n",
    "- should be ordered from most accurate data to least accurate (highest to lowest resolution)\n",
    "- time domain should be identical or bigger than the one of the target\n",
    "- lat and lon domain should be bigger than the target's to prevent any out-of-bounds complications\n",
    "\n",
    "`mask_nc` must have the exact same lat and lon dimensions of the target"
   ]
  },
  {
   "cell_type": "code",
   "execution_count": null,
   "metadata": {},
   "outputs": [],
   "source": [
    "files_root = Path(\"current_netcdfs\")\n",
    "\n",
    "target = HFRGrid(files_root / \"tj_plume_2020-02_ThreddsCode.USWC_1KM_HOURLY.nc\")\n",
    "\n",
    "interp_references = [\n",
    "    HFRGrid(files_root / \"tj_plume_2020-02_ThreddsCode.USWC_2KM_HOURLY.nc\"),\n",
    "    HFRGrid(files_root / \"tj_plume_2020-02_ThreddsCode.USWC_6KM_HOURLY.nc\"),\n",
    "]\n",
    "\n",
    "# mask_nc can be none if you do not need to filter out land currents\n",
    "mask_nc = None\n",
    "mask_nc = HFRGrid(files_root / \"tj_sample_ThreddsCode.USWC_1KM_HOURLY.nc\", init_fs=False)"
   ]
  },
  {
   "cell_type": "code",
   "execution_count": null,
   "metadata": {},
   "outputs": [],
   "source": [
    "gapfiller = Gapfiller()\n",
    "gapfiller.add_steps(InterpolationStep(interp_references), SmoothnStep(mask=mask_nc))"
   ]
  },
  {
   "cell_type": "markdown",
   "metadata": {},
   "source": [
    "### interpolation type\n",
    "\n",
    "more information can be found in the `tutorial_interpolation` notebook\n",
    "\n",
    "EDIT: just use `linear`"
   ]
  },
  {
   "cell_type": "markdown",
   "metadata": {},
   "source": [
    "## nan values and parcels\n",
    "\n",
    "note that when this xarray Dataset is passed into parcels, all the nan values change to 0 and the mask generation won't work anymore\n",
    "\n",
    "so the Dataset is copied for use with the FieldSet instead"
   ]
  },
  {
   "cell_type": "markdown",
   "metadata": {},
   "source": [
    "### use of Parcels Field for interpolation\n",
    "\n",
    "indexing Field values goes [time, depth, lat, lon]\n",
    "\n",
    "Field does linear interpolation automatically when indexing values between it's coordinate values"
   ]
  },
  {
   "cell_type": "markdown",
   "metadata": {},
   "source": [
    "### linear interpolation using lower resolution data"
   ]
  },
  {
   "cell_type": "markdown",
   "metadata": {},
   "source": [
    "## even more filling with PLS and smoothing with DCT shenanigans\n",
    "\n",
    "uses the matlab engine and smoothn.m\n",
    "\n",
    "https://www.mathworks.com/help/matlab/matlab-engine-for-python.html\n",
    "\n",
    "https://www.mathworks.com/matlabcentral/fileexchange/25634-smoothn"
   ]
  },
  {
   "cell_type": "markdown",
   "metadata": {},
   "source": [
    "### formatting and saving"
   ]
  },
  {
   "cell_type": "code",
   "execution_count": null,
   "metadata": {},
   "outputs": [],
   "source": [
    "target_interped_xrds = gapfiller.execute(target)"
   ]
  },
  {
   "cell_type": "code",
   "execution_count": null,
   "metadata": {},
   "outputs": [],
   "source": [
    "save_path = str(target.path).split(\".nc\")[0] + \"_interped.nc\"\n",
    "target_interped_xrds.to_netcdf(save_path)\n",
    "print(f\"saved to {save_path}\")"
   ]
  },
  {
   "cell_type": "markdown",
   "metadata": {},
   "source": [
    "### display field to see if interpolation worked"
   ]
  },
  {
   "cell_type": "code",
   "execution_count": null,
   "metadata": {},
   "outputs": [],
   "source": [
    "fs_interp = xr_dataset_to_fieldset(target_interped_xrds)\n",
    "target.fieldset.U.show()  # uninterpolated\n",
    "fs_interp.U.show()  # interpolated, gapfilled, smoothed\n",
    "fs_interp.V.show()  # interpolated, gapfilled, smoothed"
   ]
  }
 ],
 "metadata": {
  "interpreter": {
   "hash": "f2b639208b218da688d617c97dbb97f29e52ab8204d2c4d4c192e2d843ea0177"
  },
  "kernelspec": {
   "display_name": "py3-parcels",
   "language": "python",
   "name": "py3-parcels"
  },
  "language_info": {
   "codemirror_mode": {
    "name": "ipython",
    "version": 3
   },
   "file_extension": ".py",
   "mimetype": "text/x-python",
   "name": "python",
   "nbconvert_exporter": "python",
   "pygments_lexer": "ipython3",
   "version": "3.7.10"
  }
 },
 "nbformat": 4,
 "nbformat_minor": 4
}
