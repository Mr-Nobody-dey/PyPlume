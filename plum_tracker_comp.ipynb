{
 "cells": [
  {
   "cell_type": "markdown",
   "metadata": {},
   "source": [
    "# comparison with plume tracker outputs\n",
    "\n",
    "because"
   ]
  },
  {
   "cell_type": "code",
   "execution_count": null,
   "metadata": {},
   "outputs": [],
   "source": [
    "%matplotlib inline\n",
    "%load_ext autoreload\n",
    "%autoreload 2"
   ]
  },
  {
   "cell_type": "code",
   "execution_count": null,
   "metadata": {},
   "outputs": [],
   "source": [
    "import numpy as np\n",
    "import matplotlib.pyplot as plt\n",
    "import scipy.io\n",
    "import xarray as xr\n",
    "\n",
    "from utils import create_gif\n",
    "from parcels_utils import xr_dataset_to_fieldset, get_file_info\n",
    "from plot_utils import get_carree_axis, plot_particles"
   ]
  },
  {
   "cell_type": "code",
   "execution_count": null,
   "metadata": {},
   "outputs": [],
   "source": [
    "TIJUANA_RIVER_DOMAIN = dict(\n",
    "    S=32.528,\n",
    "    N=32.71,\n",
    "    W=-117.29,\n",
    "    E=-117.11,\n",
    ")\n",
    "CLOSE_TIJUANA_DOMAIN = dict(\n",
    "    S=32.53,\n",
    "    N=32.5825,\n",
    "    W=-117.162,\n",
    "    E=-117.105,\n",
    ")\n",
    "THING_DOMAIN = {\n",
    "    \"S\": 32.41,\n",
    "    \"N\": 32.7,\n",
    "    \"W\": -117.25,\n",
    "    \"E\": -117\n",
    "}"
   ]
  },
  {
   "cell_type": "code",
   "execution_count": null,
   "metadata": {},
   "outputs": [],
   "source": [
    "def parse_mat_time(time):\n",
    "    date = np.datetime64(\"0\") + np.timedelta64(int(time) - 1, \"D\")\n",
    "    hour = int(round((time - int(time)) * 24))\n",
    "    return date + np.timedelta64(hour, \"h\")\n",
    "\n",
    "\n",
    "def dataset_from_mat(grid_mat_path, current_mat_path):\n",
    "    grid_mat = scipy.io.loadmat(grid_mat_path)\n",
    "    current_mat = scipy.io.loadmat(current_mat_path)\n",
    "    coords = grid_mat[\"totalGrid\"]\n",
    "    u = current_mat[\"U\"]\n",
    "    v = current_mat[\"V\"]\n",
    "    time = np.array([parse_mat_time(current_mat[\"t\"][0, 0])])\n",
    "    lats = np.sort(np.unique(coords.T[1]))\n",
    "    lons = np.sort(np.unique(coords.T[0]))\n",
    "    u_grid = np.zeros((1, len(lats), len(lons)))\n",
    "    v_grid = np.zeros((1, len(lats), len(lons)))\n",
    "    for i in range(len(lons)):\n",
    "        for j in range(len(lats)):\n",
    "            # data from .mat is measured in cm/s\n",
    "            u_grid[0, j, i] = u[0][i * len(lats) + j] / 100\n",
    "            v_grid[0, j, i] = v[0][i * len(lats) + j] / 100\n",
    "    ds = xr.Dataset(\n",
    "        {\n",
    "            \"u\": ([\"time\", \"lat\", \"lon\"], u_grid),\n",
    "            \"v\": ([\"time\", \"lat\", \"lon\"], v_grid),\n",
    "        },\n",
    "        coords={\n",
    "            \"time\": time,\n",
    "            \"lat\": lats,\n",
    "            \"lon\": lons\n",
    "        }\n",
    "    )\n",
    "    return ds"
   ]
  },
  {
   "cell_type": "code",
   "execution_count": null,
   "metadata": {},
   "outputs": [],
   "source": [
    "ds = dataset_from_mat(\"mat/codartotalGrid.mat\", \"mat/Tot_SDLJ_20200810_0000.mat\")\n",
    "ds"
   ]
  },
  {
   "cell_type": "code",
   "execution_count": null,
   "metadata": {},
   "outputs": [],
   "source": [
    "fs = xr_dataset_to_fieldset(ds)"
   ]
  },
  {
   "cell_type": "code",
   "execution_count": null,
   "metadata": {},
   "outputs": [],
   "source": [
    "thredds = get_file_info(\"current_netcdfs/west_coast_1km_hourly/tj_plume_interped.nc\", 1, name=\"target\")\n",
    "thredds[\"xrds\"]"
   ]
  },
  {
   "cell_type": "code",
   "execution_count": null,
   "metadata": {},
   "outputs": [],
   "source": [
    "fs.U.show()\n",
    "thredds[\"fs\"].U.show()"
   ]
  },
  {
   "cell_type": "code",
   "execution_count": null,
   "metadata": {},
   "outputs": [],
   "source": [
    "data = scipy.io.loadmat(\"mat/glist90zj_pts_position.mat\")\n",
    "plot_particles(\n",
    "    data[\"yf\"], data[\"xf\"], None, THING_DOMAIN,\n",
    "    show=False, savefile=f\"mat/snap/glishsnap.png\", part_size=1\n",
    ")"
   ]
  },
  {
   "cell_type": "code",
   "execution_count": null,
   "metadata": {},
   "outputs": [],
   "source": [
    "file_prefix = \"pts_20200810_\"\n",
    "start = 30\n",
    "incr = 100"
   ]
  },
  {
   "cell_type": "code",
   "execution_count": null,
   "metadata": {
    "scrolled": false
   },
   "outputs": [],
   "source": [
    "for i in range(start, 2400, incr):\n",
    "    name = f\"mat/{file_prefix}{str(i).zfill(4)}.mat\"\n",
    "    try:\n",
    "        data = scipy.io.loadmat(name)\n",
    "        plot_particles(\n",
    "            data[\"yf\"], data[\"xf\"], None, THING_DOMAIN,\n",
    "            show=False, savefile=f\"mat/snap/s{str(i).zfill(4)}.png\", part_size=1,\n",
    "            titlestr=f\"particles at {i}\"\n",
    "        )\n",
    "    except FileNotFoundError:\n",
    "        print(f\"file {name} not found\")"
   ]
  },
  {
   "cell_type": "code",
   "execution_count": null,
   "metadata": {},
   "outputs": [],
   "source": [
    "create_gif(25, \"mat/snap/s*.png\", \"mat/g.gif\")"
   ]
  }
 ],
 "metadata": {
  "kernelspec": {
   "display_name": "py3_parcels",
   "language": "python",
   "name": "py3_parcels"
  },
  "language_info": {
   "codemirror_mode": {
    "name": "ipython",
    "version": 3
   },
   "file_extension": ".py",
   "mimetype": "text/x-python",
   "name": "python",
   "nbconvert_exporter": "python",
   "pygments_lexer": "ipython3",
   "version": "3.6.10"
  }
 },
 "nbformat": 4,
 "nbformat_minor": 4
}
