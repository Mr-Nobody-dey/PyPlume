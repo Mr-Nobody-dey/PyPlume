{
 "cells": [
  {
   "cell_type": "markdown",
   "id": "a58f0adb",
   "metadata": {},
   "source": [
    "# RUN PARCELS FOR MWB GULF STREAM SIMULATION\n",
    "\n",
    "Alli Ho 08/24/2021\n",
    "\n",
    "Using Jerry's code `parcels_regions.ipynb`"
   ]
  },
  {
   "cell_type": "code",
   "execution_count": null,
   "id": "2b3b5f6e",
   "metadata": {},
   "outputs": [],
   "source": [
    "%matplotlib inline\n",
    "%load_ext autoreload\n",
    "%autoreload 2"
   ]
  },
  {
   "cell_type": "code",
   "execution_count": null,
   "id": "8019640f",
   "metadata": {},
   "outputs": [],
   "source": [
    "import os\n",
    "import time\n",
    "import numpy as np\n",
    "import xarray as xr\n",
    "\n",
    "from pathlib import Path\n",
    "\n",
    "from src.parcels_utils import xr_dataset_to_fieldset, HFRGrid, read_netcdf_info\n",
    "from src.constants import *\n",
    "\n",
    "from src.parcels_sim import ParcelsSimulation\n",
    "from src.parcels_analysis import *\n",
    "import src.utils as utils"
   ]
  },
  {
   "cell_type": "markdown",
   "id": "4ebbda74",
   "metadata": {},
   "source": [
    "# SET UP VARIABLES\n",
    "\n",
    "Make sure current file name is correct, otherwise only need to change the initial drop time `tstart` and the number of timesteps you want to run the simulation `repeat_N` (default is once, for N>1 the interval is determined by `repeat_dt`)"
   ]
  },
  {
   "cell_type": "code",
   "execution_count": null,
   "id": "e86bcc17",
   "metadata": {},
   "outputs": [],
   "source": [
    "currentname = 'current_netcdfs/hycom_mwbproj.nc'\n",
    "projname = 'mwb_trajectories'\n",
    "# lon0 = -81\n",
    "# lat0 = 24.25\n",
    "configname = \"mwb.json\"\n",
    "spawnpointfile = 'spawn_points_mats/seeds_keywest.mat'\n",
    "tend = 'END'\n",
    "repeat_dt = 10800\n",
    "simulation_dt = 300\n",
    "snapshot_interval = 3600\n",
    "\n",
    "\n",
    "# ADJUST FOR DESIRED FORECAST:\n",
    "tstart = '2022-03-29T03:00'\n",
    "repeat_N = 2"
   ]
  },
  {
   "cell_type": "markdown",
   "id": "1d01bef9",
   "metadata": {},
   "source": [
    "# Generate config file"
   ]
  },
  {
   "cell_type": "markdown",
   "id": "26303a9f",
   "metadata": {},
   "source": [
    "## RUN PARCELS\n",
    "\n",
    "You can make extra adjustments to the configuration in this cell if needed."
   ]
  },
  {
   "cell_type": "code",
   "execution_count": null,
   "id": "a1883aed",
   "metadata": {},
   "outputs": [],
   "source": [
    "configs = [\n",
    "    configname\n",
    "]\n",
    "\n",
    "loaded_configs = [utils.load_config(utils.PARCELS_CONFIGS_DIR / path) for path in configs]\n",
    "# modify config based on settings in the notebook\n",
    "loaded_configs[0][\"name\"] = projname\n",
    "loaded_configs[0][\"netcdf_data\"][\"ocean\"][\"path\"] = currentname\n",
    "loaded_configs[0][\"parcels_config\"][\"spawn_points\"] = {\"path\": spawnpointfile}\n",
    "loaded_configs[0][\"parcels_config\"][\"time_range\"] = [tstart, tend]\n",
    "loaded_configs[0][\"parcels_config\"][\"repeat_dt\"] = repeat_dt\n",
    "loaded_configs[0][\"parcels_config\"][\"simulation_dt\"] = simulation_dt\n",
    "loaded_configs[0][\"parcels_config\"][\"snapshot_interval\"] = snapshot_interval\n",
    "loaded_configs[0][\"parcels_config\"][\"repetitions\"] = repeat_N\n",
    "\n",
    "\n",
    "grids = []\n",
    "for cfg in loaded_configs:\n",
    "    ds = read_netcdf_info(cfg[\"netcdf_data\"][\"ocean\"])\n",
    "    grids.append(HFRGrid(ds))\n",
    "sims = []\n",
    "for i in range(len(loaded_configs)):\n",
    "    sim = ParcelsSimulation(loaded_configs[i][\"name\"], grids[i], loaded_configs[i][\"parcels_config\"])\n",
    "    sims.append(sim)"
   ]
  },
  {
   "cell_type": "code",
   "execution_count": null,
   "id": "41393d91",
   "metadata": {},
   "outputs": [],
   "source": [
    "[sim.pset.show(field=\"vector\") for sim in sims]"
   ]
  },
  {
   "cell_type": "markdown",
   "id": "c8cf9217",
   "metadata": {},
   "source": [
    "# RUN SIMULATION"
   ]
  },
  {
   "cell_type": "code",
   "execution_count": null,
   "id": "0aab2ba8",
   "metadata": {},
   "outputs": [],
   "source": [
    "for sim in sims:\n",
    "    sim.execute()"
   ]
  }
 ],
 "metadata": {
  "interpreter": {
   "hash": "0eba6c4b74a2f8ee4f11000f0a8df2ef42b87fd4ae75b12d527f1b8c08aad6c6"
  },
  "kernelspec": {
   "display_name": "py3-parcels",
   "language": "python",
   "name": "python3"
  },
  "language_info": {
   "codemirror_mode": {
    "name": "ipython",
    "version": 3
   },
   "file_extension": ".py",
   "mimetype": "text/x-python",
   "name": "python",
   "nbconvert_exporter": "python",
   "pygments_lexer": "ipython3",
   "version": "3.7.10"
  }
 },
 "nbformat": 4,
 "nbformat_minor": 5
}
