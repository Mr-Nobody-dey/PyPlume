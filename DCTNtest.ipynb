{
 "cells": [
  {
   "cell_type": "code",
   "execution_count": null,
   "id": "8dd31b1d-b629-46e7-a5fb-c7b493e70aa0",
   "metadata": {},
   "outputs": [],
   "source": [
    "%load_ext autoreload\n",
    "%autoreload 2\n",
    "from pyplume.gapfill_algs import dctpls\n",
    "import numpy as np\n",
    "import matplotlib.pyplot as plt"
   ]
  },
  {
   "cell_type": "code",
   "execution_count": null,
   "id": "aa18b1ac",
   "metadata": {},
   "outputs": [],
   "source": [
    "dctpls.test1()"
   ]
  },
  {
   "cell_type": "code",
   "execution_count": null,
   "id": "6cd97c7e-945e-4d08-a5db-a58dbd418a0a",
   "metadata": {},
   "outputs": [],
   "source": [
    "dctpls.test2()"
   ]
  },
  {
   "cell_type": "code",
   "execution_count": null,
   "id": "161f8888-e169-4f83-94de-d61999ab97b7",
   "metadata": {},
   "outputs": [],
   "source": [
    "dctpls.test3()"
   ]
  },
  {
   "cell_type": "code",
   "execution_count": null,
   "id": "5f1e92af",
   "metadata": {},
   "outputs": [],
   "source": [
    "dctpls.test4()"
   ]
  },
  {
   "cell_type": "code",
   "execution_count": null,
   "id": "56b3be08",
   "metadata": {},
   "outputs": [],
   "source": [
    "dctpls.test5()"
   ]
  },
  {
   "cell_type": "code",
   "execution_count": null,
   "id": "b054a9fa",
   "metadata": {},
   "outputs": [],
   "source": [
    "dctpls.test6()"
   ]
  }
 ],
 "metadata": {
  "kernelspec": {
   "display_name": "Python 3.7.10 ('py3-parcels')",
   "language": "python",
   "name": "python3"
  },
  "language_info": {
   "codemirror_mode": {
    "name": "ipython",
    "version": 3
   },
   "file_extension": ".py",
   "mimetype": "text/x-python",
   "name": "python",
   "nbconvert_exporter": "python",
   "pygments_lexer": "ipython3",
   "version": "3.7.10"
  },
  "vscode": {
   "interpreter": {
    "hash": "0eba6c4b74a2f8ee4f11000f0a8df2ef42b87fd4ae75b12d527f1b8c08aad6c6"
   }
  }
 },
 "nbformat": 4,
 "nbformat_minor": 5
}
