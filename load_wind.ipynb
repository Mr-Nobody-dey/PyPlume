{
 "cells": [
  {
   "cell_type": "code",
   "execution_count": null,
   "id": "87833907",
   "metadata": {},
   "outputs": [],
   "source": [
    "import pandas as pd\n",
    "import xarray as xr\n",
    "import numpy as np"
   ]
  },
  {
   "cell_type": "code",
   "execution_count": null,
   "id": "df7299de",
   "metadata": {},
   "outputs": [],
   "source": [
    "df = pd.read_csv(\"current_netcdfs/PRJC1.txt\", r\" +\")\n",
    "# units row, drop\n",
    "df = df.drop(0)\n",
    "df = df.drop(df[df[\"WDIR\"] == \"MM\"].index)\n",
    "df"
   ]
  },
  {
   "cell_type": "code",
   "execution_count": null,
   "id": "f31ab685",
   "metadata": {},
   "outputs": [],
   "source": [
    "# notes: wind direction is where wind is coming from, pointing in opposite direction\n",
    "# 3% of wspd added to ocean vector\n",
    "uw_obs = -df['WSPD'].astype(float).values * np.sin(np.deg2rad(df['WDIR'].astype(int).values))\n",
    "vw_obs = -df['WSPD'].astype(float).values * np.cos(np.deg2rad(df['WDIR'].astype(int).values))"
   ]
  },
  {
   "cell_type": "code",
   "execution_count": null,
   "id": "222ffc18",
   "metadata": {},
   "outputs": [],
   "source": [
    "timestamp = df[\"#YY\"] + \"-\" + df[\"MM\"] + \"-\" + df[\"DD\"] + \"T\" + df[\"hh\"] + \":\" + df[\"mm\"]\n",
    "timestamp = pd.to_datetime(timestamp)"
   ]
  },
  {
   "cell_type": "code",
   "execution_count": null,
   "id": "0345159f",
   "metadata": {},
   "outputs": [],
   "source": [
    "new_df = pd.DataFrame({\"time\": timestamp, \"u\": uw_obs, \"v\": vw_obs})\n",
    "new_df = new_df.sort_values(by=\"time\")\n",
    "new_df"
   ]
  },
  {
   "cell_type": "code",
   "execution_count": null,
   "id": "4ba57152",
   "metadata": {},
   "outputs": [],
   "source": [
    "u = xr.DataArray(new_df[\"u\"], coords={\"time\": new_df[\"time\"]})\n",
    "v = xr.DataArray(new_df[\"v\"], coords={\"time\": new_df[\"time\"]})"
   ]
  },
  {
   "cell_type": "code",
   "execution_count": null,
   "id": "84a860d7",
   "metadata": {},
   "outputs": [],
   "source": [
    "ds = xr.Dataset({\"U\": u, \"V\": v})\n",
    "ds"
   ]
  },
  {
   "cell_type": "code",
   "execution_count": null,
   "id": "a1a89425",
   "metadata": {},
   "outputs": [],
   "source": [
    "ds.to_netcdf(\"current_netcdfs/Hunington_wind.nc\")"
   ]
  }
 ],
 "metadata": {
  "kernelspec": {
   "display_name": "py3-parcels",
   "language": "python",
   "name": "py3-parcels"
  },
  "language_info": {
   "codemirror_mode": {
    "name": "ipython",
    "version": 3
   },
   "file_extension": ".py",
   "mimetype": "text/x-python",
   "name": "python",
   "nbconvert_exporter": "python",
   "pygments_lexer": "ipython3",
   "version": "3.7.10"
  }
 },
 "nbformat": 4,
 "nbformat_minor": 5
}
