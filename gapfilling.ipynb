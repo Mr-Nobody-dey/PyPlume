{
 "cells": [
  {
   "attachments": {},
   "cell_type": "markdown",
   "metadata": {},
   "source": [
    "# Spatial gapfilling\n",
    "\n",
    "Statistics is the answer to everything\n",
    "\n",
    "Use this notebook to gapfill a saved netcdf file."
   ]
  },
  {
   "attachments": {},
   "cell_type": "markdown",
   "metadata": {},
   "source": [
    "## Potential techniques\n",
    "\n",
    "\"Several techniques have been used to fill the gaps in either the UWLS or OI derived total vector maps.\n",
    "\n",
    "These are implemented using covariance derived from normal mode analysis (Lipphardt et al. 2000), open-boundary modal analysis (OMA) (Kaplan and Lekien 2007), and empirical orthogonal function (EOF) analysis (Beckers and Rixen 2003; Alvera-Azcárate et al. 2005); and using idealized or smoothed observed covariance (Davis 1985).\"\n",
    "\n",
    "- normal mode analysis\n",
    "- open-boundary modal analysis (OMA)\n",
    "- empirical orthogonal function analysis (DINEEOF)\n",
    "- use idealized/smoothed observed covariance\n",
    "- self-organizing maps (SOM)\n",
    "- penalized least squares (DCT-PLS)\n",
    "\n",
    "## What's implemented right now?\n",
    "\n",
    "- low resolution oversampling\n",
    "- DINEOF\n",
    "- DCT-PLS"
   ]
  },
  {
   "cell_type": "code",
   "execution_count": null,
   "metadata": {},
   "outputs": [],
   "source": [
    "%matplotlib inline\n",
    "%load_ext autoreload\n",
    "%autoreload 2"
   ]
  },
  {
   "cell_type": "code",
   "execution_count": null,
   "metadata": {},
   "outputs": [],
   "source": [
    "from pathlib import Path\n",
    "import numpy as np\n",
    "\n",
    "import pyplume.utils as utils\n",
    "from pyplume.dataloaders import dataset_to_fieldset, DataLoader\n",
    "from pyplume import plotting, gapfilling"
   ]
  },
  {
   "attachments": {},
   "cell_type": "markdown",
   "metadata": {},
   "source": [
    "## Change these variables\n",
    "\n",
    "`target_path` is the path to the data you want to gapfill."
   ]
  },
  {
   "cell_type": "code",
   "execution_count": null,
   "metadata": {},
   "outputs": [],
   "source": [
    "target_path = \"data/field_netcdfs/tj_plume_1km_2022-09.nc\"\n",
    "target = DataLoader(target_path).dataset"
   ]
  },
  {
   "attachments": {},
   "cell_type": "markdown",
   "metadata": {},
   "source": [
    "## Choose gapfilling methods to execute\n",
    "\n",
    "They will process on the target sequentially in the order defined."
   ]
  },
  {
   "cell_type": "code",
   "execution_count": null,
   "metadata": {},
   "outputs": [],
   "source": [
    "gapfiller = gapfilling.Gapfiller()\n",
    "# ADD GAPFILLING STEPS HERE\n",
    "gapfiller.add_steps(\n",
    "    # gapfilling.LowResOversample([\n",
    "    #     \"data/field_netcdfs/tj_plume_2km_2022-09.nc\",\n",
    "    #     \"data/field_netcdfs/tj_plume_6km_2022-09.nc\",\n",
    "    # ]),\n",
    "    gapfilling.DCTPLS(exclude_oob=False),\n",
    "    # gapfilling.DINEOF(exclude_oob=False)\n",
    ")"
   ]
  },
  {
   "attachments": {},
   "cell_type": "markdown",
   "metadata": {},
   "source": [
    "## formatting and saving"
   ]
  },
  {
   "cell_type": "code",
   "execution_count": null,
   "metadata": {
    "scrolled": true
   },
   "outputs": [],
   "source": [
    "target_interped_ds = gapfiller.execute(target)"
   ]
  },
  {
   "attachments": {},
   "cell_type": "markdown",
   "metadata": {},
   "source": [
    "## Display interpolated field"
   ]
  },
  {
   "cell_type": "code",
   "execution_count": null,
   "metadata": {},
   "outputs": [],
   "source": [
    "timestep = 10\n",
    "plotting.plot_vectorfield(target, show_time=timestep)\n",
    "plotting.plot_vectorfield(target_interped_ds, show_time=timestep)"
   ]
  },
  {
   "cell_type": "code",
   "execution_count": null,
   "metadata": {},
   "outputs": [],
   "source": [
    "fs = dataset_to_fieldset(target)\n",
    "fs_interp = dataset_to_fieldset(target_interped_ds)\n",
    "fs.U.show()  # original\n",
    "fs_interp.U.show()  # gapfilled"
   ]
  },
  {
   "attachments": {},
   "cell_type": "markdown",
   "metadata": {},
   "source": [
    "## Save gapfilled data to file"
   ]
  },
  {
   "cell_type": "code",
   "execution_count": null,
   "metadata": {},
   "outputs": [],
   "source": [
    "save_path = str(target_path).split(\".nc\")[0] + \"_interped.nc\"\n",
    "target_interped_ds.to_netcdf(save_path)\n",
    "print(f\"saved to {save_path}\")"
   ]
  }
 ],
 "metadata": {
  "kernelspec": {
   "display_name": "Python 3.7.10 ('py3-parcels')",
   "language": "python",
   "name": "python3"
  },
  "language_info": {
   "codemirror_mode": {
    "name": "ipython",
    "version": 3
   },
   "file_extension": ".py",
   "mimetype": "text/x-python",
   "name": "python",
   "nbconvert_exporter": "python",
   "pygments_lexer": "ipython3",
   "version": "3.7.10"
  },
  "vscode": {
   "interpreter": {
    "hash": "0eba6c4b74a2f8ee4f11000f0a8df2ef42b87fd4ae75b12d527f1b8c08aad6c6"
   }
  }
 },
 "nbformat": 4,
 "nbformat_minor": 4
}
