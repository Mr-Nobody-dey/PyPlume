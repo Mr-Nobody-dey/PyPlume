{
 "cells": [
  {
   "cell_type": "markdown",
   "metadata": {},
   "source": [
    "# parcels regions\n",
    "\n",
    "runs parcels on existing netcdf files"
   ]
  },
  {
   "cell_type": "code",
   "execution_count": null,
   "metadata": {},
   "outputs": [],
   "source": [
    "%matplotlib inline\n",
    "%load_ext autoreload\n",
    "%autoreload 2"
   ]
  },
  {
   "cell_type": "code",
   "execution_count": null,
   "metadata": {},
   "outputs": [],
   "source": [
    "import src.utils as utils\n",
    "import src.runner as runner"
   ]
  },
  {
   "cell_type": "markdown",
   "metadata": {},
   "source": [
    "## configuration\n",
    "\n",
    "change the contents of `configs` for the simulation configuration you want"
   ]
  },
  {
   "cell_type": "code",
   "execution_count": null,
   "metadata": {},
   "outputs": [],
   "source": [
    "configs = [\n",
    "    \"plume_track.json\",\n",
    "    \"plume_track_alongshore.json\",\n",
    "    # \"plume_track_live.json\",\n",
    "    # \"mwb.json\",\n",
    "    # \"tijuana_now.json\",\n",
    "#     \"buoy_track_704_02.json\",\n",
    "#     \"hunington_all.json\",\n",
    "#     \"dummy_sim.json\",\n",
    "]"
   ]
  },
  {
   "cell_type": "code",
   "execution_count": null,
   "metadata": {
    "scrolled": true
   },
   "outputs": [],
   "source": [
    "loaded_configs = [utils.load_config(utils.PARCELS_CONFIGS_DIR / path) for path in configs]\n",
    "sims = []\n",
    "for cfg in loaded_configs:\n",
    "    sims.append(runner.prep_sim_from_cfg(cfg))"
   ]
  },
  {
   "cell_type": "markdown",
   "metadata": {},
   "source": [
    "## Animated gif stuff and particle simulation"
   ]
  },
  {
   "cell_type": "code",
   "execution_count": null,
   "metadata": {
    "scrolled": false
   },
   "outputs": [],
   "source": [
    "[sim.pset.show(field=\"vector\") for sim in sims]"
   ]
  },
  {
   "cell_type": "markdown",
   "metadata": {},
   "source": [
    "### simulation execution"
   ]
  },
  {
   "cell_type": "code",
   "execution_count": null,
   "metadata": {
    "scrolled": true
   },
   "outputs": [],
   "source": [
    "for sim in sims:\n",
    "    sim.execute()"
   ]
  },
  {
   "cell_type": "markdown",
   "metadata": {},
   "source": [
    "### plot and gif generation\n",
    "\n",
    "gif generation requires [magick](https://imagemagick.org/index.php)\n",
    "\n",
    "if it doesn't work just comment out the gif generation line\n",
    "\n",
    "the gifs will be saved `snapshots/`"
   ]
  },
  {
   "cell_type": "code",
   "execution_count": null,
   "metadata": {
    "scrolled": true,
    "tags": []
   },
   "outputs": [],
   "source": [
    "for cfg, sim in zip(loaded_configs, sims):\n",
    "    runner.process_results(sim, cfg)"
   ]
  }
 ],
 "metadata": {
  "interpreter": {
   "hash": "0eba6c4b74a2f8ee4f11000f0a8df2ef42b87fd4ae75b12d527f1b8c08aad6c6"
  },
  "kernelspec": {
   "display_name": "py3-parcels",
   "language": "python",
   "name": "python3"
  },
  "language_info": {
   "codemirror_mode": {
    "name": "ipython",
    "version": 3
   },
   "file_extension": ".py",
   "mimetype": "text/x-python",
   "name": "python",
   "nbconvert_exporter": "python",
   "pygments_lexer": "ipython3",
   "version": "3.7.10"
  }
 },
 "nbformat": 4,
 "nbformat_minor": 4
}
