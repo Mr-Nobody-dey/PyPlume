{
 "cells": [
  {
   "cell_type": "markdown",
   "metadata": {},
   "source": [
    "# trajectory_compare_buoy\n",
    "\n",
    "compare wave buoy path data with what parcels says\n",
    "\n",
    "needs to run an entirely new parcels simulation such that the delta times match with the wave buoy's (or at least be close enough to it)"
   ]
  },
  {
   "cell_type": "code",
   "execution_count": null,
   "metadata": {},
   "outputs": [],
   "source": [
    "%matplotlib inline\n",
    "%load_ext autoreload\n",
    "%autoreload 2"
   ]
  },
  {
   "cell_type": "code",
   "execution_count": null,
   "metadata": {},
   "outputs": [],
   "source": [
    "import os\n",
    "\n",
    "from parcels import FieldSet\n",
    "\n",
    "import utils\n",
    "from parcels_utils import buoycsv_to_particleds, HFRGrid\n",
    "from plot_utils import plot_trajectories, plot_points_fieldset\n",
    "from thredds_utils import get_thredds_dataset, thredds_data"
   ]
  },
  {
   "cell_type": "code",
   "execution_count": null,
   "metadata": {},
   "outputs": [],
   "source": [
    "csv_path = utils.WAVEBUOY_DATA_DIR / \"wavebuoy_704-02.csv\""
   ]
  },
  {
   "cell_type": "code",
   "execution_count": null,
   "metadata": {
    "scrolled": true
   },
   "outputs": [],
   "source": [
    "dataset = buoycsv_to_particleds(csv_path)\n",
    "dataset"
   ]
  },
  {
   "cell_type": "code",
   "execution_count": null,
   "metadata": {},
   "outputs": [],
   "source": [
    "buoy_lat_rng = (dataset[\"lat\"].values[0].min(), dataset[\"lat\"].values[0].max())\n",
    "buoy_lon_rng = (dataset[\"lon\"].values[0].min(), dataset[\"lon\"].values[0].max())"
   ]
  },
  {
   "cell_type": "code",
   "execution_count": null,
   "metadata": {},
   "outputs": [],
   "source": [
    "buoy_lon_rng"
   ]
  },
  {
   "cell_type": "code",
   "execution_count": null,
   "metadata": {},
   "outputs": [],
   "source": [
    "times = dataset.isel(traj=0)[\"time\"].values\n",
    "start = times[-500]\n",
    "end = times[-1]\n",
    "thredds_dataset = get_thredds_dataset(\"buoy\", 6, (start, end), buoy_lat_rng, buoy_lon_rng, expand_coords=True)"
   ]
  },
  {
   "cell_type": "code",
   "execution_count": null,
   "metadata": {},
   "outputs": [],
   "source": [
    "thredds_dataset"
   ]
  },
  {
   "cell_type": "code",
   "execution_count": null,
   "metadata": {},
   "outputs": [],
   "source": [
    "grid = HFRGrid(thredds_dataset, 6)"
   ]
  },
  {
   "cell_type": "code",
   "execution_count": null,
   "metadata": {},
   "outputs": [],
   "source": [
    "domain = grid.get_domain()\n",
    "domain"
   ]
  },
  {
   "cell_type": "code",
   "execution_count": null,
   "metadata": {},
   "outputs": [],
   "source": [
    "domain[\"W\"] = -118.3\n",
    "domain[\"E\"] = -117\n",
    "domain[\"S\"] = 32"
   ]
  },
  {
   "cell_type": "code",
   "execution_count": null,
   "metadata": {},
   "outputs": [],
   "source": [
    "plot_points_fieldset(dataset[\"lat\"].values[0], dataset[\"lon\"].values[0], 0, grid, domain=domain, line=True)"
   ]
  },
  {
   "cell_type": "code",
   "execution_count": null,
   "metadata": {},
   "outputs": [],
   "source": [
    "filename = os.path.basename(csv_path)\n",
    "nc_path = utils.WAVEBUOY_DATA_DIR / f\"{os.path.splitext(filename)[0]}.nc\"\n",
    "dataset.to_netcdf(nc_path)"
   ]
  },
  {
   "cell_type": "code",
   "execution_count": null,
   "metadata": {},
   "outputs": [],
   "source": [
    "plot_trajectories([nc_path])"
   ]
  }
 ],
 "metadata": {
  "kernelspec": {
   "display_name": "py3_parcels",
   "language": "python",
   "name": "py3_parcels"
  },
  "language_info": {
   "codemirror_mode": {
    "name": "ipython",
    "version": 3
   },
   "file_extension": ".py",
   "mimetype": "text/x-python",
   "name": "python",
   "nbconvert_exporter": "python",
   "pygments_lexer": "ipython3",
   "version": "3.6.10"
  }
 },
 "nbformat": 4,
 "nbformat_minor": 4
}
