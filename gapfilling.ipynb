{
 "cells": [
  {
   "cell_type": "markdown",
   "metadata": {},
   "source": [
    "# missing data interpolation\n",
    "\n",
    "statistics is the answer to everything\n",
    "\n",
    "Use this notebook to gapfill a saved netcdf file."
   ]
  },
  {
   "cell_type": "markdown",
   "metadata": {},
   "source": [
    "### potential shenanigans\n",
    "\n",
    "\"Several techniques have been used to fill the gaps in either the UWLS or OI derived total vector maps.\n",
    "\n",
    "These are implemented using covariance derived from normal mode analysis (Lipphardt et al. 2000), open-boundary modal analysis (OMA) (Kaplan and Lekien 2007), and empirical orthogonal function (EOF) analysis (Beckers and Rixen 2003; Alvera-Azcárate et al. 2005); and using idealized or smoothed observed covariance (Davis 1985).\"\n",
    "\n",
    "- normal mode analysis\n",
    "- open-boundary modal analysis (OMA)\n",
    "- empirical orthogonal function analysis (EOF)\n",
    "- use idealized/smoothed observed covariance\n",
    "\n",
    "---\n",
    "\n",
    "### other ideas\n",
    "\n",
    "DINEOF (could only find an implementation in R)"
   ]
  },
  {
   "cell_type": "code",
   "execution_count": null,
   "metadata": {},
   "outputs": [],
   "source": [
    "%matplotlib inline\n",
    "%load_ext autoreload\n",
    "%autoreload 2"
   ]
  },
  {
   "cell_type": "code",
   "execution_count": null,
   "metadata": {},
   "outputs": [],
   "source": [
    "from pathlib import Path\n",
    "import numpy as np\n",
    "\n",
    "import pyplume.utils as utils\n",
    "from pyplume.dataloaders import dataset_to_fieldset, SurfaceGrid, DataLoader\n",
    "from pyplume.constants import *\n",
    "from pyplume.gapfilling import InterpolationStep, SmoothnStep, Gapfiller"
   ]
  },
  {
   "cell_type": "markdown",
   "metadata": {},
   "source": [
    "### target and interp_references\n",
    "\n",
    "#### Change these variables\n",
    "\n",
    "`target` is the data you are interpolating.\n",
    "\n",
    "`interp_references` is a list of reference data to interpolate from. A few specifications:\n",
    "- should be ordered from most accurate data to least accurate (highest to lowest resolution)\n",
    "- time domain should be identical or bigger than the one of the target\n",
    "- lat and lon domain should be bigger than the target's to prevent any out-of-bounds complications\n",
    "\n",
    "`mask_nc` must have the exact same lat and lon dimensions of the target"
   ]
  },
  {
   "cell_type": "code",
   "execution_count": null,
   "metadata": {},
   "outputs": [],
   "source": [
    "target_path = \"data/field_netcdfs/tj_plume_1km_2022-09.nc\"\n",
    "target = DataLoader(target_path).dataset"
   ]
  },
  {
   "cell_type": "code",
   "execution_count": null,
   "metadata": {},
   "outputs": [],
   "source": [
    "gapfiller = Gapfiller()\n",
    "# ADD GAPFILLING STEPS HERE\n",
    "gapfiller.add_steps(\n",
    "    InterpolationStep([\n",
    "        \"data/field_netcdfs/tj_plume_2km_2022-09.nc\",\n",
    "        \"data/field_netcdfs/tj_plume_6km_2022-09.nc\",\n",
    "    ]),\n",
    "    # SmoothnStep(mask=\"data/field_netcdfs/tj_plume_1km_2022-09_mask.npy\")\n",
    ")"
   ]
  },
  {
   "cell_type": "markdown",
   "metadata": {},
   "source": [
    "### formatting and saving"
   ]
  },
  {
   "cell_type": "code",
   "execution_count": null,
   "metadata": {
    "scrolled": true
   },
   "outputs": [],
   "source": [
    "target_interped_ds = gapfiller.execute(target)"
   ]
  },
  {
   "cell_type": "code",
   "execution_count": null,
   "metadata": {},
   "outputs": [],
   "source": [
    "save_path = str(target_path).split(\".nc\")[0] + \"_interped.nc\"\n",
    "target_interped_ds.to_netcdf(save_path)\n",
    "print(f\"saved to {save_path}\")"
   ]
  },
  {
   "cell_type": "markdown",
   "metadata": {},
   "source": [
    "### display field to see if interpolation worked"
   ]
  },
  {
   "cell_type": "code",
   "execution_count": null,
   "metadata": {},
   "outputs": [],
   "source": [
    "fs = dataset_to_fieldset(target)\n",
    "fs_interp = dataset_to_fieldset(target_interped_ds)\n",
    "fs.U.show()  # uninterpolated\n",
    "fs_interp.U.show()  # interpolated, gapfilled, smoothed"
   ]
  }
 ],
 "metadata": {
  "kernelspec": {
   "display_name": "Python 3.7.10 ('py3-parcels')",
   "language": "python",
   "name": "python3"
  },
  "language_info": {
   "codemirror_mode": {
    "name": "ipython",
    "version": 3
   },
   "file_extension": ".py",
   "mimetype": "text/x-python",
   "name": "python",
   "nbconvert_exporter": "python",
   "pygments_lexer": "ipython3",
   "version": "3.7.10"
  },
  "vscode": {
   "interpreter": {
    "hash": "0eba6c4b74a2f8ee4f11000f0a8df2ef42b87fd4ae75b12d527f1b8c08aad6c6"
   }
  }
 },
 "nbformat": 4,
 "nbformat_minor": 4
}
