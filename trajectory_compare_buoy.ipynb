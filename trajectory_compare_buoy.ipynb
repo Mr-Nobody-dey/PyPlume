{
 "cells": [
  {
   "cell_type": "markdown",
   "metadata": {},
   "source": [
    "# trajectory_compare_buoy\n",
    "\n",
    "compare wave buoy path data with what parcels says\n",
    "\n",
    "needs to run an entirely new parcels simulation such that the delta times match with the wave buoy's (or at least be close enough to it)"
   ]
  },
  {
   "cell_type": "code",
   "execution_count": null,
   "metadata": {},
   "outputs": [],
   "source": [
    "%matplotlib inline\n",
    "%load_ext autoreload\n",
    "%autoreload 2"
   ]
  },
  {
   "cell_type": "code",
   "execution_count": null,
   "metadata": {},
   "outputs": [],
   "source": [
    "import os\n",
    "\n",
    "import numpy as np\n",
    "from parcels import FieldSet\n",
    "import xarray as xr\n",
    "\n",
    "import utils\n",
    "from parcels_utils import buoycsv_to_particleds, HFRGrid\n",
    "from parcels_sim import simulation, generate_sim_gif\n",
    "from plot_utils import plot_trajectories, plot_points_fieldset\n",
    "from thredds_utils import get_thredds_dataset, thredds_data"
   ]
  },
  {
   "cell_type": "code",
   "execution_count": null,
   "metadata": {
    "scrolled": true
   },
   "outputs": [],
   "source": [
    "csv_path = utils.WAVEBUOY_DATA_DIR / \"wavebuoy_704-02.csv\"\n",
    "dataset = buoycsv_to_particleds(csv_path)\n",
    "dataset"
   ]
  },
  {
   "cell_type": "code",
   "execution_count": null,
   "metadata": {},
   "outputs": [],
   "source": [
    "filename = os.path.basename(csv_path)\n",
    "nc_path = utils.WAVEBUOY_DATA_DIR / f\"{os.path.splitext(filename)[0]}.nc\"\n",
    "dataset.to_netcdf(nc_path)\n",
    "plot_trajectories([nc_path])"
   ]
  },
  {
   "cell_type": "code",
   "execution_count": null,
   "metadata": {},
   "outputs": [],
   "source": [
    "buoy_timestamps = dataset[\"time\"].values[0].astype(\"datetime64[s]\")\n",
    "np.diff(buoy_timestamps)"
   ]
  },
  {
   "cell_type": "code",
   "execution_count": null,
   "metadata": {},
   "outputs": [],
   "source": [
    "padding = 0.08\n",
    "buoy_lat_rng = (dataset[\"lat\"].values[0].min() - padding, dataset[\"lat\"].values[0].max() + padding)\n",
    "buoy_lon_rng = (dataset[\"lon\"].values[0].min() - padding, dataset[\"lon\"].values[0].max() + padding)"
   ]
  },
  {
   "cell_type": "code",
   "execution_count": null,
   "metadata": {},
   "outputs": [],
   "source": [
    "times = dataset.isel(traj=0)[\"time\"].values\n",
    "start = buoy_timestamps[0]\n",
    "end = buoy_timestamps[-1]\n",
    "thredds_dataset = get_thredds_dataset(\"buoy\", 6, (start, end), buoy_lat_rng, buoy_lon_rng, expand_coords=True)\n",
    "thredds_dataset"
   ]
  },
  {
   "cell_type": "code",
   "execution_count": null,
   "metadata": {},
   "outputs": [],
   "source": [
    "grid = HFRGrid(thredds_dataset.sel(time=slice(buoy_timestamps[0], buoy_timestamps[10])), 6)"
   ]
  },
  {
   "cell_type": "code",
   "execution_count": null,
   "metadata": {},
   "outputs": [],
   "source": [
    "domain = grid.get_domain()\n",
    "domain"
   ]
  },
  {
   "cell_type": "code",
   "execution_count": null,
   "metadata": {},
   "outputs": [],
   "source": [
    "domain[\"W\"] = -118.3\n",
    "domain[\"E\"] = -117\n",
    "domain[\"S\"] = 32"
   ]
  },
  {
   "cell_type": "code",
   "execution_count": null,
   "metadata": {},
   "outputs": [],
   "source": [
    "start_offset = 95\n",
    "b = 200\n",
    "plot_points_fieldset(dataset[\"lat\"].values[0][a:b], dataset[\"lon\"].values[0][a:b], 0, grid, domain=domain, line=True)"
   ]
  },
  {
   "cell_type": "code",
   "execution_count": null,
   "metadata": {},
   "outputs": [],
   "source": [
    "# find a starting point of the buoy actually in the vector field\n",
    "start_pos = None\n",
    "start_time = None\n",
    "start_time_idx = None\n",
    "end_time = None\n",
    "end_time_idx = None\n",
    "for i in range(start_offset, dataset.dims[\"obs\"]):\n",
    "    time = dataset[\"time\"].values[0, i]\n",
    "    lat = dataset[\"lat\"].values[0, i]\n",
    "    lon = dataset[\"lon\"].values[0, i]\n",
    "    u, v = grid.get_closest_current(time, lat, lon)\n",
    "    if np.isnan(u) or np.isnan(v) or abs(u) + abs(v) == 0:\n",
    "        if start_pos is not None:\n",
    "            end_time_idx = i\n",
    "            end_time = np.datetime64(time, \"h\") + np.timedelta64(1, \"h\")\n",
    "            break\n",
    "    elif start_pos is None:\n",
    "        start_time_idx = i\n",
    "        start_pos = [lat, lon]\n",
    "        start_time = np.datetime64(time, \"h\") - np.timedelta64(1, \"h\")\n",
    "start_time_idx, end_time_idx, start_time, end_time, start_pos"
   ]
  },
  {
   "cell_type": "code",
   "execution_count": null,
   "metadata": {},
   "outputs": [],
   "source": [
    "selected_ds = dataset.sel(obs=slice(start_time_idx, end_time_idx))\n",
    "nc_path_selected = utils.WAVEBUOY_DATA_DIR / f\"{os.path.splitext(filename)[0]}_selected.nc\"\n",
    "selected_ds.to_netcdf(nc_path_selected)\n",
    "plot_points_fieldset(selected_ds[\"lat\"].values[0], selected_ds[\"lon\"].values[0], 0, grid, domain=domain, line=True)"
   ]
  },
  {
   "cell_type": "code",
   "execution_count": null,
   "metadata": {},
   "outputs": [],
   "source": [
    "parcels_cfg = {\n",
    "    \"time_range\": [start_time, end_time],\n",
    "    \"repeat_dt\": -1,\n",
    "    \"particles_per_dt\": -1,\n",
    "    \"max_variation\": 0.01,\n",
    "    \"spawn_points\": [\n",
    "        start_pos\n",
    "    ],\n",
    "    \"random_spawn\": False,\n",
    "    \"simulation_dt\": 300,\n",
    "    \"snapshot_interval\": 10800,\n",
    "    \"save_snapshots\": True,\n",
    "    \"shown_domain\": domain\n",
    "}"
   ]
  },
  {
   "cell_type": "code",
   "execution_count": null,
   "metadata": {
    "scrolled": true
   },
   "outputs": [],
   "source": [
    "grid = HFRGrid(thredds_dataset.sel(time=slice(start_time, end_time)), 6)\n",
    "pfile_path, snap_path = simulation(\"test\", grid, parcels_cfg)"
   ]
  },
  {
   "cell_type": "code",
   "execution_count": null,
   "metadata": {},
   "outputs": [],
   "source": [
    "generate_sim_gif(\n",
    "    \"buoy_sim\",\n",
    "    snap_path,\n",
    "    utils.PICUTRE_DIR / f\"{utils.filename_dict[grid.resolution]}/partsim_test.gif\",\n",
    "    25\n",
    ")"
   ]
  },
  {
   "cell_type": "code",
   "execution_count": null,
   "metadata": {},
   "outputs": [],
   "source": [
    "plot_path = utils.create_path(utils.PICUTRE_DIR / \"buoy\")\n",
    "plot_trajectories([nc_path_selected, pfile_path], legend=True, savefile=plot_path / f\"buoy_comp.png\")"
   ]
  }
 ],
 "metadata": {
  "kernelspec": {
   "display_name": "py3_parcels",
   "language": "python",
   "name": "py3_parcels"
  },
  "language_info": {
   "codemirror_mode": {
    "name": "ipython",
    "version": 3
   },
   "file_extension": ".py",
   "mimetype": "text/x-python",
   "name": "python",
   "nbconvert_exporter": "python",
   "pygments_lexer": "ipython3",
   "version": "3.6.10"
  }
 },
 "nbformat": 4,
 "nbformat_minor": 4
}
