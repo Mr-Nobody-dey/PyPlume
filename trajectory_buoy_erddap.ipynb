{
 "cells": [
  {
   "cell_type": "markdown",
   "metadata": {},
   "source": [
    "# trajectory_buoy_erddap\n",
    "\n",
    "compare wave buoy path data with what parcels says\n",
    "\n",
    "compare the path of a buoy with a particle simulation on erddap data (NOT thredds)\n",
    "\n",
    "data downloaded/queried from here: https://erddap.sccoos.org/erddap/griddap/roms_ncst.html"
   ]
  },
  {
   "cell_type": "code",
   "execution_count": null,
   "metadata": {},
   "outputs": [],
   "source": [
    "%matplotlib inline\n",
    "%load_ext autoreload\n",
    "%autoreload 2"
   ]
  },
  {
   "cell_type": "code",
   "execution_count": null,
   "metadata": {},
   "outputs": [],
   "source": [
    "import os\n",
    "\n",
    "import numpy as np\n",
    "from parcels import FieldSet\n",
    "import xarray as xr\n",
    "\n",
    "import utils\n",
    "from parcels_utils import buoycsv_to_particleds, clean_erddap_ds, HFRGrid\n",
    "from parcels_sim import simulation, generate_sim_gif\n",
    "from plot_utils import plot_trajectories, plot_points_fieldset"
   ]
  },
  {
   "cell_type": "code",
   "execution_count": null,
   "metadata": {},
   "outputs": [],
   "source": [
    "# roms_ncst_ae30_8a12_e3ca.nc (don't use lol)\n",
    "# buoy 689-02: corrected maybe? roms_ncst_540f_9ebe_9c54.nc\n",
    "# buoy 704-02: roms_ncst_524b_bd8b_75c1.nc\n",
    "erddap_path = utils.CURRENT_NETCDF_DIR / \"roms_ncst_524b_bd8b_75c1.nc\"\n",
    "dataset = xr.open_dataset(erddap_path)\n",
    "dataset = clean_erddap_ds(dataset)\n",
    "dataset"
   ]
  },
  {
   "cell_type": "code",
   "execution_count": null,
   "metadata": {},
   "outputs": [],
   "source": [
    "grid = HFRGrid(dataset)"
   ]
  },
  {
   "cell_type": "code",
   "execution_count": null,
   "metadata": {},
   "outputs": [],
   "source": [
    "# 5-01 west coast (2009 February, too old for thredds)\n",
    "# 590-09 west coast (2018 October)\n",
    "# 704-02 west coast\n",
    "# 689-02 west coast\n",
    "# 612-08 east coast\n",
    "# 731-02 east coast \n",
    "buoy_id = \"704-02\"\n",
    "csv_path = utils.WAVEBUOY_DATA_DIR / f\"wavebuoy_{buoy_id}.csv\"\n",
    "buoy_ds = buoycsv_to_particleds(csv_path)\n",
    "# buoy_ds = buoy_ds.where(buoy_ds[\"time\"] >= dataset[\"time\"].min(), drop=True)\n",
    "buoy_ds"
   ]
  },
  {
   "cell_type": "code",
   "execution_count": null,
   "metadata": {},
   "outputs": [],
   "source": [
    "filename = os.path.basename(csv_path)\n",
    "# hardcoded for 704-02 specifically (index [95, 145))\n",
    "buoy_ds_selected = buoy_ds.sel(obs=slice(95, 145))\n",
    "nc_path_selected = utils.WAVEBUOY_DATA_DIR / f\"{os.path.splitext(filename)[0]}_selected.nc\"\n",
    "buoy_ds_selected.to_netcdf(nc_path_selected)\n",
    "buoy_ds_selected"
   ]
  },
  {
   "cell_type": "code",
   "execution_count": null,
   "metadata": {},
   "outputs": [],
   "source": [
    "plot_points_fieldset(buoy_ds_selected[\"lat\"].values[0], buoy_ds_selected[\"lon\"].values[0], 0, grid, domain=grid.get_domain(), line=True)"
   ]
  },
  {
   "cell_type": "code",
   "execution_count": null,
   "metadata": {},
   "outputs": [],
   "source": [
    "domain = grid.get_domain()\n",
    "domain"
   ]
  },
  {
   "cell_type": "code",
   "execution_count": null,
   "metadata": {},
   "outputs": [],
   "source": [
    "# domain[\"S\"] = 32.25\n",
    "# domain[\"N\"] = 33\n",
    "# domain[\"E\"] = -117.4\n",
    "\n",
    "domain[\"W\"] = -117.85\n",
    "domain[\"E\"] = -117.65\n",
    "domain[\"S\"] = 32.35\n",
    "domain[\"N\"] = 32.9"
   ]
  },
  {
   "cell_type": "code",
   "execution_count": null,
   "metadata": {},
   "outputs": [],
   "source": [
    "buoy_timestamps = buoy_ds_selected[\"time\"].values[0].astype(\"datetime64[s]\")\n",
    "start = buoy_timestamps[0] - np.timedelta64(18, \"h\")\n",
    "end = buoy_timestamps[-1]\n",
    "start_pos = (buoy_ds_selected[\"lat\"].isel(traj=0,obs=0).values.item(), buoy_ds_selected[\"lon\"].isel(traj=0,obs=0).values.item())\n",
    "start, end, start_pos"
   ]
  },
  {
   "cell_type": "code",
   "execution_count": null,
   "metadata": {},
   "outputs": [],
   "source": [
    "parcels_cfg = {\n",
    "    \"time_range\": [start, end],\n",
    "    \"repeat_dt\": -1,\n",
    "    \"particles_per_dt\": -1,\n",
    "    \"max_variation\": 0.0,\n",
    "    \"spawn_points\": [\n",
    "        start_pos\n",
    "    ],\n",
    "    \"random_spawn\": True,\n",
    "    \"simulation_dt\": 300,\n",
    "    \"snapshot_interval\": 7200,\n",
    "    \"save_snapshots\": True,\n",
    "    \"shown_domain\": domain,\n",
    "    \"part_size\": 16\n",
    "}"
   ]
  },
  {
   "cell_type": "code",
   "execution_count": null,
   "metadata": {
    "scrolled": true
   },
   "outputs": [],
   "source": [
    "pfile_path, snap_path = simulation(\"erddap_buoy\", grid, parcels_cfg)"
   ]
  },
  {
   "cell_type": "code",
   "execution_count": null,
   "metadata": {},
   "outputs": [],
   "source": [
    "generate_sim_gif(\n",
    "    snap_path,\n",
    "    utils.PICUTRE_DIR / \"erddap_buoy.gif\",\n",
    "    25\n",
    ")"
   ]
  },
  {
   "cell_type": "code",
   "execution_count": null,
   "metadata": {},
   "outputs": [],
   "source": [
    "plot_path = utils.create_path(utils.PICUTRE_DIR / \"buoy\")\n",
    "plot_trajectories([nc_path_selected, pfile_path], [buoy_id, \"Simulated path\"], legend=True, titlestr=f\"ERDDAP Comparison from {np.datetime64(start, 's')} to {np.datetime64(end, 's')}\",savefile=plot_path / f\"buoy_comp_erddap_{buoy_id}.png\")"
   ]
  }
 ],
 "metadata": {
  "kernelspec": {
   "display_name": "py3_parcels",
   "language": "python",
   "name": "py3_parcels"
  },
  "language_info": {
   "codemirror_mode": {
    "name": "ipython",
    "version": 3
   },
   "file_extension": ".py",
   "mimetype": "text/x-python",
   "name": "python",
   "nbconvert_exporter": "python",
   "pygments_lexer": "ipython3",
   "version": "3.6.10"
  }
 },
 "nbformat": 4,
 "nbformat_minor": 4
}
