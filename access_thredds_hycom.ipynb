{
 "cells": [
  {
   "cell_type": "markdown",
   "id": "f8536cc9",
   "metadata": {},
   "source": [
    "# ACCESS THREDDS FOR HYCOM\n",
    "\n",
    "Alli Ho 08/23/2021\n",
    "\n",
    "Updated 04/05/2022 by Jerry\n",
    "\n",
    "Using Jerry's code `access_thredds.ipynb` to access HYCOM forecast from https://tds.hycom.org/thredds/dodsC/GLBy0.08/expt_93.0/FMRC/GLBy0.08_930_FMRC_best.ncd.html\n",
    "\n",
    "#### Adjusted code to work with HYCOM variables:\n",
    "\n",
    "UPDATE: this should no longer by needed (in theory), `thredds_utils.py` should handle HYCOM data normally now.\n",
    "\n",
    "- `hycom_utils.py` was updated from `thredds_utils.py` to work with HYCOM output\n"
   ]
  },
  {
   "cell_type": "code",
   "execution_count": null,
   "id": "80afcf71",
   "metadata": {
    "ExecuteTime": {
     "end_time": "2021-08-26T21:22:24.823371Z",
     "start_time": "2021-08-26T21:22:24.159878Z"
    }
   },
   "outputs": [],
   "source": [
    "%matplotlib inline\n",
    "%load_ext autoreload\n",
    "%autoreload 2"
   ]
  },
  {
   "cell_type": "code",
   "execution_count": null,
   "id": "5905fb92",
   "metadata": {
    "ExecuteTime": {
     "end_time": "2021-08-26T21:22:27.167400Z",
     "start_time": "2021-08-26T21:22:24.825474Z"
    }
   },
   "outputs": [],
   "source": [
    "import numpy as np\n",
    "\n",
    "import src.utils as utils\n",
    "from src.thredds_utils import ThreddsCode, slice_dataset, retrieve_dataset"
   ]
  },
  {
   "cell_type": "markdown",
   "id": "136efbc6",
   "metadata": {},
   "source": [
    "## SETUP\n",
    "\n",
    "Change the date and filename for when you want to start your deployment\n",
    "\n",
    "Typically the forecast starts a week before today's date and runs for 300 hours (12.5 days), and so can forecast ~6 days ahead. \n",
    "\n",
    "Automatically set daterange to a week ahead:"
   ]
  },
  {
   "cell_type": "code",
   "execution_count": null,
   "id": "7471ff03",
   "metadata": {
    "ExecuteTime": {
     "end_time": "2021-08-26T21:22:27.207177Z",
     "start_time": "2021-08-26T21:22:27.170821Z"
    }
   },
   "outputs": [],
   "source": [
    "# daterange = (\"2021-08-24T00\", \"2021-09-03T00\");\n",
    "daterange = (np.datetime64(\"now\", \"h\") - np.timedelta64(1, \"D\"), np.datetime64(\"now\", \"h\") + np.timedelta64(7, \"D\"))\n",
    "currentname = \"hycom_mwbproj\";"
   ]
  },
  {
   "cell_type": "markdown",
   "id": "a7bb16cc",
   "metadata": {},
   "source": [
    "## DOWNLOAD"
   ]
  },
  {
   "cell_type": "code",
   "execution_count": null,
   "id": "0fe8fafa",
   "metadata": {
    "ExecuteTime": {
     "end_time": "2021-08-26T21:22:27.242051Z",
     "start_time": "2021-08-26T21:22:27.209645Z"
    }
   },
   "outputs": [],
   "source": [
    "dataset_url = \"https://tds.hycom.org/thredds/dodsC/GLBy0.08/expt_93.0/FMRC/GLBy0.08_930_FMRC_best.ncd\""
   ]
  },
  {
   "cell_type": "code",
   "execution_count": null,
   "id": "8b3e2656",
   "metadata": {
    "ExecuteTime": {
     "end_time": "2021-08-26T21:22:27.913854Z",
     "start_time": "2021-08-26T21:22:27.243970Z"
    }
   },
   "outputs": [],
   "source": [
    "# num_chunks = 1\n",
    "# # EXCLUDE THESE VARIABLES:\n",
    "# dropvars = {'water_temp', 'water_temp_bottom','salinity', 'salinity_bottom','water_u_bottom','water_v_bottom','surf_el'}\n",
    "\n",
    "# thredds_data = {\n",
    "#     thredds_utils.DATA_HYCOMFORE: xr.open_dataset(dataset_url, chunks={\"time\": 1},decode_times=False, drop_variables=dropvars),\n",
    "# }\n",
    "# t0 = np.datetime64(thredds_data[thredds_utils.DATA_HYCOMFORE].time.units[12:35])\n",
    "# tmp = thredds_data[thredds_utils.DATA_HYCOMFORE].time.data\n",
    "# # thredds_data[thredds_utils.DATA_HYCOMFORE][\"timeday\"] = t0 + np.array(tmp,dtype=\"timedelta64[h]\")\n",
    "# thredds_data[thredds_utils.DATA_HYCOMFORE][\"t0\"] = np.timedelta64(t0 - np.datetime64('0000-01-01T00:00:00.000'), 'h')/np.timedelta64(1, 'D')\n",
    "# thredds_data[thredds_utils.DATA_HYCOMFORE] = thredds_data[thredds_utils.DATA_HYCOMFORE].assign_coords(time=(t0 + np.array(tmp,dtype=\"timedelta64[h]\")))\n",
    "\n",
    "\n",
    "# thredds_data[thredds_utils.DATA_HYCOMFORE][\"time\"].attrs[\"long_name\"] = \"Forecast time\"\n",
    "# thredds_data[thredds_utils.DATA_HYCOMFORE][\"time\"].attrs[\"standard_name\"] = \"time\"\n",
    "# thredds_data[thredds_utils.DATA_HYCOMFORE][\"time\"].attrs[\"_CoordinateAxisType\"] = \"Time\"\n",
    "# thredds_data[thredds_utils.DATA_HYCOMFORE][\"tau\"].attrs[\"units\"] = \"hours since \" + thredds_data[thredds_utils.DATA_HYCOMFORE][\"tau\"].time_origin\n",
    "\n",
    "hycom_data = retrieve_dataset(ThreddsCode.DATA_HYCOMFORE)"
   ]
  },
  {
   "cell_type": "code",
   "execution_count": null,
   "id": "dbdf0691",
   "metadata": {
    "ExecuteTime": {
     "end_time": "2021-08-26T21:22:27.951471Z",
     "start_time": "2021-08-26T21:22:27.915767Z"
    }
   },
   "outputs": [],
   "source": [
    "print(\"END OF FORECAST: \"+ str(hycom_data[\"time\"].data[-1]))\n",
    "hycom_data"
   ]
  },
  {
   "cell_type": "code",
   "execution_count": null,
   "id": "0b9850b6",
   "metadata": {
    "ExecuteTime": {
     "end_time": "2021-08-26T21:22:28.033932Z",
     "start_time": "2021-08-26T21:22:27.999968Z"
    }
   },
   "outputs": [],
   "source": [
    "region_data = [\n",
    "   {\n",
    "      \"name\": currentname,\n",
    "      \"code\": ThreddsCode.DATA_HYCOMFORE,\n",
    "      \"time_range\": daterange,\n",
    "      \"lat_range\": (22, 45),\n",
    "      \"lon_range\": (273, 295),\n",
    "      \"include_range_endpoints\": False\n",
    "   }\n",
    "]"
   ]
  },
  {
   "cell_type": "code",
   "execution_count": null,
   "id": "953585f2",
   "metadata": {
    "ExecuteTime": {
     "end_time": "2021-08-26T21:22:28.076896Z",
     "start_time": "2021-08-26T21:22:28.036424Z"
    }
   },
   "outputs": [],
   "source": [
    "regions = []\n",
    "for rd in region_data:\n",
    "    dataset = slice_dataset(\n",
    "        rd[\"code\"], rd[\"time_range\"], rd[\"lat_range\"],\n",
    "        rd[\"lon_range\"], inclusive=rd[\"include_range_endpoints\"]\n",
    "    )\n",
    "    new_reg = {\"name\": rd[\"name\"], \"dataset\": dataset}\n",
    "    regions.append(new_reg)\n",
    "    print(f\"region {new_reg['name']} data megabytes: {new_reg['dataset'].nbytes / 1024 / 1024}\")"
   ]
  },
  {
   "cell_type": "code",
   "execution_count": null,
   "id": "64f537a0",
   "metadata": {
    "ExecuteTime": {
     "end_time": "2021-08-26T21:23:02.366579Z",
     "start_time": "2021-08-26T21:22:28.078898Z"
    }
   },
   "outputs": [],
   "source": [
    "for i, r in enumerate(regions):\n",
    "    save_dir = utils.create_path(utils.CURRENT_NETCDF_DIR)\n",
    "    filename = f\"{r['name']}.nc\"\n",
    "    # save file\n",
    "    r[\"dataset\"].to_netcdf(save_dir / filename)\n",
    "    print(f\"saved to {save_dir / filename}\")\n",
    "print(\"done\")"
   ]
  }
 ],
 "metadata": {
  "interpreter": {
   "hash": "0eba6c4b74a2f8ee4f11000f0a8df2ef42b87fd4ae75b12d527f1b8c08aad6c6"
  },
  "kernelspec": {
   "display_name": "py3-parcels",
   "language": "python",
   "name": "python3"
  },
  "language_info": {
   "codemirror_mode": {
    "name": "ipython",
    "version": 3
   },
   "file_extension": ".py",
   "mimetype": "text/x-python",
   "name": "python",
   "nbconvert_exporter": "python",
   "pygments_lexer": "ipython3",
   "version": "3.7.10"
  }
 },
 "nbformat": 4,
 "nbformat_minor": 5
}
