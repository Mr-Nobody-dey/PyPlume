{
 "cells": [
  {
   "cell_type": "markdown",
   "metadata": {},
   "source": [
    "# access thredds manual\n",
    "\n",
    "getting different regions of current data manually instead of using the auto-generated regions."
   ]
  },
  {
   "cell_type": "code",
   "execution_count": null,
   "metadata": {},
   "outputs": [],
   "source": [
    "%matplotlib inline\n",
    "%load_ext autoreload\n",
    "%autoreload 2"
   ]
  },
  {
   "cell_type": "code",
   "execution_count": null,
   "metadata": {},
   "outputs": [],
   "source": [
    "import os\n",
    "import time\n",
    "import numpy as np\n",
    "import xarray as xr\n",
    "\n",
    "from utils import create_path\n",
    "from parcels_utils import xr_dataset_to_fieldset"
   ]
  },
  {
   "cell_type": "code",
   "execution_count": null,
   "metadata": {},
   "outputs": [],
   "source": [
    "dataset_url_6kmhourly = \"http://hfrnet-tds.ucsd.edu/thredds/dodsC/HFR/USWC/6km/hourly/RTV/HFRADAR_US_West_Coast_6km_Resolution_Hourly_RTV_best.ncd\"\n",
    "dataset_url_2kmhourly = \"http://hfrnet-tds.ucsd.edu/thredds/dodsC/HFR/USWC/2km/hourly/RTV/HFRADAR_US_West_Coast_2km_Resolution_Hourly_RTV_best.ncd\"\n",
    "dataset_url_1kmhourly = \"http://hfrnet-tds.ucsd.edu/thredds/dodsC/HFR/USWC/1km/hourly/RTV/HFRADAR_US_West_Coast_1km_Resolution_Hourly_RTV_best.ncd\"\n",
    "\n",
    "DATA_6KM = 6\n",
    "DATA_2KM = 2\n",
    "DATA_1KM = 1\n",
    "\n",
    "filename_dict = {\n",
    "    DATA_6KM: \"west_coast_6km_hourly\",\n",
    "    DATA_2KM: \"west_coast_2km_hourly\",\n",
    "    DATA_1KM: \"west_coast_1km_hourly\"\n",
    "}\n",
    "\n",
    "def get_region(data):\n",
    "    time_range = data[2]\n",
    "    if isinstance(time_range[0], str):\n",
    "        time_range = (np.datetime64(time_range[0]), np.datetime64(time_range[1]))\n",
    "    lat_range = data[3]\n",
    "    lon_range = data[4]\n",
    "    return dict(\n",
    "        name = data[0],\n",
    "        category = data[1],\n",
    "        time = time_range,\n",
    "        lat = lat_range,\n",
    "        lon = lon_range,\n",
    "        domain = {\n",
    "            \"S\": lat_range[0],\n",
    "            \"N\": lat_range[1],\n",
    "            \"W\": lon_range[0],\n",
    "            \"E\": lon_range[1],\n",
    "        }\n",
    "    )\n",
    "\n",
    "def get_latest_span(delta):\n",
    "    # GMT, data recorded hourly\n",
    "    time_now = np.datetime64(\"now\", \"h\")\n",
    "    return (time_now - delta, time_now)"
   ]
  },
  {
   "cell_type": "code",
   "execution_count": null,
   "metadata": {},
   "outputs": [],
   "source": [
    "region_data = [\n",
    "#     (\"tijuana_river\", DATA_2KM, (\"2020-06-16T21\", \"2020-06-23T21\"), (32.528, 32.71), (-117.29, -117.11)),\n",
    "#     (\"tijuana_river\", DATA_1KM, (\"2020-06-16T21\", \"2020-06-23T21\"), (32.528, 32.71), (-117.29, -117.11)),\n",
    "#     (\"tijuana_river_small\", DATA_1KM, (\"2020-06-16T21\", \"2020-06-23T21\"), (32.528, 32.6), (-117.19, -117.11))\n",
    "#     (\"tijuana_river_now\", DATA_1KM, get_latest_span(np.timedelta64(300, \"D\")), (32.528, 32.71), (-117.29, -117.11)),\n",
    "#     (\"tijuana_river_now\", DATA_2KM, get_latest_span(np.timedelta64(300, \"D\")), (32.524, 32.75), (-117.32, -117.09)),\n",
    "#     (\"tijuana_river_now\", DATA_6KM, get_latest_span(np.timedelta64(300, \"D\")), (32.35, 32.80), (-117.33, -116.9))\n",
    "]"
   ]
  },
  {
   "cell_type": "markdown",
   "metadata": {},
   "source": [
    "lol 500 days is only like 100 megabytes, took me a good 20 minutes to download\n",
    "\n",
    "oh my god its even slower now what the fuck\n",
    "\n",
    "10 minutes for a 12 megabyte download are you serious"
   ]
  },
  {
   "cell_type": "code",
   "execution_count": null,
   "metadata": {},
   "outputs": [],
   "source": [
    "num_chunks = 50\n",
    "\n",
    "# thredds_data = {\n",
    "#     DATA_6KM: xr.open_dataset(dataset_url_6kmhourly, chunks={\"time\": num_chunks}),\n",
    "#     DATA_2KM: xr.open_dataset(dataset_url_2kmhourly, chunks={\"time\": num_chunks}),\n",
    "#     DATA_1KM: xr.open_dataset(dataset_url_1kmhourly, chunks={\"time\": num_chunks})\n",
    "# }\n",
    "\n",
    "thredds_data = {}\n",
    "\n",
    "# lol\n",
    "# so it doesnt have to slowly load every dataset very slowly if not needed\n",
    "for rd in region_data:\n",
    "    res = rd[1]\n",
    "    if res not in thredds_data:\n",
    "        if res == DATA_6KM:\n",
    "            thredds_data[DATA_6KM] = xr.open_dataset(dataset_url_6kmhourly, chunks={\"time\": num_chunks})\n",
    "        if res == DATA_2KM:\n",
    "            thredds_data[DATA_2KM] = xr.open_dataset(dataset_url_2kmhourly, chunks={\"time\": num_chunks})\n",
    "        if res == DATA_1KM:\n",
    "            thredds_data[DATA_1KM] = xr.open_dataset(dataset_url_1kmhourly, chunks={\"time\": num_chunks})"
   ]
  },
  {
   "cell_type": "code",
   "execution_count": null,
   "metadata": {},
   "outputs": [],
   "source": [
    "regions = []\n",
    "for rd in region_data:\n",
    "    new_reg = get_region(rd)\n",
    "    new_reg[\"dataset\"] = thredds_data[new_reg[\"category\"]].sel(\n",
    "        time=slice(new_reg[\"time\"][0], new_reg[\"time\"][1]),\n",
    "        lat=slice(new_reg[\"lat\"][0], new_reg[\"lat\"][1]),\n",
    "        lon=slice(new_reg[\"lon\"][0], new_reg[\"lon\"][1]),\n",
    "    )\n",
    "    regions.append(new_reg)\n",
    "    print(f\"region {new_reg['name']} data megabytes: {new_reg['dataset'].nbytes / 1024 / 1024}\")"
   ]
  },
  {
   "cell_type": "code",
   "execution_count": null,
   "metadata": {},
   "outputs": [],
   "source": [
    "for r in regions:\n",
    "    time_st = time.time()\n",
    "    save_dir = create_path(\"current_netcdfs/\" + filename_dict[r[\"category\"]])\n",
    "    filename = f\"{r['name']}.nc\"\n",
    "    # save file\n",
    "    r[\"dataset\"].to_netcdf(save_dir / filename)\n",
    "    time_en = time.time()\n",
    "    print(f\"saved to {save_dir / filename}\")\n",
    "    print(f\"time elapsed: {time_en - time_st}\")\n",
    "print(\"done\")"
   ]
  },
  {
   "cell_type": "markdown",
   "metadata": {},
   "source": [
    "## fieldset testing"
   ]
  },
  {
   "cell_type": "code",
   "execution_count": null,
   "metadata": {},
   "outputs": [],
   "source": [
    "from parcels import FieldSet"
   ]
  },
  {
   "cell_type": "code",
   "execution_count": null,
   "metadata": {},
   "outputs": [],
   "source": [
    "netcdf_filename = \"current_netcdfs/west_coast_1km_hourly/tijuana_river_now.nc\"\n",
    "ds = xr.open_dataset(netcdf_filename)\n",
    "fs = xr_dataset_to_fieldset(ds)\n",
    "ds.close()\n",
    "fs.U.show()"
   ]
  }
 ],
 "metadata": {
  "kernelspec": {
   "display_name": "py3_parcels",
   "language": "python",
   "name": "py3_parcels"
  },
  "language_info": {
   "codemirror_mode": {
    "name": "ipython",
    "version": 3
   },
   "file_extension": ".py",
   "mimetype": "text/x-python",
   "name": "python",
   "nbconvert_exporter": "python",
   "pygments_lexer": "ipython3",
   "version": "3.6.10"
  }
 },
 "nbformat": 4,
 "nbformat_minor": 4
}
