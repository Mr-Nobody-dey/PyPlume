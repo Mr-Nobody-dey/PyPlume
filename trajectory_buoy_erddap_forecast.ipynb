{
 "cells": [
  {
   "cell_type": "markdown",
   "metadata": {},
   "source": [
    "# trajectory_buoy_erddap_forecast\n",
    "\n",
    "like trajectory_buoy_erddap but instead of nowcast data, uses forecast data, which doesn't have 6 hour gaps wow\n",
    "\n",
    "https://erddap.sccoos.org/erddap/files/roms_fcst/"
   ]
  },
  {
   "cell_type": "code",
   "execution_count": null,
   "metadata": {},
   "outputs": [],
   "source": [
    "%matplotlib inline\n",
    "%load_ext autoreload\n",
    "%autoreload 2"
   ]
  },
  {
   "cell_type": "code",
   "execution_count": null,
   "metadata": {},
   "outputs": [],
   "source": [
    "import os\n",
    "\n",
    "import numpy as np\n",
    "from parcels import FieldSet\n",
    "import xarray as xr\n",
    "\n",
    "import utils\n",
    "from parcels_utils import buoycsv_to_particleds, clean_erddap_ds, HFRGrid, convert_lon_readings\n",
    "from parcels_sim import simulation, generate_sim_gif\n",
    "from plot_utils import plot_trajectories, plot_points_fieldset"
   ]
  },
  {
   "cell_type": "code",
   "execution_count": null,
   "metadata": {},
   "outputs": [],
   "source": [
    "buoy_id = \"689-02\"\n",
    "csv_path = utils.WAVEBUOY_DATA_DIR / f\"wavebuoy_{buoy_id}.csv\"\n",
    "buoy_ds = buoycsv_to_particleds(csv_path)\n",
    "buoy_ds"
   ]
  },
  {
   "cell_type": "code",
   "execution_count": null,
   "metadata": {},
   "outputs": [],
   "source": [
    "erddap_paths = [\n",
    "    utils.CURRENT_NETCDF_DIR / \"ca_subCA_fcst_2020072703.nc\",\n",
    "    utils.CURRENT_NETCDF_DIR / \"ca_subCA_fcst_2020072803.nc\",\n",
    "    utils.CURRENT_NETCDF_DIR / \"ca_subCA_fcst_2020072903.nc\",\n",
    "]\n",
    "def open_erddap(path):\n",
    "    dataset = xr.open_dataset(path, drop_variables=[\"temp\", \"salt\", \"zeta\"])\n",
    "    return dataset.sel(depth=0.0)\n",
    "    \n",
    "erddap_datasets = list(map(open_erddap, erddap_paths))"
   ]
  },
  {
   "cell_type": "code",
   "execution_count": null,
   "metadata": {},
   "outputs": [],
   "source": [
    "first = erddap_datasets[0][\"time\"]\n",
    "for ds in erddap_datasets:\n",
    "    print((ds[\"time\"] == first).all().values)"
   ]
  },
  {
   "cell_type": "code",
   "execution_count": null,
   "metadata": {},
   "outputs": [],
   "source": [
    "ds_total = None\n",
    "for ds in erddap_datasets:\n",
    "    if ds_total is None:\n",
    "        ds_total = ds\n",
    "    else:\n",
    "        ds_total = xr.concat([ds_total, ds], dim=\"time\")\n",
    "ds_total = ds_total.assign_coords({\"lon\": convert_lon_readings(ds_total[\"lon\"].values)})"
   ]
  },
  {
   "cell_type": "code",
   "execution_count": null,
   "metadata": {},
   "outputs": [],
   "source": [
    "ds_total = ds_total.sel(lat=slice(33, 35), lon=slice(-122, -120.5))\n",
    "ds_total"
   ]
  },
  {
   "cell_type": "code",
   "execution_count": null,
   "metadata": {},
   "outputs": [],
   "source": [
    "grid = HFRGrid(ds_total)"
   ]
  },
  {
   "cell_type": "code",
   "execution_count": null,
   "metadata": {},
   "outputs": [],
   "source": [
    "plot_points_fieldset(buoy_ds[\"lat\"].values[0], buoy_ds[\"lon\"].values[0], 0, grid, domain=grid.get_domain(), line=True)"
   ]
  },
  {
   "cell_type": "code",
   "execution_count": null,
   "metadata": {},
   "outputs": [],
   "source": [
    "buoy_ds_sliced = buoy_ds.where((buoy_ds[\"time\"] >= ds_total[\"time\"].min().values) & (buoy_ds[\"time\"] <= ds_total[\"time\"].max().values), drop=True)"
   ]
  },
  {
   "cell_type": "code",
   "execution_count": null,
   "metadata": {},
   "outputs": [],
   "source": [
    "plot_points_fieldset(buoy_ds_sliced[\"lat\"].values[0], buoy_ds_sliced[\"lon\"].values[0], 0, grid, domain=grid.get_domain(), line=True)"
   ]
  },
  {
   "cell_type": "code",
   "execution_count": null,
   "metadata": {},
   "outputs": [],
   "source": [
    "buoy_timestamps = buoy_ds_sliced[\"time\"].values[0].astype(\"datetime64[s]\")\n",
    "start = buoy_timestamps[0]\n",
    "end = buoy_timestamps[-1]\n",
    "start_pos = (buoy_ds_sliced[\"lat\"].isel(traj=0,obs=0).values.item(), buoy_ds_sliced[\"lon\"].isel(traj=0,obs=0).values.item())"
   ]
  },
  {
   "cell_type": "code",
   "execution_count": null,
   "metadata": {},
   "outputs": [],
   "source": [
    "parcels_cfg = {\n",
    "    \"time_range\": [start, end],\n",
    "    \"repeat_dt\": -1,\n",
    "    \"particles_per_dt\": -1,\n",
    "    \"max_variation\": 0.0,\n",
    "    \"spawn_points\": [\n",
    "        start_pos\n",
    "    ],\n",
    "    \"random_spawn\": True,\n",
    "    \"simulation_dt\": 300,\n",
    "    \"snapshot_interval\": 7200,\n",
    "    \"save_snapshots\": True,\n",
    "    \"shown_domain\": grid.get_domain()\n",
    "}"
   ]
  },
  {
   "cell_type": "code",
   "execution_count": null,
   "metadata": {},
   "outputs": [],
   "source": [
    "pfile_path, snap_path = simulation(\"erddap_buoy_forecast\", grid, parcels_cfg)"
   ]
  },
  {
   "cell_type": "code",
   "execution_count": null,
   "metadata": {},
   "outputs": [],
   "source": [
    "plot_path = utils.create_path(utils.PICUTRE_DIR / \"buoy\")\n",
    "plot_trajectories([buoy_ds_sliced, pfile_path], [buoy_id, \"Simulated path\"], legend=True, titlestr=f\"ERDDAP Comparison from {np.datetime64(start, 's')} to {np.datetime64(end, 's')}\",savefile=plot_path / f\"buoy_comp_erddap_forecast_{buoy_id}.png\")"
   ]
  }
 ],
 "metadata": {
  "kernelspec": {
   "display_name": "py3_parcels",
   "language": "python",
   "name": "py3_parcels"
  },
  "language_info": {
   "codemirror_mode": {
    "name": "ipython",
    "version": 3
   },
   "file_extension": ".py",
   "mimetype": "text/x-python",
   "name": "python",
   "nbconvert_exporter": "python",
   "pygments_lexer": "ipython3",
   "version": "3.6.10"
  }
 },
 "nbformat": 4,
 "nbformat_minor": 4
}
