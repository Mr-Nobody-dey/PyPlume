{
 "cells": [
  {
   "cell_type": "markdown",
   "metadata": {},
   "source": [
    "# trajectory_buoy_thredds\n",
    "\n",
    "compare wave buoy path data with what parcels says\n",
    "\n",
    "compare the path of a buoy with a particle simulation on thredds data"
   ]
  },
  {
   "cell_type": "code",
   "execution_count": null,
   "metadata": {},
   "outputs": [],
   "source": [
    "%matplotlib inline\n",
    "%load_ext autoreload\n",
    "%autoreload 2"
   ]
  },
  {
   "cell_type": "code",
   "execution_count": null,
   "metadata": {},
   "outputs": [],
   "source": [
    "import os\n",
    "\n",
    "import numpy as np\n",
    "from parcels import FieldSet\n",
    "import xarray as xr\n",
    "\n",
    "import utils\n",
    "from parcels_utils import buoycsv_to_particleds, HFRGrid\n",
    "from parcels_sim import simulation, generate_sim_gif\n",
    "from plot_utils import draw_trajectories, draw_points_fieldset\n",
    "from thredds_utils import get_thredds_dataset, thredds_data, retrieve_dataset, thredds_data"
   ]
  },
  {
   "cell_type": "code",
   "execution_count": null,
   "metadata": {
    "scrolled": true
   },
   "outputs": [],
   "source": [
    "# 5-01 west coast (2009 February, too old for thredds)\n",
    "# 590-09 west coast (2018 October)\n",
    "# 704-02 west coast\n",
    "# 689-02 west coast\n",
    "# 612-08 east coast\n",
    "# 731-02 east coast\n",
    "buoy_id = \"704-02\"\n",
    "csv_path = utils.WAVEBUOY_DATA_DIR / f\"wavebuoy_{buoy_id}.csv\"\n",
    "target_resolution = 6\n",
    "start_offset = 95\n",
    "buoy_ds = buoycsv_to_particleds(csv_path)\n",
    "buoy_ds"
   ]
  },
  {
   "cell_type": "code",
   "execution_count": null,
   "metadata": {},
   "outputs": [],
   "source": [
    "# save csv into netcdf, plot the trajectory for visualization\n",
    "filename = os.path.basename(csv_path)\n",
    "nc_path = utils.WAVEBUOY_DATA_DIR / f\"{os.path.splitext(filename)[0]}.nc\"\n",
    "buoy_ds.to_netcdf(nc_path)\n",
    "draw_trajectories([buoy_ds], [buoy_id], padding=0.1)"
   ]
  },
  {
   "cell_type": "code",
   "execution_count": null,
   "metadata": {},
   "outputs": [],
   "source": [
    "# time interval between each recorded position in seconds\n",
    "buoy_timestamps = buoy_ds[\"time\"].values[0].astype(\"datetime64[s]\")\n",
    "np.diff(buoy_timestamps)"
   ]
  },
  {
   "cell_type": "code",
   "execution_count": null,
   "metadata": {},
   "outputs": [],
   "source": [
    "buoy_lat_rng = (buoy_ds[\"lat\"].values[0].min(), buoy_ds[\"lat\"].values[0].max())\n",
    "buoy_lon_rng = (buoy_ds[\"lon\"].values[0].min(), buoy_ds[\"lon\"].values[0].max())\n",
    "buoy_lat_rng, buoy_lon_rng"
   ]
  },
  {
   "cell_type": "code",
   "execution_count": null,
   "metadata": {},
   "outputs": [],
   "source": [
    "# get a single timestep from the thredds dataset and plot the buoy path on top of the field\n",
    "# a single timestep is used so there is way less data to retrieve\n",
    "# this is also to check whether the buoy path is actually in a region with recorded data\n",
    "single_step = get_thredds_dataset(\"buoy\", target_resolution, (np.datetime64(\"2020-01-01\"), np.datetime64(\"2020-01-01T01\")), buoy_lat_rng, buoy_lon_rng, inclusive=True)\n",
    "single_step_grid = HFRGrid(single_step)\n",
    "draw_points_fieldset(buoy_ds[\"lat\"].values[0], buoy_ds[\"lon\"].values[0], 0, single_step_grid, domain=single_step_grid.get_domain(), line=True)"
   ]
  },
  {
   "cell_type": "code",
   "execution_count": null,
   "metadata": {},
   "outputs": [],
   "source": [
    "start = buoy_timestamps[0]\n",
    "end = buoy_timestamps[-1]\n",
    "simulation_dataset = get_thredds_dataset(\"buoy\", target_resolution, (start, end), buoy_lat_rng, buoy_lon_rng, inclusive=True, padding=0.05)\n",
    "simulation_dataset"
   ]
  },
  {
   "cell_type": "code",
   "execution_count": null,
   "metadata": {},
   "outputs": [],
   "source": [
    "# to work with a much smaller time range, so loading data doesn't take forever\n",
    "grid = HFRGrid(simulation_dataset.sel(time=slice(buoy_timestamps[0], buoy_timestamps[10])), target_resolution)\n",
    "domain = grid.get_domain()\n",
    "domain"
   ]
  },
  {
   "cell_type": "code",
   "execution_count": null,
   "metadata": {},
   "outputs": [],
   "source": [
    "domain[\"W\"] = -117.85\n",
    "domain[\"E\"] = -117.65\n",
    "domain[\"S\"] = 32.35\n",
    "domain[\"N\"] = 32.9"
   ]
  },
  {
   "cell_type": "code",
   "execution_count": null,
   "metadata": {},
   "outputs": [],
   "source": [
    "draw_points_fieldset(buoy_ds[\"lat\"].values[0][start_offset:], buoy_ds[\"lon\"].values[0][start_offset:], 0, grid, domain=domain, line=True)"
   ]
  },
  {
   "cell_type": "code",
   "execution_count": null,
   "metadata": {
    "scrolled": true
   },
   "outputs": [],
   "source": [
    "# find a starting point of the buoy actually in the vector field\n",
    "start_pos = None\n",
    "start_time = None\n",
    "start_time_idx = None\n",
    "end_time = None\n",
    "end_time_idx = None\n",
    "print(buoy_ds.dims[\"obs\"])\n",
    "for i in range(start_offset, buoy_ds.dims[\"obs\"]):\n",
    "    time = buoy_ds[\"time\"].values[0, i]\n",
    "    lat = buoy_ds[\"lat\"].values[0, i]\n",
    "    lon = buoy_ds[\"lon\"].values[0, i]\n",
    "    # time is out of bounds, but this is fine since we are just\n",
    "    # checking for the existence of currents, not value\n",
    "    u, v = grid.get_closest_current(time, lat, lon)\n",
    "    if np.isnan(u) or np.isnan(v) or abs(u) + abs(v) == 0:\n",
    "        if start_pos is not None:\n",
    "            end_time_idx = i\n",
    "            end_time = time\n",
    "            break\n",
    "    elif start_pos is None:\n",
    "        start_time_idx = i\n",
    "        start_pos = [lat, lon]\n",
    "        start_time = time\n",
    "    if end_time_idx is None and i == buoy_ds.dims[\"obs\"] - 1:\n",
    "        end_time_idx = i\n",
    "        end_time = time\n",
    "start_time_idx, end_time_idx, start_time, end_time, start_pos"
   ]
  },
  {
   "cell_type": "code",
   "execution_count": null,
   "metadata": {},
   "outputs": [],
   "source": [
    "buoy_ds_selected = buoy_ds.sel(obs=slice(start_time_idx, end_time_idx))\n",
    "nc_path_selected = utils.WAVEBUOY_DATA_DIR / f\"{os.path.splitext(filename)[0]}_selected.nc\"\n",
    "buoy_ds_selected.to_netcdf(nc_path_selected)\n",
    "draw_points_fieldset(buoy_ds_selected[\"lat\"].values[0], buoy_ds_selected[\"lon\"].values[0], 0, grid, domain=domain, line=True)"
   ]
  },
  {
   "cell_type": "code",
   "execution_count": null,
   "metadata": {},
   "outputs": [],
   "source": [
    "parcels_cfg = {\n",
    "    \"time_range\": [start_time, end_time],\n",
    "    \"repeat_dt\": -1,\n",
    "    \"particles_per_dt\": -1,\n",
    "    \"max_variation\": 0.0,\n",
    "    \"spawn_points\": [\n",
    "        start_pos\n",
    "    ],\n",
    "    \"random_spawn\": True,\n",
    "    \"simulation_dt\": 300,\n",
    "    \"snapshot_interval\": 7200,\n",
    "    \"save_snapshots\": True,\n",
    "    \"shown_domain\": domain\n",
    "}"
   ]
  },
  {
   "cell_type": "code",
   "execution_count": null,
   "metadata": {},
   "outputs": [],
   "source": [
    "start_time_floor, end_time_ceil = utils.expand_time_rng((start_time, end_time), \"h\")\n",
    "grid = HFRGrid(simulation_dataset.sel(time=slice(start_time_floor, end_time_ceil)))"
   ]
  },
  {
   "cell_type": "code",
   "execution_count": null,
   "metadata": {},
   "outputs": [],
   "source": [
    "grid.xrds.to_netcdf(utils.CURRENT_NETCDF_DIR / f\"thredds_buoy_currents_{buoy_id}.nc\")"
   ]
  },
  {
   "cell_type": "code",
   "execution_count": null,
   "metadata": {
    "scrolled": true
   },
   "outputs": [],
   "source": [
    "pfile_path, snap_path = simulation(\"thredds_buoy\", grid, parcels_cfg)"
   ]
  },
  {
   "cell_type": "code",
   "execution_count": null,
   "metadata": {},
   "outputs": [],
   "source": [
    "generate_sim_gif(\n",
    "    snap_path,\n",
    "    utils.PICUTRE_DIR / \"thredds_buoy.gif\",\n",
    "    25\n",
    ")"
   ]
  },
  {
   "cell_type": "code",
   "execution_count": null,
   "metadata": {},
   "outputs": [],
   "source": [
    "plot_path = utils.create_path(utils.PICUTRE_DIR / \"buoy\")\n",
    "draw_trajectories([nc_path_selected, pfile_path], [buoy_id, \"Simulated path\"], legend=True, titlestr=f\"Comparison from {np.datetime64(start_time, 's')} to {np.datetime64(end_time, 's')}\\nResolution {target_resolution}\",savefile=plot_path / f\"buoy_comp_{buoy_id}.png\")"
   ]
  }
 ],
 "metadata": {
  "kernelspec": {
   "display_name": "py3_parcels",
   "language": "python",
   "name": "py3_parcels"
  },
  "language_info": {
   "codemirror_mode": {
    "name": "ipython",
    "version": 3
   },
   "file_extension": ".py",
   "mimetype": "text/x-python",
   "name": "python",
   "nbconvert_exporter": "python",
   "pygments_lexer": "ipython3",
   "version": "3.6.10"
  }
 },
 "nbformat": 4,
 "nbformat_minor": 4
}
