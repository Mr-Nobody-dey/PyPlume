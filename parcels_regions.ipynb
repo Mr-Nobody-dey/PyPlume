{
 "cells": [
  {
   "cell_type": "markdown",
   "metadata": {},
   "source": [
    "# parcels regions\n",
    "\n",
    "runs parcels on existing netcdf files"
   ]
  },
  {
   "cell_type": "code",
   "execution_count": 11,
   "metadata": {},
   "outputs": [],
   "source": [
    "%matplotlib inline"
   ]
  },
  {
   "cell_type": "code",
   "execution_count": 12,
   "metadata": {},
   "outputs": [
    {
     "data": {
      "text/plain": [
       "{'divide': 'ignore', 'over': 'warn', 'under': 'ignore', 'invalid': 'ignore'}"
      ]
     },
     "execution_count": 12,
     "metadata": {},
     "output_type": "execute_result"
    }
   ],
   "source": [
    "import json\n",
    "import math\n",
    "import os\n",
    "from pathlib import Path\n",
    "import xarray as xr\n",
    "import numpy as np\n",
    "import matplotlib.pyplot as plt\n",
    "from parcels import FieldSet, ParticleSet\n",
    "from parcels import AdvectionRK4\n",
    "from datetime import timedelta, datetime\n",
    "\n",
    "# ignore annoying deprecation warnings\n",
    "import warnings\n",
    "warnings.simplefilter(\"ignore\", UserWarning)\n",
    "import cartopy\n",
    "\n",
    "# ignore divide by nan error that happens constantly with parcels\n",
    "np.seterr(divide='ignore', invalid='ignore')"
   ]
  },
  {
   "cell_type": "code",
   "execution_count": 13,
   "metadata": {},
   "outputs": [],
   "source": [
    "DATA_6KM = 6\n",
    "DATA_2KM = 2\n",
    "DATA_1KM = 1\n",
    "\n",
    "filename_dict = {\n",
    "    DATA_6KM: \"west_coast_6km_hourly\",\n",
    "    DATA_2KM: \"west_coast_2km_hourly\",\n",
    "    DATA_1KM: \"west_coast_1km_hourly\"\n",
    "}\n",
    "\n",
    "def get_file_info(name, path, res, parcels_cfg):\n",
    "    \"\"\"\n",
    "    Args:\n",
    "        name (str)\n",
    "        path (str)\n",
    "        res (int)\n",
    "        parcels_cfg (dict)\n",
    "    \"\"\"\n",
    "    xrds = xr.open_dataset(path)\n",
    "    # spherical mesh\n",
    "    fs = FieldSet.from_xarray_dataset(\n",
    "            xrds.copy(deep=True),\n",
    "            dict(U=\"u\",V=\"v\"),\n",
    "            dict(lat=\"lat\",lon=\"lon\",time=\"time\")\n",
    "        )\n",
    "    xrds.close()\n",
    "    lat = xrds[\"lat\"].values\n",
    "    lon = xrds[\"lon\"].values\n",
    "    return dict(\n",
    "        name = name,\n",
    "        path = path,\n",
    "        res = res,\n",
    "        xrds = xrds,\n",
    "        fs = fs,\n",
    "        timerng = (xrds[\"time\"].min().values, xrds[\"time\"].max().values),\n",
    "        timerng_secs = fs.gridset.dimrange(\"time\"),\n",
    "        lat = lat,\n",
    "        lon = lon,\n",
    "        domain = {\n",
    "            \"S\": lat.min(),\n",
    "            \"N\": lat.max(),\n",
    "            \"W\": lon.min(),\n",
    "            \"E\": lon.max(),\n",
    "        },\n",
    "        cfg = parcels_cfg\n",
    "    )\n",
    "\n",
    "def load_config(path):\n",
    "    with open(path) as f:\n",
    "        config = json.load(f)\n",
    "    # TODO do some config verification here\n",
    "    return config"
   ]
  },
  {
   "cell_type": "code",
   "execution_count": 14,
   "metadata": {},
   "outputs": [],
   "source": [
    "configs = [\n",
    "    \"parcels_configs/tijuana_lin_cfg.json\"\n",
    "]\n",
    "\n",
    "loaded_configs = [load_config(path) for path in configs]\n",
    "files = [get_file_info(cfg[\"name\"], cfg[\"netcdf_path\"], cfg[\"resolution\"], cfg[\"parcels_config\"]) for cfg in loaded_configs]"
   ]
  },
  {
   "cell_type": "markdown",
   "metadata": {},
   "source": [
    "## Animated gif stuff and particle simulation\n",
    "\n",
    "runs on each file you give it"
   ]
  },
  {
   "cell_type": "code",
   "execution_count": 15,
   "metadata": {},
   "outputs": [],
   "source": [
    "# animation man very cool\n",
    "# reference tutorial_Agulhasparticles\n",
    "# needs ErrorCode for particle recovery\n",
    "from operator import attrgetter\n",
    "from parcels import ErrorCode, JITParticle, Variable\n",
    "\n",
    "max_v = 1.1 # for display purposes only, so the vector field colors don't change every iteration\n",
    "\n",
    "class TimedParticle(JITParticle):\n",
    "    lifetime = Variable(\"lifetime\", initial=0, dtype=np.float32)\n",
    "    spawntime = Variable(\"spawntime\", initial=attrgetter(\"time\"), dtype=np.float32)\n",
    "    \n",
    "def ParticleLifetime(particle, fieldset, time):\n",
    "    particle.lifetime += particle.dt\n",
    "\n",
    "def DeleteParticle(particle, fieldset, time):\n",
    "    particle.delete()\n",
    "    \n",
    "def exec_save_pset(data, i, runtime, dt, zpad = 3, save_snapshot = True, exec_pset = True):\n",
    "    \"\"\"\n",
    "    Saves a snapshot of a particle simulation and then executes.\n",
    "    \n",
    "    Args:\n",
    "        data (dict)\n",
    "        i (int)\n",
    "        runtime (float): seconds\n",
    "        dt (float): seconds\n",
    "    \"\"\"\n",
    "    if save_snapshot:\n",
    "        data[\"pset\"].show(savefile=str(data[\"snap_path\"])+\"/particles\"+str(i).zfill(zpad), field=\"vector\", vmax=max_v)\n",
    "    \n",
    "    if exec_pset:\n",
    "        # temporary - TODO make it only init once\n",
    "        k_plifetime = data[\"pset\"].Kernel(ParticleLifetime)\n",
    "\n",
    "        data[\"pset\"].execute(\n",
    "            AdvectionRK4 + k_plifetime,\n",
    "            runtime=timedelta(seconds=runtime),\n",
    "            dt=timedelta(seconds=dt),\n",
    "            recovery={ErrorCode.ErrorOutOfBounds: DeleteParticle},\n",
    "            output_file=data[\"pfile\"]\n",
    "        )"
   ]
  },
  {
   "cell_type": "markdown",
   "metadata": {},
   "source": [
    "### particle simulation setup and execution\n",
    "\n",
    "reads from each config and executes a simulation from each settings\n",
    "\n",
    "note about interpolation methods: only `linear` works if you want to use the FieldSet in a ParticleSet."
   ]
  },
  {
   "cell_type": "code",
   "execution_count": 16,
   "metadata": {
    "scrolled": true
   },
   "outputs": [
    {
     "name": "stdout",
     "output_type": "stream",
     "text": [
      "Particle trajectories for tijuana_lin will be saved to particledata/particle_tijuana_lin.nc\n",
      "Num snapshots to save for west_coast_1km_hourly_netcdfs/west_coast_1km_hourly_region_tijuana_river_lin.nc: 57\n",
      "Path to save snapshots to: snapshots_west_coast_1km_hourly/tijuana_lin\n"
     ]
    },
    {
     "name": "stderr",
     "output_type": "stream",
     "text": [
      "INFO: Compiled TimedParticleAdvectionRK4ParticleLifetime ==> /var/folders/mb/hd5ymr3137g2g0chv_x_tvb40000gq/T/parcels-503/a89655c927ade1e38b7d2898850113b8_0.so\n",
      "INFO: Compiled TimedParticleAdvectionRK4ParticleLifetime ==> /var/folders/mb/hd5ymr3137g2g0chv_x_tvb40000gq/T/parcels-503/69e174d334424e5ad58be31ccb91c20f_0.so\n",
      "INFO: Compiled TimedParticleAdvectionRK4ParticleLifetime ==> /var/folders/mb/hd5ymr3137g2g0chv_x_tvb40000gq/T/parcels-503/cccf7d0887d2df67e5926267d6a42cc8_0.so\n",
      "INFO: Compiled TimedParticleAdvectionRK4ParticleLifetime ==> /var/folders/mb/hd5ymr3137g2g0chv_x_tvb40000gq/T/parcels-503/079cb55a721d29dd58b3bf1ef7196d98_0.so\n",
      "INFO: Compiled TimedParticleAdvectionRK4ParticleLifetime ==> /var/folders/mb/hd5ymr3137g2g0chv_x_tvb40000gq/T/parcels-503/f77bfd9ac0cee446c485f8555bf60121_0.so\n",
      "INFO: Compiled TimedParticleAdvectionRK4ParticleLifetime ==> /var/folders/mb/hd5ymr3137g2g0chv_x_tvb40000gq/T/parcels-503/d4437e44454bd1307bc71090db6a1f08_0.so\n",
      "INFO: Compiled TimedParticleAdvectionRK4ParticleLifetime ==> /var/folders/mb/hd5ymr3137g2g0chv_x_tvb40000gq/T/parcels-503/f1e2606c77c4312e284c34b8076868fb_0.so\n",
      "INFO: Compiled TimedParticleAdvectionRK4ParticleLifetime ==> /var/folders/mb/hd5ymr3137g2g0chv_x_tvb40000gq/T/parcels-503/c7164c7031718ccfe69bf97111aad947_0.so\n",
      "INFO: Compiled TimedParticleAdvectionRK4ParticleLifetime ==> /var/folders/mb/hd5ymr3137g2g0chv_x_tvb40000gq/T/parcels-503/de72eb79bb367cae8558f36de37ec6b2_0.so\n",
      "INFO: Compiled TimedParticleAdvectionRK4ParticleLifetime ==> /var/folders/mb/hd5ymr3137g2g0chv_x_tvb40000gq/T/parcels-503/1ae553d816c5cc0f2a276fe67d772349_0.so\n",
      "INFO: Compiled TimedParticleAdvectionRK4ParticleLifetime ==> /var/folders/mb/hd5ymr3137g2g0chv_x_tvb40000gq/T/parcels-503/6d32cc04f0af45a9af368f390fdfc13b_0.so\n",
      "INFO: Compiled TimedParticleAdvectionRK4ParticleLifetime ==> /var/folders/mb/hd5ymr3137g2g0chv_x_tvb40000gq/T/parcels-503/b18056e2002aab8f5621b86815fcd14d_0.so\n",
      "INFO: Compiled TimedParticleAdvectionRK4ParticleLifetime ==> /var/folders/mb/hd5ymr3137g2g0chv_x_tvb40000gq/T/parcels-503/9dac563956485ba6d71b64374c214784_0.so\n",
      "INFO: Compiled TimedParticleAdvectionRK4ParticleLifetime ==> /var/folders/mb/hd5ymr3137g2g0chv_x_tvb40000gq/T/parcels-503/d2e6f28fd427a215d26aa1c4a61b640e_0.so\n",
      "INFO: Compiled TimedParticleAdvectionRK4ParticleLifetime ==> /var/folders/mb/hd5ymr3137g2g0chv_x_tvb40000gq/T/parcels-503/d3832e2e653e49fd0984998fc34f2b8f_0.so\n",
      "INFO: Compiled TimedParticleAdvectionRK4ParticleLifetime ==> /var/folders/mb/hd5ymr3137g2g0chv_x_tvb40000gq/T/parcels-503/f94cbd703f329694321c79cdb6d1c2f7_0.so\n",
      "INFO: Compiled TimedParticleAdvectionRK4ParticleLifetime ==> /var/folders/mb/hd5ymr3137g2g0chv_x_tvb40000gq/T/parcels-503/beb6b0ddf16e79a50f1f34b121b20375_0.so\n",
      "INFO: Compiled TimedParticleAdvectionRK4ParticleLifetime ==> /var/folders/mb/hd5ymr3137g2g0chv_x_tvb40000gq/T/parcels-503/3c0cb4f422a71971254f481ec7e7efc0_0.so\n",
      "INFO: Compiled TimedParticleAdvectionRK4ParticleLifetime ==> /var/folders/mb/hd5ymr3137g2g0chv_x_tvb40000gq/T/parcels-503/f418f9f0864286f719f5f953c1fef7db_0.so\n",
      "INFO: Compiled TimedParticleAdvectionRK4ParticleLifetime ==> /var/folders/mb/hd5ymr3137g2g0chv_x_tvb40000gq/T/parcels-503/b5bb14f8e6537d31ef33650803e0efac_0.so\n",
      "INFO: Compiled TimedParticleAdvectionRK4ParticleLifetime ==> /var/folders/mb/hd5ymr3137g2g0chv_x_tvb40000gq/T/parcels-503/561132b216b27835328200a284887f5a_0.so\n",
      "INFO: Compiled TimedParticleAdvectionRK4ParticleLifetime ==> /var/folders/mb/hd5ymr3137g2g0chv_x_tvb40000gq/T/parcels-503/bb92b31b246e1f113de54767f09ba8e1_0.so\n",
      "INFO: Compiled TimedParticleAdvectionRK4ParticleLifetime ==> /var/folders/mb/hd5ymr3137g2g0chv_x_tvb40000gq/T/parcels-503/9fa1bde181610ffd939e0d7af43b41c5_0.so\n",
      "INFO: Compiled TimedParticleAdvectionRK4ParticleLifetime ==> /var/folders/mb/hd5ymr3137g2g0chv_x_tvb40000gq/T/parcels-503/ff587422130119b02939c92919cdeacf_0.so\n",
      "INFO: Compiled TimedParticleAdvectionRK4ParticleLifetime ==> /var/folders/mb/hd5ymr3137g2g0chv_x_tvb40000gq/T/parcels-503/8dd15673b47751a50d8082a7402d0780_0.so\n",
      "INFO: Compiled TimedParticleAdvectionRK4ParticleLifetime ==> /var/folders/mb/hd5ymr3137g2g0chv_x_tvb40000gq/T/parcels-503/531fc511b418fdf3ab7170be448c7b3f_0.so\n",
      "INFO: Compiled TimedParticleAdvectionRK4ParticleLifetime ==> /var/folders/mb/hd5ymr3137g2g0chv_x_tvb40000gq/T/parcels-503/ccf4db426c9a1bed4af63e17a2aba956_0.so\n",
      "INFO: Compiled TimedParticleAdvectionRK4ParticleLifetime ==> /var/folders/mb/hd5ymr3137g2g0chv_x_tvb40000gq/T/parcels-503/abf822663b19e4ee52dcd171f8182bbf_0.so\n",
      "INFO: Compiled TimedParticleAdvectionRK4ParticleLifetime ==> /var/folders/mb/hd5ymr3137g2g0chv_x_tvb40000gq/T/parcels-503/c5ea56010a8e353c091325311486ce94_0.so\n",
      "INFO: Compiled TimedParticleAdvectionRK4ParticleLifetime ==> /var/folders/mb/hd5ymr3137g2g0chv_x_tvb40000gq/T/parcels-503/44ff2afc6b2245097a2e8fddb646d60c_0.so\n",
      "INFO: Compiled TimedParticleAdvectionRK4ParticleLifetime ==> /var/folders/mb/hd5ymr3137g2g0chv_x_tvb40000gq/T/parcels-503/f3dbe4e06b6f2dc864eb9d36984b9f2d_0.so\n",
      "INFO: Compiled TimedParticleAdvectionRK4ParticleLifetime ==> /var/folders/mb/hd5ymr3137g2g0chv_x_tvb40000gq/T/parcels-503/52c92ddf5c9645766bc3899fd0eb1c90_0.so\n",
      "INFO: Compiled TimedParticleAdvectionRK4ParticleLifetime ==> /var/folders/mb/hd5ymr3137g2g0chv_x_tvb40000gq/T/parcels-503/905b3f6af0e0300d5a8a3bb7f7094e84_0.so\n",
      "INFO: Compiled TimedParticleAdvectionRK4ParticleLifetime ==> /var/folders/mb/hd5ymr3137g2g0chv_x_tvb40000gq/T/parcels-503/011802644063ca471d1af9925d147249_0.so\n",
      "INFO: Compiled TimedParticleAdvectionRK4ParticleLifetime ==> /var/folders/mb/hd5ymr3137g2g0chv_x_tvb40000gq/T/parcels-503/b5f5a4898a192955bdabcc534b4a6c0f_0.so\n",
      "INFO: Compiled TimedParticleAdvectionRK4ParticleLifetime ==> /var/folders/mb/hd5ymr3137g2g0chv_x_tvb40000gq/T/parcels-503/0f4cbaa2e07878a74ad23e99c137188f_0.so\n",
      "INFO: Compiled TimedParticleAdvectionRK4ParticleLifetime ==> /var/folders/mb/hd5ymr3137g2g0chv_x_tvb40000gq/T/parcels-503/6209728b15b71176337d01e933ac08b3_0.so\n",
      "INFO: Compiled TimedParticleAdvectionRK4ParticleLifetime ==> /var/folders/mb/hd5ymr3137g2g0chv_x_tvb40000gq/T/parcels-503/068cc44a6c79d968b4bd96c146aa01dd_0.so\n",
      "INFO: Compiled TimedParticleAdvectionRK4ParticleLifetime ==> /var/folders/mb/hd5ymr3137g2g0chv_x_tvb40000gq/T/parcels-503/a6d17df0fd874469ee2a03d1e46be6e7_0.so\n",
      "INFO: Compiled TimedParticleAdvectionRK4ParticleLifetime ==> /var/folders/mb/hd5ymr3137g2g0chv_x_tvb40000gq/T/parcels-503/2ac5d8e64245ada0612619ada84b5e67_0.so\n",
      "INFO: Compiled TimedParticleAdvectionRK4ParticleLifetime ==> /var/folders/mb/hd5ymr3137g2g0chv_x_tvb40000gq/T/parcels-503/54dc5265cd6e237209fca81b31b36cc3_0.so\n",
      "INFO: Compiled TimedParticleAdvectionRK4ParticleLifetime ==> /var/folders/mb/hd5ymr3137g2g0chv_x_tvb40000gq/T/parcels-503/04e48813e22eaaf5a85967671a623f4e_0.so\n",
      "INFO: Compiled TimedParticleAdvectionRK4ParticleLifetime ==> /var/folders/mb/hd5ymr3137g2g0chv_x_tvb40000gq/T/parcels-503/1ea3aff4741b2137e53c70deb06fbd46_0.so\n",
      "INFO: Compiled TimedParticleAdvectionRK4ParticleLifetime ==> /var/folders/mb/hd5ymr3137g2g0chv_x_tvb40000gq/T/parcels-503/5ea187e48e551b4867a522ba1574e8e6_0.so\n",
      "INFO: Compiled TimedParticleAdvectionRK4ParticleLifetime ==> /var/folders/mb/hd5ymr3137g2g0chv_x_tvb40000gq/T/parcels-503/94398a896e5ab474f6f65a833598e274_0.so\n",
      "INFO: Compiled TimedParticleAdvectionRK4ParticleLifetime ==> /var/folders/mb/hd5ymr3137g2g0chv_x_tvb40000gq/T/parcels-503/34e1b2ace90c36e5f04612bfa5df9131_0.so\n",
      "INFO: Compiled TimedParticleAdvectionRK4ParticleLifetime ==> /var/folders/mb/hd5ymr3137g2g0chv_x_tvb40000gq/T/parcels-503/bf596434a55bbf5de14a99a7508ceda6_0.so\n",
      "INFO: Compiled TimedParticleAdvectionRK4ParticleLifetime ==> /var/folders/mb/hd5ymr3137g2g0chv_x_tvb40000gq/T/parcels-503/dd6e410fe1def5b7fd259eb899222b2f_0.so\n",
      "INFO: Compiled TimedParticleAdvectionRK4ParticleLifetime ==> /var/folders/mb/hd5ymr3137g2g0chv_x_tvb40000gq/T/parcels-503/7d84f464f7a8d97110322017d47078ae_0.so\n",
      "INFO: Compiled TimedParticleAdvectionRK4ParticleLifetime ==> /var/folders/mb/hd5ymr3137g2g0chv_x_tvb40000gq/T/parcels-503/b678b29968490e43afe0669faba971e1_0.so\n",
      "INFO: Compiled TimedParticleAdvectionRK4ParticleLifetime ==> /var/folders/mb/hd5ymr3137g2g0chv_x_tvb40000gq/T/parcels-503/9fb7f630275d4783a128f5c788d98fa8_0.so\n",
      "INFO: Compiled TimedParticleAdvectionRK4ParticleLifetime ==> /var/folders/mb/hd5ymr3137g2g0chv_x_tvb40000gq/T/parcels-503/e5bab363c7cee64d11c9bbf1a49a7092_0.so\n"
     ]
    },
    {
     "name": "stderr",
     "output_type": "stream",
     "text": [
      "INFO: Compiled TimedParticleAdvectionRK4ParticleLifetime ==> /var/folders/mb/hd5ymr3137g2g0chv_x_tvb40000gq/T/parcels-503/704240138cc59d4ce167c72b574f940a_0.so\n",
      "INFO: Compiled TimedParticleAdvectionRK4ParticleLifetime ==> /var/folders/mb/hd5ymr3137g2g0chv_x_tvb40000gq/T/parcels-503/e1805f2a23c0e152bed420194cc67307_0.so\n",
      "INFO: Compiled TimedParticleAdvectionRK4ParticleLifetime ==> /var/folders/mb/hd5ymr3137g2g0chv_x_tvb40000gq/T/parcels-503/cc6482aca0e439396819e80a801fb07b_0.so\n",
      "INFO: Compiled TimedParticleAdvectionRK4ParticleLifetime ==> /var/folders/mb/hd5ymr3137g2g0chv_x_tvb40000gq/T/parcels-503/7a729354e34eb5406266cdc6273564ce_0.so\n"
     ]
    },
    {
     "name": "stdout",
     "output_type": "stream",
     "text": [
      "all simulations done and snapshots saved (if simulation was saving snapshots)\n"
     ]
    }
   ],
   "source": [
    "part_path = Path(\"particledata\")\n",
    "part_path.mkdir(parents=True, exist_ok=True)\n",
    "\n",
    "for f in files:\n",
    "    cfg = f[\"cfg\"]\n",
    "    repeat_dt = timedelta(seconds=cfg[\"repeat_dt\"]) # interval at which particles are released\n",
    "    particles_per_dt = cfg[\"particles_per_dt\"] # number of particles to release at each interval\n",
    "    max_variation = cfg[\"max_variation\"] # the max degrees a particle can be away from a spawn point\n",
    "    spawn_points = np.array(cfg[\"spawn_points\"]) # particle spawns will be randomly chosen between these points\n",
    "    \n",
    "    repetitions = math.floor(f[\"timerng_secs\"][1] / repeat_dt.total_seconds())\n",
    "    total = repetitions * particles_per_dt\n",
    "    lat_arr = np.zeros(total)\n",
    "    lon_arr = np.zeros(total)\n",
    "    time_arr = np.zeros(total)\n",
    "    for i in range(repetitions):\n",
    "        time_arr[particles_per_dt * i:particles_per_dt * (i + 1)] = repeat_dt.total_seconds() * i\n",
    "\n",
    "    sp_lat = spawn_points.T[0][np.random.randint(0, len(spawn_points), total)]\n",
    "    sp_lon = spawn_points.T[1][np.random.randint(0, len(spawn_points), total)]\n",
    "    variances_lat = (np.random.random(total) * 2 - 1) * max_variation\n",
    "    variances_lon = (np.random.random(total) * 2 - 1) * max_variation\n",
    "\n",
    "    p_lats = sp_lat + variances_lat\n",
    "    p_lons = sp_lon + variances_lon\n",
    "\n",
    "    # set up ParticleSet and ParticleFile\n",
    "    f[\"pset\"] = ParticleSet(fieldset=f[\"fs\"], pclass=TimedParticle, lon=p_lons, lat=p_lats, time=time_arr)\n",
    "    save_path = f\"{part_path}/particle_{f['name']}.nc\"\n",
    "    f[\"pfile\"] = f[\"pset\"].ParticleFile(save_path)\n",
    "    print(f\"Particle trajectories for {f['name']} will be saved to {save_path}\")\n",
    "    \n",
    "    snapshot_interval = cfg[\"snapshot_interval\"] # seconds, determines how often to take a snapshot of the simulation\n",
    "    p_dt = cfg[\"simulation_dt\"] # seconds, determines the dt of the simulation itself (does not impact snapshot interval)\n",
    "    save_snap = cfg[\"save_snapshots\"] # whether to save snapshots of the simulation for gif generation later\n",
    "    \n",
    "    ################################################\n",
    "    # setting up times, intervals, and paths for simulation\n",
    "    snap_num = math.floor((f[\"timerng_secs\"][1] - f[\"timerng_secs\"][0]) / snapshot_interval)\n",
    "    last_int = f[\"timerng_secs\"][1] - snap_num * snapshot_interval\n",
    "    if last_int == 0:\n",
    "        print(f\"Num snapshots to save for {f['path']}: {snap_num + 1}\")\n",
    "    else:\n",
    "        print(f\"Num snapshots to save for {f['path']}: {snap_num + 2}\")\n",
    "    f[\"snap_path\"] = Path(f\"snapshots_{filename_dict[f['res']]}/{f['name']}\")\n",
    "    f[\"snap_path\"].mkdir(parents=True, exist_ok=True)\n",
    "    print(f\"Path to save snapshots to: {f['snap_path']}\")\n",
    "    # only clear directory if desired or actually saving images\n",
    "    if save_snap:\n",
    "        for p in f[\"snap_path\"].glob(\"*.png\"):\n",
    "            p.unlink()\n",
    "          \n",
    "    ################################################\n",
    "    # execution of simulation\n",
    "    for i in range(snap_num):\n",
    "        exec_save_pset(f, i, snapshot_interval, p_dt, save_snapshot=save_snap)\n",
    "\n",
    "    # save the second-to-last frame\n",
    "    exec_save_pset(f, snap_num, 0, 0, save_snapshot=save_snap, exec_pset=False)\n",
    "\n",
    "    # run the last interval (the remainder) if needed\n",
    "    if last_int != 0:\n",
    "        exec_save_pset(f, snap_num + 1, last_int, p_dt, save_snapshot=save_snap)\n",
    "        \n",
    "    f[\"pfile\"].export()\n",
    "    f[\"pfile\"].close()\n",
    "\n",
    "print(\"all simulations done and snapshots saved (if simulation was saving snapshots)\")"
   ]
  },
  {
   "cell_type": "code",
   "execution_count": 7,
   "metadata": {},
   "outputs": [
    {
     "data": {
      "image/png": "[encoded data removed]",
      "text/plain": [
       "<Figure size 432x288 with 2 Axes>"
      ]
     },
     "metadata": {
      "needs_background": "light"
     },
     "output_type": "display_data"
    },
    {
     "data": {
      "text/plain": [
       "[None]"
      ]
     },
     "execution_count": 7,
     "metadata": {},
     "output_type": "execute_result"
    }
   ],
   "source": [
    "[f[\"pset\"].show(field=\"vector\", vmax=max_v) for f in files]"
   ]
  },
  {
   "cell_type": "markdown",
   "metadata": {},
   "source": [
    "### gif generation\n",
    "\n",
    "don't have to run, requires [magick](https://imagemagick.org/index.php)\n",
    "\n",
    "the gifs will be saved `snapshots_west_coast_xkm_hourly/` where xkm is the resolution"
   ]
  },
  {
   "cell_type": "code",
   "execution_count": 8,
   "metadata": {},
   "outputs": [
    {
     "name": "stdout",
     "output_type": "stream",
     "text": [
      "('', '')\n"
     ]
    }
   ],
   "source": [
    "import subprocess\n",
    "\n",
    "gif_delay = 25 # ms\n",
    "\n",
    "if save_snap:\n",
    "    for f in files:\n",
    "        magick_sp = subprocess.Popen([\"magick\", \"-delay\", str(gif_delay), str(f[\"snap_path\"]) + \"/*.png\", f\"snapshots_{filename_dict[f['res']]}/partsim_{f['name']}.gif\"], \n",
    "                                       stdout=subprocess.PIPE,\n",
    "                                       stderr=subprocess.PIPE,\n",
    "                                       universal_newlines=True)\n",
    "        stdout, stderr = magick_sp.communicate()\n",
    "        print((stdout, stderr))"
   ]
  }
 ],
 "metadata": {
  "kernelspec": {
   "display_name": "py3_parcels",
   "language": "python",
   "name": "py3_parcels"
  },
  "language_info": {
   "codemirror_mode": {
    "name": "ipython",
    "version": 3
   },
   "file_extension": ".py",
   "mimetype": "text/x-python",
   "name": "python",
   "nbconvert_exporter": "python",
   "pygments_lexer": "ipython3",
   "version": "3.6.10"
  }
 },
 "nbformat": 4,
 "nbformat_minor": 4
}
