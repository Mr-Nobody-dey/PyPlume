{
 "cells": [
  {
   "cell_type": "markdown",
   "metadata": {},
   "source": [
    "# parcels regions\n",
    "\n",
    "runs parcels on existing netcdf files"
   ]
  },
  {
   "cell_type": "code",
   "execution_count": null,
   "metadata": {},
   "outputs": [],
   "source": [
    "%matplotlib inline\n",
    "%load_ext autoreload\n",
    "%autoreload 2"
   ]
  },
  {
   "cell_type": "code",
   "execution_count": null,
   "metadata": {},
   "outputs": [],
   "source": [
    "import numpy as np\n",
    "import os\n",
    "\n",
    "from parcels import Field, VectorField\n",
    "from parcels.tools.converters import GeographicPolar, Geographic\n",
    "import xarray as xr\n",
    "\n",
    "import src.utils as utils\n",
    "from src.thredds_utils import rename_dataset_vars\n",
    "from src.parcels_utils import HFRGrid, read_netcdf_info\n",
    "from src.parcels_sim import ParcelsSimulation\n",
    "from src.parcels_analysis import add_feature_set_to_result\n",
    "from src.plot_features import BuoyPathFeature\n",
    "from src.gapfilling import Gapfiller\n",
    "\n",
    "empty = (None, {}, \"\", [])"
   ]
  },
  {
   "cell_type": "markdown",
   "metadata": {},
   "source": [
    "## configuration\n",
    "\n",
    "change the contents of `configs` for the simulation configuration you want"
   ]
  },
  {
   "cell_type": "code",
   "execution_count": null,
   "metadata": {},
   "outputs": [],
   "source": [
    "configs = [\n",
    "    # \"plume_track.json\",\n",
    "    \"plume_track_alongshore.json\",\n",
    "    # \"plume_track_live.json\",\n",
    "    # \"mwb.json\",\n",
    "    # \"tijuana_now.json\",\n",
    "#     \"buoy_track_704_02.json\",\n",
    "#     \"hunington_all.json\",\n",
    "#     \"dummy_sim.json\",\n",
    "]\n",
    "\n",
    "loaded_configs = [utils.load_config(utils.PARCELS_CONFIGS_DIR / path) for path in configs]\n",
    "grids = []\n",
    "for i, cfg in enumerate(loaded_configs):\n",
    "    ocean_cfg = utils.get_path_cfg(cfg[\"netcdf_data\"][\"ocean\"])  # ocean is required, no check\n",
    "    ds = read_netcdf_info(ocean_cfg)\n",
    "    gapfiller = Gapfiller.load_from_config(*ocean_cfg.get(\"gapfill_steps\", []))\n",
    "    ds = gapfiller.execute(HFRGrid(ds))\n",
    "    bound_cond = cfg[\"parcels_config\"].get(\"boundary\", None)\n",
    "    fields = []\n",
    "    # load alongshore current data if it exists\n",
    "    if cfg[\"netcdf_data\"].get(\"alongshore\", None) not in empty:\n",
    "        coast_ds = read_netcdf_info(cfg[\"netcdf_data\"][\"alongshore\"])\n",
    "        fu = Field.from_xarray(\n",
    "            coast_ds[\"U\"], \"CU\", dict(lat=\"lat\", lon=\"lon\", time=\"time\"), interp_method=\"nearest\"\n",
    "        )\n",
    "        fu.units = GeographicPolar()\n",
    "        fv = Field.from_xarray(\n",
    "            coast_ds[\"V\"], \"CV\", dict(lat=\"lat\", lon=\"lon\", time=\"time\"), interp_method=\"nearest\"\n",
    "        )\n",
    "        fv.units = Geographic()\n",
    "        fuv = VectorField(\"CUV\", fu, fv)\n",
    "        fields = [fuv]\n",
    "    # set boundary condition of fields\n",
    "    if bound_cond is None:\n",
    "        print(\":)\")\n",
    "        grids.append(HFRGrid(ds, fields=fields))\n",
    "    elif bound_cond.lower() in (\"free\", \"freeslip\"):\n",
    "        grids.append(HFRGrid(\n",
    "            ds, fields=fields, fs_kwargs={\"interp_method\": {\"U\": \"freeslip\", \"V\": \"freeslip\"}}\n",
    "        ))\n",
    "    elif bound_cond.lower() in (\"partial\", \"partialslip\"):\n",
    "        grids.append(HFRGrid(\n",
    "            ds, fields=fields, fs_kwargs={\"interp_method\": {\"U\": \"partialslip\", \"V\": \"partialslip\"}}\n",
    "        ))\n",
    "    else:\n",
    "        raise ValueError(f\"Invalid boundary condition {bound_cond}\")\n",
    "    # load wind data if it exists\n",
    "    wind_data = cfg[\"netcdf_data\"].get(\"wind\", None)\n",
    "    if wind_data not in empty:\n",
    "        wind_ds = rename_dataset_vars(wind_data[\"path\"])\n",
    "        if wind_data[\"add_to_field_directly\"]:\n",
    "            grids[i].modify_with_wind(wind_ds, ratio=wind_data[\"ratio\"])\n",
    "        else:\n",
    "            raise NotImplementedError(\"Wind kernel not implemented. Set add_to_field_directly to true\")"
   ]
  },
  {
   "cell_type": "code",
   "execution_count": null,
   "metadata": {
    "scrolled": true
   },
   "outputs": [],
   "source": [
    "sims = []\n",
    "for i, cfg in enumerate(loaded_configs):\n",
    "    name = cfg.get(\"name\", os.path.splitext(os.path.basename(configs[i]))[0])\n",
    "    print(f\"Preparing simulation {name}\")\n",
    "    sim = ParcelsSimulation(name, grids[i], cfg[\"parcels_config\"])\n",
    "    sims.append(sim)"
   ]
  },
  {
   "cell_type": "markdown",
   "metadata": {},
   "source": [
    "## Animated gif stuff and particle simulation"
   ]
  },
  {
   "cell_type": "code",
   "execution_count": null,
   "metadata": {
    "scrolled": false
   },
   "outputs": [],
   "source": [
    "[sim.pset.show(field=\"vector\") for sim in sims]"
   ]
  },
  {
   "cell_type": "markdown",
   "metadata": {},
   "source": [
    "### simulation execution"
   ]
  },
  {
   "cell_type": "code",
   "execution_count": null,
   "metadata": {
    "scrolled": true
   },
   "outputs": [],
   "source": [
    "for sim in sims:\n",
    "    sim.execute()"
   ]
  },
  {
   "cell_type": "markdown",
   "metadata": {},
   "source": [
    "### plot and gif generation\n",
    "\n",
    "gif generation requires [magick](https://imagemagick.org/index.php)\n",
    "\n",
    "if it doesn't work just comment out the gif generation line\n",
    "\n",
    "the gifs will be saved `snapshots/`"
   ]
  },
  {
   "cell_type": "code",
   "execution_count": null,
   "metadata": {
    "scrolled": true,
    "tags": []
   },
   "outputs": [],
   "source": [
    "def handle_postprocessing(result, postprocess_cfg):\n",
    "    if postprocess_cfg.get(\"coastline\", None) not in empty:\n",
    "        lats, lons = utils.load_geo_points(**utils.get_path_cfg(postprocess_cfg[\"coastline\"]))\n",
    "        result.add_coastline(lats, lons)\n",
    "        result.process_coastline_collisions()\n",
    "        print(\"processed collisions\")\n",
    "    if postprocess_cfg.get(\"buoy\", None) not in empty:\n",
    "        result.add_plot_feature(\n",
    "            BuoyPathFeature.from_csv(\n",
    "                postprocess_cfg[\"buoy\"],\n",
    "                backstep_delta=np.timedelta64(1, \"h\"),\n",
    "                backstep_count=12\n",
    "            ), \"buoy\"\n",
    "        )\n",
    "        result.write_feature_dists([\"buoy\"])\n",
    "        print(\"processed buoy distances\")\n",
    "    result.write_data(override=True)\n",
    "\n",
    "for i, sim in enumerate(sims):\n",
    "    cfg = loaded_configs[i]\n",
    "    postprocess_cfg = cfg.get(\"postprocess_config\", None)\n",
    "    if postprocess_cfg not in empty:\n",
    "        handle_postprocessing(sim.parcels_result, postprocess_cfg)\n",
    "    sim.parcels_result.write_data(override=True)\n",
    "    if cfg[\"save_snapshots\"]:\n",
    "        plotting_cfg = cfg[\"plotting_config\"]\n",
    "        if plotting_cfg.get(\"plot_feature_set\", None) not in empty:\n",
    "            add_feature_set_to_result(sim.parcels_result, plotting_cfg[\"plot_feature_set\"])\n",
    "        sim.parcels_result.generate_all_plots(\n",
    "            os.path.join(plotting_cfg[\"save_dir_snapshots\"], sim.name),\n",
    "            domain=plotting_cfg.get(\"shown_domain\", None),\n",
    "            land=plotting_cfg.get(\"draw_coasts\", False),\n",
    "            figsize=(13, 8)\n",
    "        )\n",
    "        try:\n",
    "            print(sim.parcels_result.generate_gif(os.path.join(plotting_cfg[\"save_dir_snapshots\"], f\"{sim.name}.gif\")))\n",
    "        except FileNotFoundError:\n",
    "            print(\"magick is not installed, gif will not be generated\")"
   ]
  }
 ],
 "metadata": {
  "interpreter": {
   "hash": "0eba6c4b74a2f8ee4f11000f0a8df2ef42b87fd4ae75b12d527f1b8c08aad6c6"
  },
  "kernelspec": {
   "display_name": "py3-parcels",
   "language": "python",
   "name": "python3"
  },
  "language_info": {
   "codemirror_mode": {
    "name": "ipython",
    "version": 3
   },
   "file_extension": ".py",
   "mimetype": "text/x-python",
   "name": "python",
   "nbconvert_exporter": "python",
   "pygments_lexer": "ipython3",
   "version": "3.7.10"
  }
 },
 "nbformat": 4,
 "nbformat_minor": 4
}
