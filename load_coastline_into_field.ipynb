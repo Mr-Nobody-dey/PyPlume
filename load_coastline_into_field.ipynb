{
 "cells": [
  {
   "cell_type": "code",
   "execution_count": null,
   "id": "83565b02",
   "metadata": {
    "ExecuteTime": {
     "end_time": "2021-10-21T23:28:40.056687Z",
     "start_time": "2021-10-21T23:28:37.378921Z"
    }
   },
   "outputs": [],
   "source": [
    "import math\n",
    "import numpy as np\n",
    "import xarray as xr\n",
    "import matplotlib.pyplot as plt\n",
    "import scipy.io\n",
    "import scipy.spatial\n",
    "from shapely.geometry import LineString, Point, box\n",
    "from shapely.ops import nearest_points\n",
    "\n",
    "import src.utils as utils\n",
    "from src.parcels_utils import xr_dataset_to_fieldset, HFRGrid"
   ]
  },
  {
   "cell_type": "code",
   "execution_count": null,
   "id": "68127a86",
   "metadata": {
    "ExecuteTime": {
     "end_time": "2021-10-21T23:28:40.062317Z",
     "start_time": "2021-10-21T23:28:40.059182Z"
    }
   },
   "outputs": [],
   "source": [
    "velocity_field_nc = utils.CURRENT_NETCDF_DIR / \"hunington_latest_ThreddsCode.USWC_6KM_HOURLY.nc\"\n",
    "coastline_mat = utils.MATLAB_DIR / \"socal_boundary.mat\"\n",
    "lat_diff = None\n",
    "lon_diff = None"
   ]
  },
  {
   "cell_type": "code",
   "execution_count": null,
   "id": "6c34b86c",
   "metadata": {
    "ExecuteTime": {
     "end_time": "2021-10-21T23:28:40.102970Z",
     "start_time": "2021-10-21T23:28:40.064823Z"
    }
   },
   "outputs": [],
   "source": [
    "vel_ds = xr.open_dataset(velocity_field_nc)\n",
    "lats, lons = utils.load_pts_mat(coastline_mat, \"yb\", \"xb\")\n",
    "coastline = LineString(np.array([lats, lons]).T)"
   ]
  },
  {
   "cell_type": "code",
   "execution_count": null,
   "id": "1ac01107",
   "metadata": {
    "ExecuteTime": {
     "end_time": "2021-10-21T23:28:40.109624Z",
     "start_time": "2021-10-21T23:28:40.105871Z"
    }
   },
   "outputs": [],
   "source": [
    "if lat_diff is None:\n",
    "    lat_diff = abs(np.diff(lats).min()) / 2\n",
    "if lon_diff is None:\n",
    "    lon_diff = abs(np.diff(lons).min()) / 2"
   ]
  },
  {
   "cell_type": "code",
   "execution_count": null,
   "id": "a8f15389",
   "metadata": {
    "ExecuteTime": {
     "end_time": "2021-10-21T23:28:40.115554Z",
     "start_time": "2021-10-21T23:28:40.111507Z"
    }
   },
   "outputs": [],
   "source": [
    "lat_start = lats.min()\n",
    "lat_end = lats.max()\n",
    "lon_start = lons.min()\n",
    "lon_end = lons.max()"
   ]
  },
  {
   "cell_type": "code",
   "execution_count": null,
   "id": "a7689d0a",
   "metadata": {
    "ExecuteTime": {
     "end_time": "2021-10-21T23:28:40.120116Z",
     "start_time": "2021-10-21T23:28:40.117420Z"
    }
   },
   "outputs": [],
   "source": [
    "lat_steps = math.ceil((lat_end - lat_start) / lat_diff) + 1\n",
    "lon_steps = math.ceil((lon_end - lon_start) / lon_diff) + 1"
   ]
  },
  {
   "cell_type": "code",
   "execution_count": null,
   "id": "3e8d7ad9",
   "metadata": {
    "ExecuteTime": {
     "end_time": "2021-10-21T23:28:40.124433Z",
     "start_time": "2021-10-21T23:28:40.121455Z"
    }
   },
   "outputs": [],
   "source": [
    "lats_grid = lat_start + np.arange(lat_steps) * lat_diff\n",
    "lons_grid = lon_start + np.arange(lon_steps) * lon_diff"
   ]
  },
  {
   "cell_type": "code",
   "execution_count": null,
   "id": "7959f817",
   "metadata": {
    "ExecuteTime": {
     "end_time": "2021-10-21T23:28:40.151452Z",
     "start_time": "2021-10-21T23:28:40.126247Z"
    }
   },
   "outputs": [],
   "source": [
    "grid = np.empty((len(lats_grid), len(lons_grid)), dtype=object)\n",
    "info = np.empty((len(lats_grid), len(lons_grid)), dtype=object)"
   ]
  },
  {
   "cell_type": "code",
   "execution_count": null,
   "id": "c7be7e83",
   "metadata": {
    "ExecuteTime": {
     "end_time": "2021-10-21T23:29:01.677510Z",
     "start_time": "2021-10-21T23:28:40.153117Z"
    }
   },
   "outputs": [],
   "source": [
    "# I tried to do something like ray tracing, realized I couldn't be bothered to think about it\n",
    "# here, have this brute force approach instead\n",
    "# lol\n",
    "for i in range(len(lats_grid)):\n",
    "    for j in range(len(lons_grid)):\n",
    "        latmin = lats_grid[i] - lat_diff / 2\n",
    "        latmax = lats_grid[i] + lat_diff / 2\n",
    "        lonmin = lons_grid[j] - lon_diff / 2\n",
    "        lonmax = lons_grid[j] + lon_diff / 2\n",
    "        grid[i, j] = box(latmin, lonmin, latmax, lonmax)"
   ]
  },
  {
   "cell_type": "code",
   "execution_count": null,
   "id": "faf8ced7",
   "metadata": {
    "ExecuteTime": {
     "end_time": "2021-10-21T23:29:01.773517Z",
     "start_time": "2021-10-21T23:29:01.681660Z"
    }
   },
   "outputs": [],
   "source": [
    "for i in range(len(lats) - 1):\n",
    "    segment = LineString([[lats[i], lons[i]], [lats[i + 1], lons[i + 1]]])\n",
    "    vec = (lons[i + 1] - lons[i], lats[i + 1] - lats[i])\n",
    "    start_j = int((lats[i] - lats_grid[0]) // lat_diff)\n",
    "    end_j = int((lats[i + 1] - lats_grid[0]) // lat_diff)\n",
    "    start_k = int((lons[i] - lons_grid[0]) // lon_diff)\n",
    "    end_k = int((lons[i + 1] - lons_grid[0]) // lon_diff)\n",
    "    for j in range(min(start_j, end_j), max(start_j, end_j) + 1):\n",
    "        for k in range(min(start_k, end_k), max(start_k, end_k) + 1):\n",
    "            if info[j, k] is None and segment.intersects(grid[j, k]):\n",
    "                info[j, k] = vec"
   ]
  },
  {
   "cell_type": "code",
   "execution_count": null,
   "id": "23f527a2",
   "metadata": {
    "ExecuteTime": {
     "end_time": "2021-10-21T23:29:02.007655Z",
     "start_time": "2021-10-21T23:29:01.775466Z"
    }
   },
   "outputs": [],
   "source": [
    "import matplotlib.pyplot as plt\n",
    "plt.scatter(np.where(info != None)[1], np.where(info != None)[0], s=0.1)"
   ]
  },
  {
   "cell_type": "code",
   "execution_count": null,
   "id": "534db893",
   "metadata": {
    "ExecuteTime": {
     "end_time": "2021-10-21T23:29:02.146119Z",
     "start_time": "2021-10-21T23:29:02.009329Z"
    }
   },
   "outputs": [],
   "source": [
    "plt.scatter(lons, lats, s=0.1)"
   ]
  },
  {
   "cell_type": "code",
   "execution_count": null,
   "id": "24a0cc6f",
   "metadata": {
    "ExecuteTime": {
     "end_time": "2021-10-21T23:29:21.190325Z",
     "start_time": "2021-10-21T23:29:16.390375Z"
    }
   },
   "outputs": [],
   "source": [
    "coast_u = np.tile((np.zeros(grid.shape)), (len(vel_ds[\"time\"]), 1, 1))\n",
    "coast_v = np.tile((np.zeros(grid.shape)), (len(vel_ds[\"time\"]), 1, 1))\n",
    "mgrid = np.meshgrid(vel_ds[\"lat\"], vel_ds[\"lon\"], indexing=\"ij\")"
   ]
  },
  {
   "cell_type": "code",
   "execution_count": null,
   "id": "7880a810",
   "metadata": {
    "ExecuteTime": {
     "end_time": "2021-10-21T23:34:16.061903Z",
     "start_time": "2021-10-21T23:32:14.330005Z"
    },
    "scrolled": true
   },
   "outputs": [],
   "source": [
    "# this is gonna take a while to run\n",
    "for i in range(len(vel_ds[\"time\"])):\n",
    "    nonzero = np.where(~np.isnan(vel_ds[\"u\"])[i])\n",
    "    positions = np.array([mgrid[0][nonzero], mgrid[1][nonzero]]).T\n",
    "    kdtree = scipy.spatial.KDTree(positions)\n",
    "    u = vel_ds[\"u\"][i].values\n",
    "    v = vel_ds[\"v\"][i].values\n",
    "    for j in range(grid.shape[0]):\n",
    "        for k in range(grid.shape[1]):\n",
    "            if info[j, k] is not None:\n",
    "                closest_idx = kdtree.query([lats_grid[j], lons_grid[k]])[1]\n",
    "                closest_u = u[nonzero[0][closest_idx], nonzero[1][closest_idx]]\n",
    "                closest_v = v[nonzero[0][closest_idx], nonzero[1][closest_idx]]\n",
    "                vec = info[j, k]  # this order should be in u, v (it was diff lon, diff lat)\n",
    "                # project u, v pair onto coastline vector\n",
    "                scalar = (closest_u * vec[0] + closest_v * vec[1]) / (vec[0] ** 2 + vec[1] ** 2)\n",
    "                coast_u[i, j, k] = scalar * vec[0]\n",
    "                coast_v[i, j, k] = scalar * vec[1]"
   ]
  },
  {
   "cell_type": "code",
   "execution_count": null,
   "id": "8f3659ac",
   "metadata": {
    "ExecuteTime": {
     "end_time": "2021-10-21T23:37:57.965480Z",
     "start_time": "2021-10-21T23:37:57.961177Z"
    }
   },
   "outputs": [],
   "source": [
    "ds = xr.Dataset(\n",
    "    data_vars={\n",
    "        \"u\": ([\"time\", \"lat\", \"lon\"], coast_u),\n",
    "        \"v\": ([\"time\", \"lat\", \"lon\"], coast_v)\n",
    "    },\n",
    "    coords={\n",
    "        \"time\": vel_ds[\"time\"],\n",
    "        \"lat\": lats_grid,\n",
    "        \"lon\": lons_grid\n",
    "    }\n",
    ")"
   ]
  },
  {
   "cell_type": "code",
   "execution_count": null,
   "id": "3b63685e",
   "metadata": {
    "ExecuteTime": {
     "end_time": "2021-10-21T23:41:44.253831Z",
     "start_time": "2021-10-21T23:41:25.304566Z"
    }
   },
   "outputs": [],
   "source": [
    "from src.parcels_utils import rename_dataset_vars, xr_dataset_to_fieldset\n",
    "fs = xr_dataset_to_fieldset(rename_dataset_vars(ds))"
   ]
  }
 ],
 "metadata": {
  "kernelspec": {
   "display_name": "py3-parcels",
   "language": "python",
   "name": "py3-parcels"
  },
  "language_info": {
   "codemirror_mode": {
    "name": "ipython",
    "version": 3
   },
   "file_extension": ".py",
   "mimetype": "text/x-python",
   "name": "python",
   "nbconvert_exporter": "python",
   "pygments_lexer": "ipython3",
   "version": "3.7.10"
  }
 },
 "nbformat": 4,
 "nbformat_minor": 5
}
