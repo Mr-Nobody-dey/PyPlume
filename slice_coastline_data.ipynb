{
 "cells": [
  {
   "cell_type": "markdown",
   "id": "3607f92e",
   "metadata": {},
   "source": [
    "# code to slice coastline data\n",
    "\n",
    "if the coastline is very, very big and mostly unneccessary, this is what I did to slice portions of relevant coastline"
   ]
  },
  {
   "cell_type": "code",
   "execution_count": null,
   "id": "fc8f35e6",
   "metadata": {},
   "outputs": [],
   "source": [
    "import matplotlib.pyplot as plt\n",
    "import numpy as np\n",
    "import scipy.io\n",
    "import xarray as xr\n",
    "\n",
    "import pyplume.plotting as plotting\n",
    "import pyplume.utils as utils\n",
    "from pyplume.constants import *"
   ]
  },
  {
   "cell_type": "code",
   "execution_count": null,
   "id": "396a21ba",
   "metadata": {},
   "outputs": [],
   "source": [
    "points = scipy.io.loadmat(\"matlab/coastOR2Mex.mat\")[\"OR2Mex\"]\n",
    "points"
   ]
  },
  {
   "cell_type": "code",
   "execution_count": null,
   "id": "635e7e9f",
   "metadata": {},
   "outputs": [],
   "source": [
    "lons = points.T[0]\n",
    "lats = points.T[1]"
   ]
  },
  {
   "cell_type": "code",
   "execution_count": null,
   "id": "0f365b18",
   "metadata": {},
   "outputs": [],
   "source": [
    "np.where(np.isnan(lons))"
   ]
  },
  {
   "cell_type": "code",
   "execution_count": null,
   "id": "47bf25ad",
   "metadata": {},
   "outputs": [],
   "source": [
    "lon_borders = np.split(lons, np.where(np.isnan(lons))[0])\n",
    "lat_borders = np.split(lats, np.where(np.isnan(lats))[0])"
   ]
  },
  {
   "cell_type": "code",
   "execution_count": null,
   "id": "dd62f259",
   "metadata": {},
   "outputs": [],
   "source": [
    "plt.plot(lon_borders[1], lat_borders[1])"
   ]
  },
  {
   "cell_type": "code",
   "execution_count": null,
   "id": "cfec4f41",
   "metadata": {},
   "outputs": [],
   "source": [
    "fig, ax = plotting.get_carree_axis(TIJUANA_MOUTH_DOMAIN, land=False)\n",
    "plotting.get_carree_gl(ax)\n",
    "idxs = []\n",
    "for i in range(len(lon_borders)):\n",
    "    lons = lon_borders[i][1:]\n",
    "    lats = lat_borders[i][1:]\n",
    "    if ((lats < 32.77) & (lats > 32.5)).any():\n",
    "        idxs.append(i)\n",
    "        ax.plot(lons, lats)"
   ]
  },
  {
   "cell_type": "code",
   "execution_count": null,
   "id": "0d42a887",
   "metadata": {},
   "outputs": [],
   "source": [
    "\", \".join([str(a) for a in idxs])"
   ]
  },
  {
   "cell_type": "code",
   "execution_count": null,
   "id": "004687b2",
   "metadata": {},
   "outputs": [],
   "source": [
    "tijuana_idxs = np.array([3692, 3693, 3694, 3695, 3696, 3697, 3698, 3699, 3700, 3701, 3702, 3703, 3704, 3705, 3706, 3707, 3708, 3709, 3710, 3711, 3712, 3713, 3714, 3715, 3716, 3717, 3718, 3719, 3720, 3721, 3722, 3723, 3724, 3725, 3726, 3727, 3728, 3729, 4767])"
   ]
  },
  {
   "cell_type": "code",
   "execution_count": null,
   "id": "240f95ba",
   "metadata": {},
   "outputs": [],
   "source": [
    "fig, ax = plotting.get_carree_axis(TIJUANA_RIVER_DOMAIN, land=False)\n",
    "plotting.get_carree_gl(ax)\n",
    "ax.plot(lons, lats)"
   ]
  },
  {
   "cell_type": "code",
   "execution_count": null,
   "id": "d5c78c80",
   "metadata": {},
   "outputs": [],
   "source": [
    "TIJUANA_MOUTH_DOMAIN"
   ]
  },
  {
   "cell_type": "code",
   "execution_count": null,
   "id": "8967b251",
   "metadata": {},
   "outputs": [],
   "source": [
    "fig, ax = plotting.get_carree_axis(TIJUANA_MOUTH_DOMAIN, land=True)\n",
    "plotting.get_carree_gl(ax)\n",
    "ax.scatter(lons[-100:], lats[-100:])\n",
    "ax.scatter(TIJUANA_MOUTH_POSITION[1], TIJUANA_MOUTH_POSITION[0])"
   ]
  }
 ],
 "metadata": {
  "interpreter": {
   "hash": "f2b639208b218da688d617c97dbb97f29e52ab8204d2c4d4c192e2d843ea0177"
  },
  "kernelspec": {
   "display_name": "py3-parcels",
   "language": "python",
   "name": "py3-parcels"
  },
  "language_info": {
   "codemirror_mode": {
    "name": "ipython",
    "version": 3
   },
   "file_extension": ".py",
   "mimetype": "text/x-python",
   "name": "python",
   "nbconvert_exporter": "python",
   "pygments_lexer": "ipython3",
   "version": "3.7.10"
  }
 },
 "nbformat": 4,
 "nbformat_minor": 5
}
