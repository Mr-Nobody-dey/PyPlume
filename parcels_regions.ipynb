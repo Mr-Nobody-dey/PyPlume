{
 "cells": [
  {
   "cell_type": "markdown",
   "metadata": {},
   "source": [
    "# parcels regions\n",
    "\n",
    "runs parcels on existing netcdf files"
   ]
  },
  {
   "cell_type": "code",
   "execution_count": null,
   "metadata": {},
   "outputs": [],
   "source": [
    "%matplotlib inline\n",
    "%load_ext autoreload\n",
    "%autoreload 2"
   ]
  },
  {
   "cell_type": "code",
   "execution_count": null,
   "metadata": {},
   "outputs": [],
   "source": [
    "from pyplume.constants import CONFIGS_DIR\n",
    "import pyplume.utils as utils\n",
    "from pyplume.config_parser import prep_sim_from_cfg, process_results"
   ]
  },
  {
   "cell_type": "markdown",
   "metadata": {},
   "source": [
    "## configuration\n",
    "\n",
    "change the contents of `configs` for the simulation configuration you want"
   ]
  },
  {
   "cell_type": "code",
   "execution_count": null,
   "metadata": {},
   "outputs": [],
   "source": [
    "configs = [\n",
    "    # \"plume_track.json\",\n",
    "    # \"plume_track_alongshore.json\",\n",
    "    \"plume_track_live.json\",\n",
    "    # \"mwb.json\",\n",
    "    # \"tijuana_now.json\",\n",
    "#     \"buoy_track_704_02.json\",\n",
    "    # \"hunington_all.json\",\n",
    "#     \"dummy_sim.json\",\n",
    "]"
   ]
  },
  {
   "cell_type": "code",
   "execution_count": null,
   "metadata": {
    "scrolled": true
   },
   "outputs": [],
   "source": [
    "loaded_configs = [utils.load_config(CONFIGS_DIR / path) for path in configs]\n",
    "sims = []\n",
    "for cfg in loaded_configs:\n",
    "    sims.append(prep_sim_from_cfg(cfg))"
   ]
  },
  {
   "cell_type": "markdown",
   "metadata": {},
   "source": [
    "## Animated gif stuff and particle simulation"
   ]
  },
  {
   "cell_type": "code",
   "execution_count": null,
   "metadata": {
    "scrolled": false
   },
   "outputs": [],
   "source": [
    "[sim.pset.show(field=\"vector\") for sim in sims]"
   ]
  },
  {
   "cell_type": "markdown",
   "metadata": {},
   "source": [
    "### simulation execution"
   ]
  },
  {
   "cell_type": "code",
   "execution_count": null,
   "metadata": {
    "scrolled": true
   },
   "outputs": [],
   "source": [
    "for sim in sims:\n",
    "    sim.execute()"
   ]
  },
  {
   "cell_type": "markdown",
   "metadata": {},
   "source": [
    "### plot and gif generation\n",
    "\n",
    "gif generation requires [magick](https://imagemagick.org/index.php)\n",
    "\n",
    "if it doesn't work just comment out the gif generation line"
   ]
  },
  {
   "cell_type": "code",
   "execution_count": null,
   "metadata": {
    "scrolled": true,
    "tags": []
   },
   "outputs": [],
   "source": [
    "for cfg, sim in zip(loaded_configs, sims):\n",
    "    process_results(sim, cfg)"
   ]
  }
 ],
 "metadata": {
  "kernelspec": {
   "display_name": "Python 3.7.10 ('py3-parcels')",
   "language": "python",
   "name": "python3"
  },
  "language_info": {
   "codemirror_mode": {
    "name": "ipython",
    "version": 3
   },
   "file_extension": ".py",
   "mimetype": "text/x-python",
   "name": "python",
   "nbconvert_exporter": "python",
   "pygments_lexer": "ipython3",
   "version": "3.7.10"
  },
  "vscode": {
   "interpreter": {
    "hash": "92c0155ff973c51285fb1dc8e256afac5e3dbdefb05174b825f6699ebdf3a9c7"
   }
  }
 },
 "nbformat": 4,
 "nbformat_minor": 4
}
