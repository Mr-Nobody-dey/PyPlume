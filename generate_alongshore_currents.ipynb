{
 "cells": [
  {
   "cell_type": "markdown",
   "id": "6609af66",
   "metadata": {},
   "source": [
    "# generate_alongshore_currents\n",
    "\n",
    "Given a coastline and the vector field of interest, generate the alongshore currents along the given coastline"
   ]
  },
  {
   "cell_type": "code",
   "execution_count": null,
   "id": "681d0967",
   "metadata": {},
   "outputs": [],
   "source": [
    "%matplotlib inline\n",
    "%load_ext autoreload\n",
    "%autoreload 2"
   ]
  },
  {
   "cell_type": "code",
   "execution_count": null,
   "id": "83565b02",
   "metadata": {},
   "outputs": [],
   "source": [
    "import math\n",
    "import numpy as np\n",
    "import xarray as xr\n",
    "import matplotlib.pyplot as plt\n",
    "import scipy.io\n",
    "import scipy.spatial\n",
    "from shapely.geometry import LineString, Point, box\n",
    "from shapely.ops import nearest_points\n",
    "\n",
    "from pyplume.constants import DATA_DIR, FIELD_NETCDF_DIR\n",
    "import pyplume.utils as utils\n",
    "from pyplume.dataloaders import dataset_to_fieldset, SurfaceGrid\n",
    "from pyplume.thredds_data import rename_dataset_vars"
   ]
  },
  {
   "cell_type": "code",
   "execution_count": null,
   "id": "68127a86",
   "metadata": {},
   "outputs": [],
   "source": [
    "velocity_field_nc = FIELD_NETCDF_DIR / \"oi_fields/Tot_SDLJ_202209.nc\"\n",
    "coastline_mat = DATA_DIR / \"socal_boundary.mat\"\n",
    "output_file = FIELD_NETCDF_DIR / \"oi_fields/Tot_SDLJ_202209_alongshore.nc\"\n",
    "# 1 km resolution values\n",
    "lat_diff = 0.00898933\n",
    "lon_diff = 0.01042175"
   ]
  },
  {
   "cell_type": "code",
   "execution_count": null,
   "id": "6c34b86c",
   "metadata": {},
   "outputs": [],
   "source": [
    "vel_ds = rename_dataset_vars(xr.open_dataset(velocity_field_nc))\n",
    "coast_lats, coast_lons = utils.load_pts_mat(coastline_mat)\n",
    "coast_segments = np.empty(len(coast_lats) - 1, dtype=object)\n",
    "for i in range(coast_segments.shape[0]):\n",
    "    coast_segments[i] = LineString([[coast_lats[i], coast_lons[i]], [coast_lats[i + 1], coast_lons[i + 1]]])\n",
    "coastline = LineString(np.array([coast_lats, coast_lons]).T)"
   ]
  },
  {
   "cell_type": "code",
   "execution_count": null,
   "id": "1ac01107",
   "metadata": {},
   "outputs": [],
   "source": [
    "if lat_diff is None:\n",
    "    lat_diff = abs(np.diff(coast_lats).min())\n",
    "if lon_diff is None:\n",
    "    lon_diff = abs(np.diff(coast_lons).min())"
   ]
  },
  {
   "cell_type": "code",
   "execution_count": null,
   "id": "a8f15389",
   "metadata": {},
   "outputs": [],
   "source": [
    "lat_start = vel_ds[\"lat\"].values.min()\n",
    "lat_end = vel_ds[\"lat\"].values.max()\n",
    "lon_start = vel_ds[\"lon\"].values.min()\n",
    "lon_end = vel_ds[\"lon\"].values.max()"
   ]
  },
  {
   "cell_type": "code",
   "execution_count": null,
   "id": "a7689d0a",
   "metadata": {},
   "outputs": [],
   "source": [
    "lat_steps = math.ceil((lat_end - lat_start) / lat_diff) + 1\n",
    "lon_steps = math.ceil((lon_end - lon_start) / lon_diff) + 1"
   ]
  },
  {
   "cell_type": "code",
   "execution_count": null,
   "id": "3e8d7ad9",
   "metadata": {},
   "outputs": [],
   "source": [
    "lats_grid = lat_start + np.arange(lat_steps) * lat_diff\n",
    "lons_grid = lon_start + np.arange(lon_steps) * lon_diff"
   ]
  },
  {
   "cell_type": "code",
   "execution_count": null,
   "id": "7959f817",
   "metadata": {},
   "outputs": [],
   "source": [
    "grid = np.empty((len(lats_grid), len(lons_grid)), dtype=object)\n",
    "coast_vecs = np.empty((len(lats_grid), len(lons_grid)), dtype=object)"
   ]
  },
  {
   "cell_type": "code",
   "execution_count": null,
   "id": "c7be7e83",
   "metadata": {},
   "outputs": [],
   "source": [
    "# I tried to do something like ray tracing, realized I couldn't be bothered to think about it\n",
    "# here, have this brute force approach instead\n",
    "# lol\n",
    "# I assume the coordinates use an Arakawa A-grid\n",
    "for i in range(len(lats_grid)):\n",
    "    for j in range(len(lons_grid)):\n",
    "        latmin = lats_grid[i] - lat_diff / 2\n",
    "        latmax = lats_grid[i] + lat_diff / 2\n",
    "        lonmin = lons_grid[j] - lon_diff / 2\n",
    "        lonmax = lons_grid[j] + lon_diff / 2\n",
    "        grid[i, j] = box(latmin, lonmin, latmax, lonmax)"
   ]
  },
  {
   "cell_type": "code",
   "execution_count": null,
   "id": "afcc8034",
   "metadata": {},
   "outputs": [],
   "source": [
    "for (i, j), gridbox in np.ndenumerate(grid):\n",
    "    if coastline.intersects(gridbox):\n",
    "        for segment in coast_segments:\n",
    "            if segment.intersects(gridbox):\n",
    "                seg_lats, seg_lons = segment.xy\n",
    "                vec = (seg_lons[1] - seg_lons[0], seg_lats[1] - seg_lats[0])\n",
    "                coast_vecs[i, j] = vec"
   ]
  },
  {
   "cell_type": "code",
   "execution_count": null,
   "id": "e9c9867b",
   "metadata": {},
   "outputs": [],
   "source": [
    "import matplotlib.pyplot as plt\n",
    "plt.figure(figsize=(10, 10))\n",
    "plt.scatter(np.where(coast_vecs != None)[1], np.where(coast_vecs != None)[0], s=2)"
   ]
  },
  {
   "cell_type": "markdown",
   "id": "51ac84d0",
   "metadata": {},
   "source": [
    "### The vectors at each coastline grid point tangental to the coastline"
   ]
  },
  {
   "cell_type": "code",
   "execution_count": null,
   "id": "23f527a2",
   "metadata": {},
   "outputs": [],
   "source": [
    "plt.figure(figsize=(10, 10))\n",
    "coast_vecs_where = np.where(coast_vecs != None)\n",
    "plt.quiver(\n",
    "    coast_vecs_where[1],\n",
    "    coast_vecs_where[0],\n",
    "    list(map(lambda x: x[0], coast_vecs[coast_vecs_where])),\n",
    "    list(map(lambda x: x[1], coast_vecs[coast_vecs_where])),\n",
    "    width=0.001,\n",
    "    pivot='mid'\n",
    ")"
   ]
  },
  {
   "cell_type": "code",
   "execution_count": null,
   "id": "24a0cc6f",
   "metadata": {},
   "outputs": [],
   "source": [
    "coast_u = np.tile((np.full(grid.shape, np.nan)), (len(vel_ds[\"time\"]), 1, 1))\n",
    "coast_v = np.tile((np.full(grid.shape, np.nan)), (len(vel_ds[\"time\"]), 1, 1))\n",
    "mgrid = np.meshgrid(vel_ds[\"lat\"], vel_ds[\"lon\"], indexing=\"ij\")"
   ]
  },
  {
   "cell_type": "code",
   "execution_count": null,
   "id": "7880a810",
   "metadata": {
    "scrolled": true
   },
   "outputs": [],
   "source": [
    "# this is gonna take a while to run\n",
    "for i in range(len(vel_ds[\"time\"])):\n",
    "    nonzero = np.where(~np.isnan(vel_ds[\"U\"])[i])\n",
    "    if len(nonzero[0]) == 0:\n",
    "        continue\n",
    "    positions = np.array([mgrid[0][nonzero], mgrid[1][nonzero]]).T\n",
    "    kdtree = scipy.spatial.KDTree(positions)\n",
    "    u = vel_ds[\"U\"][i].values\n",
    "    v = vel_ds[\"V\"][i].values\n",
    "    for j in range(grid.shape[0]):\n",
    "        for k in range(grid.shape[1]):\n",
    "            if coast_vecs[j, k] is not None:\n",
    "                closest_idx = kdtree.query([lats_grid[j], lons_grid[k]])[1]\n",
    "                closest_u = u[nonzero[0][closest_idx], nonzero[1][closest_idx]]\n",
    "                closest_v = v[nonzero[0][closest_idx], nonzero[1][closest_idx]]\n",
    "                vec = coast_vecs[j, k]  # this order should be in u, v (it was diff lon, diff lat)\n",
    "                # project u, v pair onto coastline vector\n",
    "                scalar = (closest_u * vec[0] + closest_v * vec[1]) / (vec[0] ** 2 + vec[1] ** 2)\n",
    "                coast_u[i, j, k] = scalar * vec[0]\n",
    "                coast_v[i, j, k] = scalar * vec[1]"
   ]
  },
  {
   "cell_type": "markdown",
   "id": "6e23588c",
   "metadata": {},
   "source": [
    "### The alongshore current calculated along each coast grid point\n",
    "\n",
    "This is for a single timestamp"
   ]
  },
  {
   "cell_type": "code",
   "execution_count": null,
   "id": "9742b587",
   "metadata": {
    "scrolled": false
   },
   "outputs": [],
   "source": [
    "from pyplume.plotting import get_carree_axis, get_carree_gl\n",
    "import cartopy\n",
    "import cartopy.crs as ccrs\n",
    "\n",
    "idx = 0\n",
    "tstamp = vel_ds[\"time\"][0].values\n",
    "othermgrid = np.meshgrid(lats_grid, lons_grid, indexing=\"ij\")\n",
    "us = coast_u[idx].flatten()\n",
    "vs = coast_v[idx].flatten()\n",
    "mags = np.sqrt(us ** 2 + vs ** 2)\n",
    "fig = plt.figure(figsize=(10, 10))\n",
    "ax = fig.add_subplot(111, projection=ccrs.PlateCarree())\n",
    "ax.add_feature(cartopy.feature.COASTLINE)\n",
    "quiv = ax.quiver(\n",
    "    othermgrid[1].flatten(),\n",
    "    othermgrid[0].flatten(),\n",
    "    us,\n",
    "    vs,\n",
    "    mags,\n",
    "    scale=6\n",
    ")\n",
    "get_carree_gl(ax)\n",
    "cbar = fig.colorbar(quiv, shrink=0.6)\n",
    "cbar.ax.get_yaxis().labelpad = 15\n",
    "cbar.ax.set_ylabel(\"Alongshore current velocity (m/s)\", rotation=270)\n",
    "ax.set_title(f\"Alongshore velocities on {tstamp}\")\n",
    "fig.show()"
   ]
  },
  {
   "cell_type": "code",
   "execution_count": null,
   "id": "8f3659ac",
   "metadata": {},
   "outputs": [],
   "source": [
    "ds = xr.Dataset(\n",
    "    data_vars={\n",
    "        \"U\": ([\"time\", \"lat\", \"lon\"], coast_u),\n",
    "        \"V\": ([\"time\", \"lat\", \"lon\"], coast_v)\n",
    "    },\n",
    "    coords={\n",
    "        \"time\": vel_ds[\"time\"],\n",
    "        \"lat\": lats_grid,\n",
    "        \"lon\": lons_grid\n",
    "    }\n",
    ")"
   ]
  },
  {
   "cell_type": "code",
   "execution_count": null,
   "id": "3b63685e",
   "metadata": {},
   "outputs": [],
   "source": [
    "from parcels import Field, VectorField\n",
    "from parcels.tools.converters import GeographicPolar, Geographic\n",
    "from pyplume.dataloaders import dataset_to_fieldset\n",
    "\n",
    "fu = Field.from_xarray(ds[\"U\"], \"CU\", dict(lat=\"lat\", lon=\"lon\", time=\"time\"), interp_method=\"nearest\")\n",
    "fu.units = GeographicPolar()\n",
    "fv = Field.from_xarray(ds[\"V\"], \"CV\", dict(lat=\"lat\", lon=\"lon\", time=\"time\"), interp_method=\"nearest\")\n",
    "fv.units = Geographic()\n",
    "fuv = VectorField(\"CUV\", fu, fv)"
   ]
  },
  {
   "cell_type": "code",
   "execution_count": null,
   "id": "d65704ec",
   "metadata": {},
   "outputs": [],
   "source": [
    "ds.to_netcdf(output_file)"
   ]
  }
 ],
 "metadata": {
  "kernelspec": {
   "display_name": "Python 3.7.10 ('py3-parcels')",
   "language": "python",
   "name": "python3"
  },
  "language_info": {
   "codemirror_mode": {
    "name": "ipython",
    "version": 3
   },
   "file_extension": ".py",
   "mimetype": "text/x-python",
   "name": "python",
   "nbconvert_exporter": "python",
   "pygments_lexer": "ipython3",
   "version": "3.7.10"
  },
  "vscode": {
   "interpreter": {
    "hash": "0eba6c4b74a2f8ee4f11000f0a8df2ef42b87fd4ae75b12d527f1b8c08aad6c6"
   }
  }
 },
 "nbformat": 4,
 "nbformat_minor": 5
}
