{
 "cells": [
  {
   "cell_type": "markdown",
   "id": "6ce4c416",
   "metadata": {},
   "source": [
    "# converting wind files into NetCDF\n",
    "\n",
    "It's easiest if wind data is converted into a constant file type, so NetCDF it is.\n",
    "\n",
    "Different sections of the notebook will have different code on converting files from different sources.\n",
    "\n",
    "The simulations only support NetCDF data right now, sooooooo"
   ]
  },
  {
   "cell_type": "markdown",
   "id": "dc7e7131",
   "metadata": {},
   "source": [
    "## from txt file from national data buoy center\n",
    "\n",
    "https://www.ndbc.noaa.gov/"
   ]
  },
  {
   "cell_type": "code",
   "execution_count": null,
   "id": "87833907",
   "metadata": {
    "ExecuteTime": {
     "end_time": "2021-10-12T20:26:10.051693Z",
     "start_time": "2021-10-12T20:26:10.048629Z"
    }
   },
   "outputs": [],
   "source": [
    "import pandas as pd\n",
    "import xarray as xr\n",
    "import numpy as np\n",
    "\n",
    "infile = \"data/field_netcdfs/ndbc_46025_wind.txt\"\n",
    "outfile = \"data/field_netcdfs/ndbc_46025_wind.nc\""
   ]
  },
  {
   "cell_type": "code",
   "execution_count": null,
   "id": "df7299de",
   "metadata": {
    "ExecuteTime": {
     "end_time": "2021-10-12T20:26:10.228899Z",
     "start_time": "2021-10-12T20:26:10.208524Z"
    }
   },
   "outputs": [],
   "source": [
    "df = pd.read_csv(infile, r\" +\")\n",
    "# units row, drop\n",
    "df = df.drop(0)\n",
    "df = df.drop(df[df[\"WDIR\"] == \"MM\"].index)\n",
    "df"
   ]
  },
  {
   "cell_type": "code",
   "execution_count": null,
   "id": "a2923829",
   "metadata": {},
   "outputs": [],
   "source": [
    "new_df[\"time\"].shape"
   ]
  },
  {
   "cell_type": "code",
   "execution_count": null,
   "id": "f31ab685",
   "metadata": {
    "ExecuteTime": {
     "end_time": "2021-10-12T20:26:10.468976Z",
     "start_time": "2021-10-12T20:26:10.423855Z"
    }
   },
   "outputs": [],
   "source": [
    "# notes: wind direction is where wind is coming from, pointing in opposite direction\n",
    "# 3% of wspd added to ocean vector\n",
    "uw_obs = -df[\"WSPD\"].astype(float).values * np.sin(\n",
    "    np.deg2rad(df[\"WDIR\"].astype(float).values)\n",
    ")\n",
    "vw_obs = -df[\"WSPD\"].astype(float).values * np.cos(\n",
    "    np.deg2rad(df[\"WDIR\"].astype(float).values)\n",
    ")\n",
    "\n",
    "# the column names are different oh god why\n",
    "timestamp = (\n",
    "    df[\"%YY\"] + \"-\" + df[\"MM\"] + \"-\" + df[\"DD\"] + \"T\" + df[\"hh\"] + \":\" + df[\"mm\"]\n",
    ")\n",
    "timestamp = pd.to_datetime(timestamp)\n",
    "\n",
    "new_df = pd.DataFrame({\"time\": timestamp, \"u\": uw_obs, \"v\": vw_obs})\n",
    "new_df = new_df.sort_values(by=\"time\")\n",
    "\n",
    "u = xr.DataArray(new_df[\"u\"], coords={\"time\": new_df[\"time\"]})\n",
    "v = xr.DataArray(new_df[\"v\"], coords={\"time\": new_df[\"time\"]})\n",
    "\n",
    "ds = xr.Dataset({\"U\": u, \"V\": v})\n",
    "ds"
   ]
  },
  {
   "cell_type": "code",
   "execution_count": null,
   "id": "a1a89425",
   "metadata": {},
   "outputs": [],
   "source": [
    "ds.to_netcdf(outfile)"
   ]
  },
  {
   "cell_type": "markdown",
   "id": "670c8698",
   "metadata": {},
   "source": [
    "## converting from .mat file lol\n",
    "\n",
    "generated mat files from GFS data will have U and V components created from John's code"
   ]
  },
  {
   "cell_type": "code",
   "execution_count": null,
   "id": "df5bdd24",
   "metadata": {},
   "outputs": [],
   "source": [
    "from scipy.io import loadmat\n",
    "import numpy as np\n",
    "import xarray as xr\n",
    "import datetime\n",
    "\n",
    "infile = \"data/field_netcdfs/GFS_PointSource_winds_188_3325.mat\"\n",
    "outfile = \"data/field_netcdfs/GFS_PointSource_Winds_188_3325.nc\""
   ]
  },
  {
   "cell_type": "code",
   "execution_count": null,
   "id": "d14ac950",
   "metadata": {},
   "outputs": [],
   "source": [
    "winds = loadmat(infile)\n",
    "converted = [datetime.datetime.strptime(t, \"%m-%d-%Y %H:%M\") for t in winds[\"time_str\"]]\n",
    "times = np.array(converted, dtype=np.datetime64)\n",
    "u = xr.DataArray(winds[\"u\"].squeeze(), coords={\"time\": times})\n",
    "v = xr.DataArray(winds[\"v\"].squeeze(), coords={\"time\": times})\n",
    "ds = xr.Dataset({\"U\": u, \"V\": v})\n",
    "ds"
   ]
  },
  {
   "cell_type": "code",
   "execution_count": null,
   "id": "89311ed5",
   "metadata": {},
   "outputs": [],
   "source": [
    "ds.to_netcdf(outfile)"
   ]
  }
 ],
 "metadata": {
  "kernelspec": {
   "display_name": "Python 3.7.10 ('py3-parcels')",
   "language": "python",
   "name": "python3"
  },
  "language_info": {
   "codemirror_mode": {
    "name": "ipython",
    "version": 3
   },
   "file_extension": ".py",
   "mimetype": "text/x-python",
   "name": "python",
   "nbconvert_exporter": "python",
   "pygments_lexer": "ipython3",
   "version": "3.7.10"
  },
  "vscode": {
   "interpreter": {
    "hash": "0eba6c4b74a2f8ee4f11000f0a8df2ef42b87fd4ae75b12d527f1b8c08aad6c6"
   }
  }
 },
 "nbformat": 4,
 "nbformat_minor": 5
}
