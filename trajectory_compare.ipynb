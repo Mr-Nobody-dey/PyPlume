{
 "cells": [
  {
   "cell_type": "markdown",
   "metadata": {},
   "source": [
    "# trajectory_compare\n",
    "\n",
    "compare multiple particle trajectory files and .mat outputs with the same spawn points"
   ]
  },
  {
   "cell_type": "code",
   "execution_count": null,
   "metadata": {},
   "outputs": [],
   "source": [
    "%matplotlib inline\n",
    "%load_ext autoreload\n",
    "%autoreload 2"
   ]
  },
  {
   "cell_type": "code",
   "execution_count": null,
   "metadata": {},
   "outputs": [],
   "source": [
    "from pathlib import Path\n",
    "\n",
    "import numpy as np\n",
    "import xarray as xr\n",
    "\n",
    "from utils import create_path\n",
    "from parcels_utils import arrays_to_particlefilenc\n",
    "from plot_utils import plot_trajectories"
   ]
  },
  {
   "cell_type": "code",
   "execution_count": null,
   "metadata": {},
   "outputs": [],
   "source": [
    "def get_part_hash(ds, i):\n",
    "    lat = ds[\"lat\"].values[i, 0]\n",
    "    lon = ds[\"lon\"].values[i, 0]\n",
    "    return hash((lat, lon))"
   ]
  },
  {
   "cell_type": "code",
   "execution_count": null,
   "metadata": {},
   "outputs": [],
   "source": [
    "# first file in list is used as a reference for every particle's starting point\n",
    "particle_file_paths = [\n",
    "    \"particledata/particle_plume_track.nc\",\n",
    "    \"particledata/particle_plume_track_totsdlj.nc\",\n",
    "    \"particledata/plume_pts_20200810_0030.nc\",\n",
    "]\n",
    "\n",
    "particle_files = []\n",
    "for path in particle_file_paths:\n",
    "    with xr.open_dataset(path) as pf:\n",
    "        particle_files.append(pf)"
   ]
  },
  {
   "cell_type": "code",
   "execution_count": null,
   "metadata": {},
   "outputs": [],
   "source": [
    "ref_file = particle_files[0]"
   ]
  },
  {
   "cell_type": "code",
   "execution_count": null,
   "metadata": {},
   "outputs": [],
   "source": [
    "particle_ids = np.empty(ref_file.dims[\"traj\"])\n",
    "for i in range(ref_file.dims[\"traj\"]):\n",
    "    particle_ids[i] = get_part_hash(ref_file, i)"
   ]
  },
  {
   "cell_type": "markdown",
   "metadata": {},
   "source": [
    "iterates through the points in the reference netcdf and treats them as spawn points\n",
    "\n",
    "then it checks all the other netcdf files for points with the same spawn, and then graphs them to compare\n",
    "\n",
    "saves a separate netcdf file for each spawn and each different particle file given"
   ]
  },
  {
   "cell_type": "code",
   "execution_count": null,
   "metadata": {
    "scrolled": true
   },
   "outputs": [],
   "source": [
    "a = 250\n",
    "for p_id in particle_ids[a:a+10]:\n",
    "    nc_files = []\n",
    "    for pf_i in range(len(particle_files)):\n",
    "        pf = particle_files[pf_i]\n",
    "        for i in range(pf.dims[\"traj\"]):\n",
    "            if p_id != get_part_hash(pf, i):\n",
    "                continue\n",
    "            num_format = format(p_id, \".0f\")\n",
    "            save_path = create_path(f\"particledata/plume_compare/{num_format}\")\n",
    "            time = pf[\"time\"].values[np.newaxis, i]\n",
    "            lat = pf[\"lat\"].values[np.newaxis, i]\n",
    "            lon = pf[\"lon\"].values[np.newaxis, i]\n",
    "            # recreate particle netcdf to drop data we don't need\n",
    "            ds = arrays_to_particlefilenc(time, lat, lon)\n",
    "            name = particle_file_paths[pf_i].split(\"/\")[-1].split(\".\")[0]\n",
    "            ds.to_netcdf(f\"{save_path / Path(name)}.nc\")\n",
    "            nc_files.append(f\"{save_path / Path(name)}.nc\")\n",
    "            break\n",
    "    plot_trajectories(nc_files, legend=True)"
   ]
  }
 ],
 "metadata": {
  "kernelspec": {
   "display_name": "py3_parcels",
   "language": "python",
   "name": "py3_parcels"
  },
  "language_info": {
   "codemirror_mode": {
    "name": "ipython",
    "version": 3
   },
   "file_extension": ".py",
   "mimetype": "text/x-python",
   "name": "python",
   "nbconvert_exporter": "python",
   "pygments_lexer": "ipython3",
   "version": "3.6.10"
  }
 },
 "nbformat": 4,
 "nbformat_minor": 4
}
